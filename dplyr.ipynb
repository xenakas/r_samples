{
 "cells": [
  {
   "cell_type": "markdown",
   "metadata": {},
   "source": [
    "###  dplyr"
   ]
  },
  {
   "cell_type": "code",
   "execution_count": null,
   "metadata": {},
   "outputs": [],
   "source": [
    "src_mysql(dbname, host = NULL)"
   ]
  },
  {
   "cell_type": "code",
   "execution_count": 105,
   "metadata": {
    "ExecuteTime": {
     "end_time": "2019-08-06T08:07:45.935287Z",
     "start_time": "2019-08-06T08:07:45.848Z"
    }
   },
   "outputs": [
    {
     "data": {
      "text/html": [
       "<table>\n",
       "<thead><tr><th scope=col>carat</th><th scope=col>cut</th><th scope=col>color</th><th scope=col>clarity</th></tr></thead>\n",
       "<tbody>\n",
       "\t<tr><td>0.23   </td><td>Ideal  </td><td>E      </td><td>SI2    </td></tr>\n",
       "\t<tr><td>0.21   </td><td>Premium</td><td>E      </td><td>SI1    </td></tr>\n",
       "</tbody>\n",
       "</table>\n"
      ],
      "text/latex": [
       "\\begin{tabular}{r|llll}\n",
       " carat & cut & color & clarity\\\\\n",
       "\\hline\n",
       "\t 0.23    & Ideal   & E       & SI2    \\\\\n",
       "\t 0.21    & Premium & E       & SI1    \\\\\n",
       "\\end{tabular}\n"
      ],
      "text/markdown": [
       "\n",
       "carat | cut | color | clarity | \n",
       "|---|---|\n",
       "| 0.23    | Ideal   | E       | SI2     | \n",
       "| 0.21    | Premium | E       | SI1     | \n",
       "\n",
       "\n"
      ],
      "text/plain": [
       "  carat cut     color clarity\n",
       "1 0.23  Ideal   E     SI2    \n",
       "2 0.21  Premium E     SI1    "
      ]
     },
     "metadata": {},
     "output_type": "display_data"
    },
    {
     "data": {
      "text/html": [
       "<table>\n",
       "<thead><tr><th scope=col>table</th><th scope=col>price</th></tr></thead>\n",
       "<tbody>\n",
       "\t<tr><td>55 </td><td>326</td></tr>\n",
       "\t<tr><td>61 </td><td>326</td></tr>\n",
       "</tbody>\n",
       "</table>\n"
      ],
      "text/latex": [
       "\\begin{tabular}{r|ll}\n",
       " table & price\\\\\n",
       "\\hline\n",
       "\t 55  & 326\\\\\n",
       "\t 61  & 326\\\\\n",
       "\\end{tabular}\n"
      ],
      "text/markdown": [
       "\n",
       "table | price | \n",
       "|---|---|\n",
       "| 55  | 326 | \n",
       "| 61  | 326 | \n",
       "\n",
       "\n"
      ],
      "text/plain": [
       "  table price\n",
       "1 55    326  \n",
       "2 61    326  "
      ]
     },
     "metadata": {},
     "output_type": "display_data"
    },
    {
     "data": {
      "text/html": [
       "<table>\n",
       "<thead><tr><th scope=col>depth</th><th scope=col>price</th></tr></thead>\n",
       "<tbody>\n",
       "\t<tr><td>61.5</td><td>326 </td></tr>\n",
       "\t<tr><td>59.8</td><td>326 </td></tr>\n",
       "</tbody>\n",
       "</table>\n"
      ],
      "text/latex": [
       "\\begin{tabular}{r|ll}\n",
       " depth & price\\\\\n",
       "\\hline\n",
       "\t 61.5 & 326 \\\\\n",
       "\t 59.8 & 326 \\\\\n",
       "\\end{tabular}\n"
      ],
      "text/markdown": [
       "\n",
       "depth | price | \n",
       "|---|---|\n",
       "| 61.5 | 326  | \n",
       "| 59.8 | 326  | \n",
       "\n",
       "\n"
      ],
      "text/plain": [
       "  depth price\n",
       "1 61.5  326  \n",
       "2 59.8  326  "
      ]
     },
     "metadata": {},
     "output_type": "display_data"
    },
    {
     "data": {
      "text/html": [
       "<table>\n",
       "<thead><tr><th scope=col>depth</th></tr></thead>\n",
       "<tbody>\n",
       "\t<tr><td>61.5</td></tr>\n",
       "\t<tr><td>59.8</td></tr>\n",
       "</tbody>\n",
       "</table>\n"
      ],
      "text/latex": [
       "\\begin{tabular}{r|l}\n",
       " depth\\\\\n",
       "\\hline\n",
       "\t 61.5\\\\\n",
       "\t 59.8\\\\\n",
       "\\end{tabular}\n"
      ],
      "text/markdown": [
       "\n",
       "depth | \n",
       "|---|---|\n",
       "| 61.5 | \n",
       "| 59.8 | \n",
       "\n",
       "\n"
      ],
      "text/plain": [
       "  depth\n",
       "1 61.5 \n",
       "2 59.8 "
      ]
     },
     "metadata": {},
     "output_type": "display_data"
    },
    {
     "name": "stderr",
     "output_type": "stream",
     "text": [
      "Warning message:\n",
      "“Unknown columns: `garbage`”"
     ]
    },
    {
     "data": {
      "text/html": [
       "<table>\n",
       "<thead><tr><th scope=col>cut</th><th scope=col>price</th></tr></thead>\n",
       "<tbody>\n",
       "\t<tr><td>Ideal  </td><td>326    </td></tr>\n",
       "\t<tr><td>Premium</td><td>326    </td></tr>\n",
       "\t<tr><td>Good   </td><td>327    </td></tr>\n",
       "\t<tr><td>Premium</td><td>334    </td></tr>\n",
       "\t<tr><td>Good   </td><td>335    </td></tr>\n",
       "</tbody>\n",
       "</table>\n"
      ],
      "text/latex": [
       "\\begin{tabular}{r|ll}\n",
       " cut & price\\\\\n",
       "\\hline\n",
       "\t Ideal   & 326    \\\\\n",
       "\t Premium & 326    \\\\\n",
       "\t Good    & 327    \\\\\n",
       "\t Premium & 334    \\\\\n",
       "\t Good    & 335    \\\\\n",
       "\\end{tabular}\n"
      ],
      "text/markdown": [
       "\n",
       "cut | price | \n",
       "|---|---|---|---|---|\n",
       "| Ideal   | 326     | \n",
       "| Premium | 326     | \n",
       "| Good    | 327     | \n",
       "| Premium | 334     | \n",
       "| Good    | 335     | \n",
       "\n",
       "\n"
      ],
      "text/plain": [
       "  cut     price\n",
       "1 Ideal   326  \n",
       "2 Premium 326  \n",
       "3 Good    327  \n",
       "4 Premium 334  \n",
       "5 Good    335  "
      ]
     },
     "metadata": {},
     "output_type": "display_data"
    },
    {
     "ename": "ERROR",
     "evalue": "Error in .f(.x[[i]], ...): object 'garbage' not found\n",
     "output_type": "error",
     "traceback": [
      "Error in .f(.x[[i]], ...): object 'garbage' not found\nTraceback:\n",
      "1. diamonds %>% select(cut, price, garbage) %>% head(5)",
      "2. withVisible(eval(quote(`_fseq`(`_lhs`)), env, env))",
      "3. eval(quote(`_fseq`(`_lhs`)), env, env)",
      "4. eval(quote(`_fseq`(`_lhs`)), env, env)",
      "5. `_fseq`(`_lhs`)",
      "6. freduce(value, `_function_list`)",
      "7. function_list[[i]](value)",
      "8. select(., cut, price, garbage)",
      "9. select.data.frame(., cut, price, garbage)",
      "10. tidyselect::vars_select(sel_vars(.data), !!!quos(...))",
      "11. vars_select_eval(.vars, quos)",
      "12. map_if(quos, !is_helper, eval_tidy, mask)",
      "13. map(.x[sel], .f, ...)",
      "14. .f(.x[[i]], ...)"
     ]
    }
   ],
   "source": [
    "library(dplyr)\n",
    "head(select(diamonds, starts_with(\"c\")), 2)\n",
    "head(select(diamonds, ends_with(\"e\")), 2)\n",
    "head(select(diamonds, contains(\"p\")), 2)\n",
    "head(select(diamonds, matches(\".p\")), 2)\n",
    "#select(d, matches(\"unit_[1-3]_score\"))\n",
    "#select(d, num_range(\"unit_\", 1:3, \"_score\"))\n",
    "diamonds %>% select(one_of(c(\"cut\",\"price\",\"garbage\")))  %>%  head(5)\n",
    "diamonds %>% select(cut,price,garbage)  %>%  head(5)"
   ]
  },
  {
   "cell_type": "code",
   "execution_count": 36,
   "metadata": {
    "ExecuteTime": {
     "end_time": "2019-08-06T07:32:30.001937Z",
     "start_time": "2019-08-06T07:32:29.982Z"
    }
   },
   "outputs": [
    {
     "data": {
      "text/html": [
       "<table>\n",
       "<thead><tr><th scope=col>carat</th><th scope=col>cut</th><th scope=col>color</th><th scope=col>clarity</th><th scope=col>depth</th><th scope=col>table</th><th scope=col>price</th><th scope=col>x</th><th scope=col>y</th><th scope=col>z</th></tr></thead>\n",
       "<tbody>\n",
       "\t<tr><td>1.20 </td><td>Ideal</td><td>J    </td><td>SI2  </td><td>59.1 </td><td>62   </td><td> 4509</td><td>6.97 </td><td>6.94 </td><td>4.11 </td></tr>\n",
       "\t<tr><td>1.00 </td><td>Ideal</td><td>E    </td><td>SI1  </td><td>60.1 </td><td>62   </td><td> 5629</td><td>6.46 </td><td>6.48 </td><td>3.89 </td></tr>\n",
       "\t<tr><td>2.51 </td><td>Ideal</td><td>I    </td><td>SI2  </td><td>58.4 </td><td>62   </td><td>18037</td><td>8.87 </td><td>8.79 </td><td>5.15 </td></tr>\n",
       "\t<tr><td>0.31 </td><td>Ideal</td><td>E    </td><td>VVS2 </td><td>59.9 </td><td>62   </td><td>  755</td><td>4.40 </td><td>4.41 </td><td>2.64 </td></tr>\n",
       "\t<tr><td>0.40 </td><td>Ideal</td><td>E    </td><td>VS1  </td><td>59.2 </td><td>62   </td><td> 1180</td><td>4.80 </td><td>4.83 </td><td>2.85 </td></tr>\n",
       "\t<tr><td>0.51 </td><td>Ideal</td><td>E    </td><td>SI2  </td><td>58.3 </td><td>62   </td><td> 1268</td><td>5.20 </td><td>5.19 </td><td>3.04 </td></tr>\n",
       "\t<tr><td>0.50 </td><td>Ideal</td><td>E    </td><td>SI1  </td><td>59.7 </td><td>62   </td><td> 1331</td><td>5.16 </td><td>5.19 </td><td>3.09 </td></tr>\n",
       "</tbody>\n",
       "</table>\n"
      ],
      "text/latex": [
       "\\begin{tabular}{r|llllllllll}\n",
       " carat & cut & color & clarity & depth & table & price & x & y & z\\\\\n",
       "\\hline\n",
       "\t 1.20  & Ideal & J     & SI2   & 59.1  & 62    &  4509 & 6.97  & 6.94  & 4.11 \\\\\n",
       "\t 1.00  & Ideal & E     & SI1   & 60.1  & 62    &  5629 & 6.46  & 6.48  & 3.89 \\\\\n",
       "\t 2.51  & Ideal & I     & SI2   & 58.4  & 62    & 18037 & 8.87  & 8.79  & 5.15 \\\\\n",
       "\t 0.31  & Ideal & E     & VVS2  & 59.9  & 62    &   755 & 4.40  & 4.41  & 2.64 \\\\\n",
       "\t 0.40  & Ideal & E     & VS1   & 59.2  & 62    &  1180 & 4.80  & 4.83  & 2.85 \\\\\n",
       "\t 0.51  & Ideal & E     & SI2   & 58.3  & 62    &  1268 & 5.20  & 5.19  & 3.04 \\\\\n",
       "\t 0.50  & Ideal & E     & SI1   & 59.7  & 62    &  1331 & 5.16  & 5.19  & 3.09 \\\\\n",
       "\\end{tabular}\n"
      ],
      "text/markdown": [
       "\n",
       "carat | cut | color | clarity | depth | table | price | x | y | z | \n",
       "|---|---|---|---|---|---|---|\n",
       "| 1.20  | Ideal | J     | SI2   | 59.1  | 62    |  4509 | 6.97  | 6.94  | 4.11  | \n",
       "| 1.00  | Ideal | E     | SI1   | 60.1  | 62    |  5629 | 6.46  | 6.48  | 3.89  | \n",
       "| 2.51  | Ideal | I     | SI2   | 58.4  | 62    | 18037 | 8.87  | 8.79  | 5.15  | \n",
       "| 0.31  | Ideal | E     | VVS2  | 59.9  | 62    |   755 | 4.40  | 4.41  | 2.64  | \n",
       "| 0.40  | Ideal | E     | VS1   | 59.2  | 62    |  1180 | 4.80  | 4.83  | 2.85  | \n",
       "| 0.51  | Ideal | E     | SI2   | 58.3  | 62    |  1268 | 5.20  | 5.19  | 3.04  | \n",
       "| 0.50  | Ideal | E     | SI1   | 59.7  | 62    |  1331 | 5.16  | 5.19  | 3.09  | \n",
       "\n",
       "\n"
      ],
      "text/plain": [
       "  carat cut   color clarity depth table price x    y    z   \n",
       "1 1.20  Ideal J     SI2     59.1  62     4509 6.97 6.94 4.11\n",
       "2 1.00  Ideal E     SI1     60.1  62     5629 6.46 6.48 3.89\n",
       "3 2.51  Ideal I     SI2     58.4  62    18037 8.87 8.79 5.15\n",
       "4 0.31  Ideal E     VVS2    59.9  62      755 4.40 4.41 2.64\n",
       "5 0.40  Ideal E     VS1     59.2  62     1180 4.80 4.83 2.85\n",
       "6 0.51  Ideal E     SI2     58.3  62     1268 5.20 5.19 3.04\n",
       "7 0.50  Ideal E     SI1     59.7  62     1331 5.16 5.19 3.09"
      ]
     },
     "metadata": {},
     "output_type": "display_data"
    }
   ],
   "source": [
    "filter(diamonds, (color == 'E' | clarity == 'SI2') & cut == 'Ideal' & table > 61)"
   ]
  },
  {
   "cell_type": "code",
   "execution_count": 110,
   "metadata": {
    "ExecuteTime": {
     "end_time": "2019-08-06T08:10:34.931637Z",
     "start_time": "2019-08-06T08:10:34.915Z"
    }
   },
   "outputs": [
    {
     "data": {
      "text/html": [
       "<table>\n",
       "<thead><tr><th scope=col>carat</th><th scope=col>cut</th><th scope=col>color</th><th scope=col>clarity</th><th scope=col>depth</th><th scope=col>table</th><th scope=col>price</th><th scope=col>x</th><th scope=col>y</th><th scope=col>z</th></tr></thead>\n",
       "<tbody>\n",
       "\t<tr><td>1.27     </td><td>Very Good</td><td>H        </td><td>SI2      </td><td>60.6     </td><td>59       </td><td>5715     </td><td>6.97     </td><td>7.00     </td><td>4.23     </td></tr>\n",
       "\t<tr><td>1.26     </td><td>Very Good</td><td>H        </td><td>SI1      </td><td>60.6     </td><td>60       </td><td>6546     </td><td>6.97     </td><td>7.00     </td><td>4.23     </td></tr>\n",
       "\t<tr><td>1.30     </td><td>Very Good</td><td>H        </td><td>SI1      </td><td>62.3     </td><td>58       </td><td>6758     </td><td>6.97     </td><td>7.03     </td><td>4.36     </td></tr>\n",
       "\t<tr><td>1.19     </td><td>Very Good</td><td>H        </td><td>VS2      </td><td>60.5     </td><td>59       </td><td>6781     </td><td>6.97     </td><td>7.00     </td><td>4.17     </td></tr>\n",
       "\t<tr><td>1.30     </td><td>Very Good</td><td>H        </td><td>VS1      </td><td>61.9     </td><td>56       </td><td>7747     </td><td>6.97     </td><td>7.05     </td><td>4.34     </td></tr>\n",
       "\t<tr><td>0.50     </td><td>Very Good</td><td>H        </td><td>SI1      </td><td>60.0     </td><td>55       </td><td>1148     </td><td>5.20     </td><td>5.23     </td><td>3.13     </td></tr>\n",
       "\t<tr><td>0.53     </td><td>Very Good</td><td>H        </td><td>SI1      </td><td>61.7     </td><td>55       </td><td>1189     </td><td>5.20     </td><td>5.24     </td><td>3.22     </td></tr>\n",
       "\t<tr><td>0.54     </td><td>Very Good</td><td>H        </td><td>VVS1     </td><td>62.0     </td><td>57       </td><td>1846     </td><td>5.20     </td><td>5.25     </td><td>3.24     </td></tr>\n",
       "</tbody>\n",
       "</table>\n"
      ],
      "text/latex": [
       "\\begin{tabular}{r|llllllllll}\n",
       " carat & cut & color & clarity & depth & table & price & x & y & z\\\\\n",
       "\\hline\n",
       "\t 1.27      & Very Good & H         & SI2       & 60.6      & 59        & 5715      & 6.97      & 7.00      & 4.23     \\\\\n",
       "\t 1.26      & Very Good & H         & SI1       & 60.6      & 60        & 6546      & 6.97      & 7.00      & 4.23     \\\\\n",
       "\t 1.30      & Very Good & H         & SI1       & 62.3      & 58        & 6758      & 6.97      & 7.03      & 4.36     \\\\\n",
       "\t 1.19      & Very Good & H         & VS2       & 60.5      & 59        & 6781      & 6.97      & 7.00      & 4.17     \\\\\n",
       "\t 1.30      & Very Good & H         & VS1       & 61.9      & 56        & 7747      & 6.97      & 7.05      & 4.34     \\\\\n",
       "\t 0.50      & Very Good & H         & SI1       & 60.0      & 55        & 1148      & 5.20      & 5.23      & 3.13     \\\\\n",
       "\t 0.53      & Very Good & H         & SI1       & 61.7      & 55        & 1189      & 5.20      & 5.24      & 3.22     \\\\\n",
       "\t 0.54      & Very Good & H         & VVS1      & 62.0      & 57        & 1846      & 5.20      & 5.25      & 3.24     \\\\\n",
       "\\end{tabular}\n"
      ],
      "text/markdown": [
       "\n",
       "carat | cut | color | clarity | depth | table | price | x | y | z | \n",
       "|---|---|---|---|---|---|---|---|\n",
       "| 1.27      | Very Good | H         | SI2       | 60.6      | 59        | 5715      | 6.97      | 7.00      | 4.23      | \n",
       "| 1.26      | Very Good | H         | SI1       | 60.6      | 60        | 6546      | 6.97      | 7.00      | 4.23      | \n",
       "| 1.30      | Very Good | H         | SI1       | 62.3      | 58        | 6758      | 6.97      | 7.03      | 4.36      | \n",
       "| 1.19      | Very Good | H         | VS2       | 60.5      | 59        | 6781      | 6.97      | 7.00      | 4.17      | \n",
       "| 1.30      | Very Good | H         | VS1       | 61.9      | 56        | 7747      | 6.97      | 7.05      | 4.34      | \n",
       "| 0.50      | Very Good | H         | SI1       | 60.0      | 55        | 1148      | 5.20      | 5.23      | 3.13      | \n",
       "| 0.53      | Very Good | H         | SI1       | 61.7      | 55        | 1189      | 5.20      | 5.24      | 3.22      | \n",
       "| 0.54      | Very Good | H         | VVS1      | 62.0      | 57        | 1846      | 5.20      | 5.25      | 3.24      | \n",
       "\n",
       "\n"
      ],
      "text/plain": [
       "  carat cut       color clarity depth table price x    y    z   \n",
       "1 1.27  Very Good H     SI2     60.6  59    5715  6.97 7.00 4.23\n",
       "2 1.26  Very Good H     SI1     60.6  60    6546  6.97 7.00 4.23\n",
       "3 1.30  Very Good H     SI1     62.3  58    6758  6.97 7.03 4.36\n",
       "4 1.19  Very Good H     VS2     60.5  59    6781  6.97 7.00 4.17\n",
       "5 1.30  Very Good H     VS1     61.9  56    7747  6.97 7.05 4.34\n",
       "6 0.50  Very Good H     SI1     60.0  55    1148  5.20 5.23 3.13\n",
       "7 0.53  Very Good H     SI1     61.7  55    1189  5.20 5.24 3.22\n",
       "8 0.54  Very Good H     VVS1    62.0  57    1846  5.20 5.25 3.24"
      ]
     },
     "metadata": {},
     "output_type": "display_data"
    }
   ],
   "source": [
    "filter(diamonds, x %in% c(6.97, 5.2) & color == 'H' & cut == 'Very Good')\n"
   ]
  },
  {
   "cell_type": "code",
   "execution_count": 39,
   "metadata": {
    "ExecuteTime": {
     "end_time": "2019-08-06T07:34:02.473822Z",
     "start_time": "2019-08-06T07:34:02.459Z"
    }
   },
   "outputs": [
    {
     "data": {
      "text/html": [
       "<table>\n",
       "<thead><tr><th></th><th scope=col>mpg</th><th scope=col>cyl</th><th scope=col>disp</th><th scope=col>hp</th><th scope=col>drat</th><th scope=col>wt</th><th scope=col>qsec</th><th scope=col>vs</th><th scope=col>am</th><th scope=col>gear</th><th scope=col>carb</th></tr></thead>\n",
       "<tbody>\n",
       "\t<tr><th scope=row>Mazda RX4</th><td>21.0 </td><td>6    </td><td>160  </td><td>110  </td><td>3.90 </td><td>2.620</td><td>16.46</td><td>0    </td><td>1    </td><td>4    </td><td>4    </td></tr>\n",
       "\t<tr><th scope=row>Mazda RX4 Wag</th><td>21.0 </td><td>6    </td><td>160  </td><td>110  </td><td>3.90 </td><td>2.875</td><td>17.02</td><td>0    </td><td>1    </td><td>4    </td><td>4    </td></tr>\n",
       "\t<tr><th scope=row>Datsun 710</th><td>22.8 </td><td>4    </td><td>108  </td><td> 93  </td><td>3.85 </td><td>2.320</td><td>18.61</td><td>1    </td><td>1    </td><td>4    </td><td>1    </td></tr>\n",
       "\t<tr><th scope=row>Hornet 4 Drive</th><td>21.4 </td><td>6    </td><td>258  </td><td>110  </td><td>3.08 </td><td>3.215</td><td>19.44</td><td>1    </td><td>0    </td><td>3    </td><td>1    </td></tr>\n",
       "\t<tr><th scope=row>Hornet Sportabout</th><td>18.7 </td><td>8    </td><td>360  </td><td>175  </td><td>3.15 </td><td>3.440</td><td>17.02</td><td>0    </td><td>0    </td><td>3    </td><td>2    </td></tr>\n",
       "\t<tr><th scope=row>Valiant</th><td>18.1 </td><td>6    </td><td>225  </td><td>105  </td><td>2.76 </td><td>3.460</td><td>20.22</td><td>1    </td><td>0    </td><td>3    </td><td>1    </td></tr>\n",
       "</tbody>\n",
       "</table>\n"
      ],
      "text/latex": [
       "\\begin{tabular}{r|lllllllllll}\n",
       "  & mpg & cyl & disp & hp & drat & wt & qsec & vs & am & gear & carb\\\\\n",
       "\\hline\n",
       "\tMazda RX4 & 21.0  & 6     & 160   & 110   & 3.90  & 2.620 & 16.46 & 0     & 1     & 4     & 4    \\\\\n",
       "\tMazda RX4 Wag & 21.0  & 6     & 160   & 110   & 3.90  & 2.875 & 17.02 & 0     & 1     & 4     & 4    \\\\\n",
       "\tDatsun 710 & 22.8  & 4     & 108   &  93   & 3.85  & 2.320 & 18.61 & 1     & 1     & 4     & 1    \\\\\n",
       "\tHornet 4 Drive & 21.4  & 6     & 258   & 110   & 3.08  & 3.215 & 19.44 & 1     & 0     & 3     & 1    \\\\\n",
       "\tHornet Sportabout & 18.7  & 8     & 360   & 175   & 3.15  & 3.440 & 17.02 & 0     & 0     & 3     & 2    \\\\\n",
       "\tValiant & 18.1  & 6     & 225   & 105   & 2.76  & 3.460 & 20.22 & 1     & 0     & 3     & 1    \\\\\n",
       "\\end{tabular}\n"
      ],
      "text/markdown": [
       "\n",
       "| <!--/--> | mpg | cyl | disp | hp | drat | wt | qsec | vs | am | gear | carb | \n",
       "|---|---|---|---|---|---|\n",
       "| Mazda RX4 | 21.0  | 6     | 160   | 110   | 3.90  | 2.620 | 16.46 | 0     | 1     | 4     | 4     | \n",
       "| Mazda RX4 Wag | 21.0  | 6     | 160   | 110   | 3.90  | 2.875 | 17.02 | 0     | 1     | 4     | 4     | \n",
       "| Datsun 710 | 22.8  | 4     | 108   |  93   | 3.85  | 2.320 | 18.61 | 1     | 1     | 4     | 1     | \n",
       "| Hornet 4 Drive | 21.4  | 6     | 258   | 110   | 3.08  | 3.215 | 19.44 | 1     | 0     | 3     | 1     | \n",
       "| Hornet Sportabout | 18.7  | 8     | 360   | 175   | 3.15  | 3.440 | 17.02 | 0     | 0     | 3     | 2     | \n",
       "| Valiant | 18.1  | 6     | 225   | 105   | 2.76  | 3.460 | 20.22 | 1     | 0     | 3     | 1     | \n",
       "\n",
       "\n"
      ],
      "text/plain": [
       "                  mpg  cyl disp hp  drat wt    qsec  vs am gear carb\n",
       "Mazda RX4         21.0 6   160  110 3.90 2.620 16.46 0  1  4    4   \n",
       "Mazda RX4 Wag     21.0 6   160  110 3.90 2.875 17.02 0  1  4    4   \n",
       "Datsun 710        22.8 4   108   93 3.85 2.320 18.61 1  1  4    1   \n",
       "Hornet 4 Drive    21.4 6   258  110 3.08 3.215 19.44 1  0  3    1   \n",
       "Hornet Sportabout 18.7 8   360  175 3.15 3.440 17.02 0  0  3    2   \n",
       "Valiant           18.1 6   225  105 2.76 3.460 20.22 1  0  3    1   "
      ]
     },
     "metadata": {},
     "output_type": "display_data"
    }
   ],
   "source": [
    "head(mtcars)"
   ]
  },
  {
   "cell_type": "code",
   "execution_count": 45,
   "metadata": {
    "ExecuteTime": {
     "end_time": "2019-08-06T07:35:35.089338Z",
     "start_time": "2019-08-06T07:35:35.066Z"
    }
   },
   "outputs": [
    {
     "data": {
      "text/html": [
       "<table>\n",
       "<thead><tr><th scope=col>mpg</th><th scope=col>cyl</th><th scope=col>disp</th><th scope=col>hp</th><th scope=col>drat</th><th scope=col>wt</th><th scope=col>qsec</th><th scope=col>vs</th><th scope=col>am</th><th scope=col>gear</th><th scope=col>carb</th></tr></thead>\n",
       "<tbody>\n",
       "\t<tr><td>30.4 </td><td>4    </td><td> 75.7</td><td> 52  </td><td>4.93 </td><td>1.615</td><td>18.52</td><td>1    </td><td>1    </td><td>4    </td><td>2    </td></tr>\n",
       "\t<tr><td>26.0 </td><td>4    </td><td>120.3</td><td> 91  </td><td>4.43 </td><td>2.140</td><td>16.70</td><td>0    </td><td>1    </td><td>5    </td><td>2    </td></tr>\n",
       "\t<tr><td>33.9 </td><td>4    </td><td> 71.1</td><td> 65  </td><td>4.22 </td><td>1.835</td><td>19.90</td><td>1    </td><td>1    </td><td>4    </td><td>1    </td></tr>\n",
       "\t<tr><td>21.4 </td><td>4    </td><td>121.0</td><td>109  </td><td>4.11 </td><td>2.780</td><td>18.60</td><td>1    </td><td>1    </td><td>4    </td><td>2    </td></tr>\n",
       "\t<tr><td>32.4 </td><td>4    </td><td> 78.7</td><td> 66  </td><td>4.08 </td><td>2.200</td><td>19.47</td><td>1    </td><td>1    </td><td>4    </td><td>1    </td></tr>\n",
       "\t<tr><td>27.3 </td><td>4    </td><td> 79.0</td><td> 66  </td><td>4.08 </td><td>1.935</td><td>18.90</td><td>1    </td><td>1    </td><td>4    </td><td>1    </td></tr>\n",
       "</tbody>\n",
       "</table>\n"
      ],
      "text/latex": [
       "\\begin{tabular}{r|lllllllllll}\n",
       " mpg & cyl & disp & hp & drat & wt & qsec & vs & am & gear & carb\\\\\n",
       "\\hline\n",
       "\t 30.4  & 4     &  75.7 &  52   & 4.93  & 1.615 & 18.52 & 1     & 1     & 4     & 2    \\\\\n",
       "\t 26.0  & 4     & 120.3 &  91   & 4.43  & 2.140 & 16.70 & 0     & 1     & 5     & 2    \\\\\n",
       "\t 33.9  & 4     &  71.1 &  65   & 4.22  & 1.835 & 19.90 & 1     & 1     & 4     & 1    \\\\\n",
       "\t 21.4  & 4     & 121.0 & 109   & 4.11  & 2.780 & 18.60 & 1     & 1     & 4     & 2    \\\\\n",
       "\t 32.4  & 4     &  78.7 &  66   & 4.08  & 2.200 & 19.47 & 1     & 1     & 4     & 1    \\\\\n",
       "\t 27.3  & 4     &  79.0 &  66   & 4.08  & 1.935 & 18.90 & 1     & 1     & 4     & 1    \\\\\n",
       "\\end{tabular}\n"
      ],
      "text/markdown": [
       "\n",
       "mpg | cyl | disp | hp | drat | wt | qsec | vs | am | gear | carb | \n",
       "|---|---|---|---|---|---|\n",
       "| 30.4  | 4     |  75.7 |  52   | 4.93  | 1.615 | 18.52 | 1     | 1     | 4     | 2     | \n",
       "| 26.0  | 4     | 120.3 |  91   | 4.43  | 2.140 | 16.70 | 0     | 1     | 5     | 2     | \n",
       "| 33.9  | 4     |  71.1 |  65   | 4.22  | 1.835 | 19.90 | 1     | 1     | 4     | 1     | \n",
       "| 21.4  | 4     | 121.0 | 109   | 4.11  | 2.780 | 18.60 | 1     | 1     | 4     | 2     | \n",
       "| 32.4  | 4     |  78.7 |  66   | 4.08  | 2.200 | 19.47 | 1     | 1     | 4     | 1     | \n",
       "| 27.3  | 4     |  79.0 |  66   | 4.08  | 1.935 | 18.90 | 1     | 1     | 4     | 1     | \n",
       "\n",
       "\n"
      ],
      "text/plain": [
       "  mpg  cyl disp  hp  drat wt    qsec  vs am gear carb\n",
       "1 30.4 4    75.7  52 4.93 1.615 18.52 1  1  4    2   \n",
       "2 26.0 4   120.3  91 4.43 2.140 16.70 0  1  5    2   \n",
       "3 33.9 4    71.1  65 4.22 1.835 19.90 1  1  4    1   \n",
       "4 21.4 4   121.0 109 4.11 2.780 18.60 1  1  4    2   \n",
       "5 32.4 4    78.7  66 4.08 2.200 19.47 1  1  4    1   \n",
       "6 27.3 4    79.0  66 4.08 1.935 18.90 1  1  4    1   "
      ]
     },
     "metadata": {},
     "output_type": "display_data"
    }
   ],
   "source": [
    "head(arrange(mtcars, cyl, desc(drat)))"
   ]
  },
  {
   "cell_type": "markdown",
   "metadata": {
    "ExecuteTime": {
     "end_time": "2019-08-06T07:35:23.380714Z",
     "start_time": "2019-08-06T07:35:23.320Z"
    }
   },
   "source": [
    "grouped arrange ignores groups, unless you specifically ask"
   ]
  },
  {
   "cell_type": "code",
   "execution_count": 51,
   "metadata": {
    "ExecuteTime": {
     "end_time": "2019-08-06T07:37:17.480164Z",
     "start_time": "2019-08-06T07:37:17.445Z"
    }
   },
   "outputs": [
    {
     "data": {
      "text/html": [
       "<table>\n",
       "<thead><tr><th scope=col>mpg</th><th scope=col>cyl</th><th scope=col>disp</th><th scope=col>hp</th><th scope=col>drat</th><th scope=col>wt</th><th scope=col>qsec</th><th scope=col>vs</th><th scope=col>am</th><th scope=col>gear</th><th scope=col>carb</th></tr></thead>\n",
       "<tbody>\n",
       "\t<tr><td>21.0 </td><td>6    </td><td>160  </td><td>110  </td><td>3.90 </td><td>2.620</td><td>16.46</td><td>0    </td><td>1    </td><td>4    </td><td>4    </td></tr>\n",
       "\t<tr><td>21.0 </td><td>6    </td><td>160  </td><td>110  </td><td>3.90 </td><td>2.875</td><td>17.02</td><td>0    </td><td>1    </td><td>4    </td><td>4    </td></tr>\n",
       "\t<tr><td>22.8 </td><td>4    </td><td>108  </td><td> 93  </td><td>3.85 </td><td>2.320</td><td>18.61</td><td>1    </td><td>1    </td><td>4    </td><td>1    </td></tr>\n",
       "\t<tr><td>21.4 </td><td>6    </td><td>258  </td><td>110  </td><td>3.08 </td><td>3.215</td><td>19.44</td><td>1    </td><td>0    </td><td>3    </td><td>1    </td></tr>\n",
       "\t<tr><td>18.7 </td><td>8    </td><td>360  </td><td>175  </td><td>3.15 </td><td>3.440</td><td>17.02</td><td>0    </td><td>0    </td><td>3    </td><td>2    </td></tr>\n",
       "\t<tr><td>18.1 </td><td>6    </td><td>225  </td><td>105  </td><td>2.76 </td><td>3.460</td><td>20.22</td><td>1    </td><td>0    </td><td>3    </td><td>1    </td></tr>\n",
       "</tbody>\n",
       "</table>\n"
      ],
      "text/latex": [
       "\\begin{tabular}{r|lllllllllll}\n",
       " mpg & cyl & disp & hp & drat & wt & qsec & vs & am & gear & carb\\\\\n",
       "\\hline\n",
       "\t 21.0  & 6     & 160   & 110   & 3.90  & 2.620 & 16.46 & 0     & 1     & 4     & 4    \\\\\n",
       "\t 21.0  & 6     & 160   & 110   & 3.90  & 2.875 & 17.02 & 0     & 1     & 4     & 4    \\\\\n",
       "\t 22.8  & 4     & 108   &  93   & 3.85  & 2.320 & 18.61 & 1     & 1     & 4     & 1    \\\\\n",
       "\t 21.4  & 6     & 258   & 110   & 3.08  & 3.215 & 19.44 & 1     & 0     & 3     & 1    \\\\\n",
       "\t 18.7  & 8     & 360   & 175   & 3.15  & 3.440 & 17.02 & 0     & 0     & 3     & 2    \\\\\n",
       "\t 18.1  & 6     & 225   & 105   & 2.76  & 3.460 & 20.22 & 1     & 0     & 3     & 1    \\\\\n",
       "\\end{tabular}\n"
      ],
      "text/markdown": [
       "\n",
       "mpg | cyl | disp | hp | drat | wt | qsec | vs | am | gear | carb | \n",
       "|---|---|---|---|---|---|\n",
       "| 21.0  | 6     | 160   | 110   | 3.90  | 2.620 | 16.46 | 0     | 1     | 4     | 4     | \n",
       "| 21.0  | 6     | 160   | 110   | 3.90  | 2.875 | 17.02 | 0     | 1     | 4     | 4     | \n",
       "| 22.8  | 4     | 108   |  93   | 3.85  | 2.320 | 18.61 | 1     | 1     | 4     | 1     | \n",
       "| 21.4  | 6     | 258   | 110   | 3.08  | 3.215 | 19.44 | 1     | 0     | 3     | 1     | \n",
       "| 18.7  | 8     | 360   | 175   | 3.15  | 3.440 | 17.02 | 0     | 0     | 3     | 2     | \n",
       "| 18.1  | 6     | 225   | 105   | 2.76  | 3.460 | 20.22 | 1     | 0     | 3     | 1     | \n",
       "\n",
       "\n"
      ],
      "text/plain": [
       "  mpg  cyl disp hp  drat wt    qsec  vs am gear carb\n",
       "1 21.0 6   160  110 3.90 2.620 16.46 0  1  4    4   \n",
       "2 21.0 6   160  110 3.90 2.875 17.02 0  1  4    4   \n",
       "3 22.8 4   108   93 3.85 2.320 18.61 1  1  4    1   \n",
       "4 21.4 6   258  110 3.08 3.215 19.44 1  0  3    1   \n",
       "5 18.7 8   360  175 3.15 3.440 17.02 0  0  3    2   \n",
       "6 18.1 6   225  105 2.76 3.460 20.22 1  0  3    1   "
      ]
     },
     "metadata": {},
     "output_type": "display_data"
    }
   ],
   "source": [
    "by_cyl <- mtcars %>% group_by(cyl)\n",
    "head(by_cyl)"
   ]
  },
  {
   "cell_type": "code",
   "execution_count": 52,
   "metadata": {
    "ExecuteTime": {
     "end_time": "2019-08-06T07:37:40.126520Z",
     "start_time": "2019-08-06T07:37:40.109Z"
    }
   },
   "outputs": [
    {
     "data": {
      "text/html": [
       "<table>\n",
       "<thead><tr><th scope=col>mpg</th><th scope=col>cyl</th><th scope=col>disp</th><th scope=col>hp</th><th scope=col>drat</th><th scope=col>wt</th><th scope=col>qsec</th><th scope=col>vs</th><th scope=col>am</th><th scope=col>gear</th><th scope=col>carb</th></tr></thead>\n",
       "<tbody>\n",
       "\t<tr><td>10.4 </td><td>8    </td><td>460.0</td><td>215  </td><td>3.00 </td><td>5.424</td><td>17.82</td><td>0    </td><td>0    </td><td>3    </td><td>4    </td></tr>\n",
       "\t<tr><td>14.7 </td><td>8    </td><td>440.0</td><td>230  </td><td>3.23 </td><td>5.345</td><td>17.42</td><td>0    </td><td>0    </td><td>3    </td><td>4    </td></tr>\n",
       "\t<tr><td>10.4 </td><td>8    </td><td>472.0</td><td>205  </td><td>2.93 </td><td>5.250</td><td>17.98</td><td>0    </td><td>0    </td><td>3    </td><td>4    </td></tr>\n",
       "\t<tr><td>16.4 </td><td>8    </td><td>275.8</td><td>180  </td><td>3.07 </td><td>4.070</td><td>17.40</td><td>0    </td><td>0    </td><td>3    </td><td>3    </td></tr>\n",
       "\t<tr><td>19.2 </td><td>8    </td><td>400.0</td><td>175  </td><td>3.08 </td><td>3.845</td><td>17.05</td><td>0    </td><td>0    </td><td>3    </td><td>2    </td></tr>\n",
       "\t<tr><td>13.3 </td><td>8    </td><td>350.0</td><td>245  </td><td>3.73 </td><td>3.840</td><td>15.41</td><td>0    </td><td>0    </td><td>3    </td><td>4    </td></tr>\n",
       "</tbody>\n",
       "</table>\n"
      ],
      "text/latex": [
       "\\begin{tabular}{r|lllllllllll}\n",
       " mpg & cyl & disp & hp & drat & wt & qsec & vs & am & gear & carb\\\\\n",
       "\\hline\n",
       "\t 10.4  & 8     & 460.0 & 215   & 3.00  & 5.424 & 17.82 & 0     & 0     & 3     & 4    \\\\\n",
       "\t 14.7  & 8     & 440.0 & 230   & 3.23  & 5.345 & 17.42 & 0     & 0     & 3     & 4    \\\\\n",
       "\t 10.4  & 8     & 472.0 & 205   & 2.93  & 5.250 & 17.98 & 0     & 0     & 3     & 4    \\\\\n",
       "\t 16.4  & 8     & 275.8 & 180   & 3.07  & 4.070 & 17.40 & 0     & 0     & 3     & 3    \\\\\n",
       "\t 19.2  & 8     & 400.0 & 175   & 3.08  & 3.845 & 17.05 & 0     & 0     & 3     & 2    \\\\\n",
       "\t 13.3  & 8     & 350.0 & 245   & 3.73  & 3.840 & 15.41 & 0     & 0     & 3     & 4    \\\\\n",
       "\\end{tabular}\n"
      ],
      "text/markdown": [
       "\n",
       "mpg | cyl | disp | hp | drat | wt | qsec | vs | am | gear | carb | \n",
       "|---|---|---|---|---|---|\n",
       "| 10.4  | 8     | 460.0 | 215   | 3.00  | 5.424 | 17.82 | 0     | 0     | 3     | 4     | \n",
       "| 14.7  | 8     | 440.0 | 230   | 3.23  | 5.345 | 17.42 | 0     | 0     | 3     | 4     | \n",
       "| 10.4  | 8     | 472.0 | 205   | 2.93  | 5.250 | 17.98 | 0     | 0     | 3     | 4     | \n",
       "| 16.4  | 8     | 275.8 | 180   | 3.07  | 4.070 | 17.40 | 0     | 0     | 3     | 3     | \n",
       "| 19.2  | 8     | 400.0 | 175   | 3.08  | 3.845 | 17.05 | 0     | 0     | 3     | 2     | \n",
       "| 13.3  | 8     | 350.0 | 245   | 3.73  | 3.840 | 15.41 | 0     | 0     | 3     | 4     | \n",
       "\n",
       "\n"
      ],
      "text/plain": [
       "  mpg  cyl disp  hp  drat wt    qsec  vs am gear carb\n",
       "1 10.4 8   460.0 215 3.00 5.424 17.82 0  0  3    4   \n",
       "2 14.7 8   440.0 230 3.23 5.345 17.42 0  0  3    4   \n",
       "3 10.4 8   472.0 205 2.93 5.250 17.98 0  0  3    4   \n",
       "4 16.4 8   275.8 180 3.07 4.070 17.40 0  0  3    3   \n",
       "5 19.2 8   400.0 175 3.08 3.845 17.05 0  0  3    2   \n",
       "6 13.3 8   350.0 245 3.73 3.840 15.41 0  0  3    4   "
      ]
     },
     "metadata": {},
     "output_type": "display_data"
    }
   ],
   "source": [
    "head(by_cyl %>% arrange(desc(wt)))"
   ]
  },
  {
   "cell_type": "code",
   "execution_count": 53,
   "metadata": {
    "ExecuteTime": {
     "end_time": "2019-08-06T07:37:52.444198Z",
     "start_time": "2019-08-06T07:37:52.429Z"
    }
   },
   "outputs": [
    {
     "data": {
      "text/html": [
       "<table>\n",
       "<thead><tr><th scope=col>mpg</th><th scope=col>cyl</th><th scope=col>disp</th><th scope=col>hp</th><th scope=col>drat</th><th scope=col>wt</th><th scope=col>qsec</th><th scope=col>vs</th><th scope=col>am</th><th scope=col>gear</th><th scope=col>carb</th></tr></thead>\n",
       "<tbody>\n",
       "\t<tr><td>24.4 </td><td>4    </td><td>146.7</td><td> 62  </td><td>3.69 </td><td>3.190</td><td>20.00</td><td>1    </td><td>0    </td><td>4    </td><td>2    </td></tr>\n",
       "\t<tr><td>22.8 </td><td>4    </td><td>140.8</td><td> 95  </td><td>3.92 </td><td>3.150</td><td>22.90</td><td>1    </td><td>0    </td><td>4    </td><td>2    </td></tr>\n",
       "\t<tr><td>21.4 </td><td>4    </td><td>121.0</td><td>109  </td><td>4.11 </td><td>2.780</td><td>18.60</td><td>1    </td><td>1    </td><td>4    </td><td>2    </td></tr>\n",
       "\t<tr><td>21.5 </td><td>4    </td><td>120.1</td><td> 97  </td><td>3.70 </td><td>2.465</td><td>20.01</td><td>1    </td><td>0    </td><td>3    </td><td>1    </td></tr>\n",
       "\t<tr><td>22.8 </td><td>4    </td><td>108.0</td><td> 93  </td><td>3.85 </td><td>2.320</td><td>18.61</td><td>1    </td><td>1    </td><td>4    </td><td>1    </td></tr>\n",
       "\t<tr><td>32.4 </td><td>4    </td><td> 78.7</td><td> 66  </td><td>4.08 </td><td>2.200</td><td>19.47</td><td>1    </td><td>1    </td><td>4    </td><td>1    </td></tr>\n",
       "</tbody>\n",
       "</table>\n"
      ],
      "text/latex": [
       "\\begin{tabular}{r|lllllllllll}\n",
       " mpg & cyl & disp & hp & drat & wt & qsec & vs & am & gear & carb\\\\\n",
       "\\hline\n",
       "\t 24.4  & 4     & 146.7 &  62   & 3.69  & 3.190 & 20.00 & 1     & 0     & 4     & 2    \\\\\n",
       "\t 22.8  & 4     & 140.8 &  95   & 3.92  & 3.150 & 22.90 & 1     & 0     & 4     & 2    \\\\\n",
       "\t 21.4  & 4     & 121.0 & 109   & 4.11  & 2.780 & 18.60 & 1     & 1     & 4     & 2    \\\\\n",
       "\t 21.5  & 4     & 120.1 &  97   & 3.70  & 2.465 & 20.01 & 1     & 0     & 3     & 1    \\\\\n",
       "\t 22.8  & 4     & 108.0 &  93   & 3.85  & 2.320 & 18.61 & 1     & 1     & 4     & 1    \\\\\n",
       "\t 32.4  & 4     &  78.7 &  66   & 4.08  & 2.200 & 19.47 & 1     & 1     & 4     & 1    \\\\\n",
       "\\end{tabular}\n"
      ],
      "text/markdown": [
       "\n",
       "mpg | cyl | disp | hp | drat | wt | qsec | vs | am | gear | carb | \n",
       "|---|---|---|---|---|---|\n",
       "| 24.4  | 4     | 146.7 |  62   | 3.69  | 3.190 | 20.00 | 1     | 0     | 4     | 2     | \n",
       "| 22.8  | 4     | 140.8 |  95   | 3.92  | 3.150 | 22.90 | 1     | 0     | 4     | 2     | \n",
       "| 21.4  | 4     | 121.0 | 109   | 4.11  | 2.780 | 18.60 | 1     | 1     | 4     | 2     | \n",
       "| 21.5  | 4     | 120.1 |  97   | 3.70  | 2.465 | 20.01 | 1     | 0     | 3     | 1     | \n",
       "| 22.8  | 4     | 108.0 |  93   | 3.85  | 2.320 | 18.61 | 1     | 1     | 4     | 1     | \n",
       "| 32.4  | 4     |  78.7 |  66   | 4.08  | 2.200 | 19.47 | 1     | 1     | 4     | 1     | \n",
       "\n",
       "\n"
      ],
      "text/plain": [
       "  mpg  cyl disp  hp  drat wt    qsec  vs am gear carb\n",
       "1 24.4 4   146.7  62 3.69 3.190 20.00 1  0  4    2   \n",
       "2 22.8 4   140.8  95 3.92 3.150 22.90 1  0  4    2   \n",
       "3 21.4 4   121.0 109 4.11 2.780 18.60 1  1  4    2   \n",
       "4 21.5 4   120.1  97 3.70 2.465 20.01 1  0  3    1   \n",
       "5 22.8 4   108.0  93 3.85 2.320 18.61 1  1  4    1   \n",
       "6 32.4 4    78.7  66 4.08 2.200 19.47 1  1  4    1   "
      ]
     },
     "metadata": {},
     "output_type": "display_data"
    }
   ],
   "source": [
    "head(by_cyl %>% arrange(desc(wt), .by_group = TRUE))"
   ]
  },
  {
   "cell_type": "code",
   "execution_count": 78,
   "metadata": {
    "ExecuteTime": {
     "end_time": "2019-08-06T07:49:33.829971Z",
     "start_time": "2019-08-06T07:49:33.813Z"
    }
   },
   "outputs": [
    {
     "data": {
      "text/html": [
       "<table>\n",
       "<thead><tr><th scope=col>mpg</th><th scope=col>cyl</th><th scope=col>disp</th><th scope=col>hp</th><th scope=col>drat</th><th scope=col>wt</th><th scope=col>qsec</th><th scope=col>vs</th><th scope=col>am</th><th scope=col>gear</th><th scope=col>carb</th><th scope=col>displ_l13</th></tr></thead>\n",
       "<tbody>\n",
       "\t<tr><td>21.0    </td><td>6       </td><td>160     </td><td>110     </td><td>3.90    </td><td>2.620   </td><td>16.46   </td><td>0       </td><td>1       </td><td>4       </td><td>4       </td><td>2.621932</td></tr>\n",
       "\t<tr><td>21.0    </td><td>6       </td><td>160     </td><td>110     </td><td>3.90    </td><td>2.875   </td><td>17.02   </td><td>0       </td><td>1       </td><td>4       </td><td>4       </td><td>2.621932</td></tr>\n",
       "\t<tr><td>22.8    </td><td>4       </td><td>108     </td><td> 93     </td><td>3.85    </td><td>2.320   </td><td>18.61   </td><td>1       </td><td>1       </td><td>4       </td><td>1       </td><td>1.769804</td></tr>\n",
       "\t<tr><td>21.4    </td><td>6       </td><td>258     </td><td>110     </td><td>3.08    </td><td>3.215   </td><td>19.44   </td><td>1       </td><td>0       </td><td>3       </td><td>1       </td><td>4.227866</td></tr>\n",
       "\t<tr><td>18.7    </td><td>8       </td><td>360     </td><td>175     </td><td>3.15    </td><td>3.440   </td><td>17.02   </td><td>0       </td><td>0       </td><td>3       </td><td>2       </td><td>5.899347</td></tr>\n",
       "\t<tr><td>18.1    </td><td>6       </td><td>225     </td><td>105     </td><td>2.76    </td><td>3.460   </td><td>20.22   </td><td>1       </td><td>0       </td><td>3       </td><td>1       </td><td>3.687092</td></tr>\n",
       "</tbody>\n",
       "</table>\n"
      ],
      "text/latex": [
       "\\begin{tabular}{r|llllllllllll}\n",
       " mpg & cyl & disp & hp & drat & wt & qsec & vs & am & gear & carb & displ\\_l13\\\\\n",
       "\\hline\n",
       "\t 21.0     & 6        & 160      & 110      & 3.90     & 2.620    & 16.46    & 0        & 1        & 4        & 4        & 2.621932\\\\\n",
       "\t 21.0     & 6        & 160      & 110      & 3.90     & 2.875    & 17.02    & 0        & 1        & 4        & 4        & 2.621932\\\\\n",
       "\t 22.8     & 4        & 108      &  93      & 3.85     & 2.320    & 18.61    & 1        & 1        & 4        & 1        & 1.769804\\\\\n",
       "\t 21.4     & 6        & 258      & 110      & 3.08     & 3.215    & 19.44    & 1        & 0        & 3        & 1        & 4.227866\\\\\n",
       "\t 18.7     & 8        & 360      & 175      & 3.15     & 3.440    & 17.02    & 0        & 0        & 3        & 2        & 5.899347\\\\\n",
       "\t 18.1     & 6        & 225      & 105      & 2.76     & 3.460    & 20.22    & 1        & 0        & 3        & 1        & 3.687092\\\\\n",
       "\\end{tabular}\n"
      ],
      "text/markdown": [
       "\n",
       "mpg | cyl | disp | hp | drat | wt | qsec | vs | am | gear | carb | displ_l13 | \n",
       "|---|---|---|---|---|---|\n",
       "| 21.0     | 6        | 160      | 110      | 3.90     | 2.620    | 16.46    | 0        | 1        | 4        | 4        | 2.621932 | \n",
       "| 21.0     | 6        | 160      | 110      | 3.90     | 2.875    | 17.02    | 0        | 1        | 4        | 4        | 2.621932 | \n",
       "| 22.8     | 4        | 108      |  93      | 3.85     | 2.320    | 18.61    | 1        | 1        | 4        | 1        | 1.769804 | \n",
       "| 21.4     | 6        | 258      | 110      | 3.08     | 3.215    | 19.44    | 1        | 0        | 3        | 1        | 4.227866 | \n",
       "| 18.7     | 8        | 360      | 175      | 3.15     | 3.440    | 17.02    | 0        | 0        | 3        | 2        | 5.899347 | \n",
       "| 18.1     | 6        | 225      | 105      | 2.76     | 3.460    | 20.22    | 1        | 0        | 3        | 1        | 3.687092 | \n",
       "\n",
       "\n"
      ],
      "text/plain": [
       "  mpg  cyl disp hp  drat wt    qsec  vs am gear carb displ_l13\n",
       "1 21.0 6   160  110 3.90 2.620 16.46 0  1  4    4    2.621932 \n",
       "2 21.0 6   160  110 3.90 2.875 17.02 0  1  4    4    2.621932 \n",
       "3 22.8 4   108   93 3.85 2.320 18.61 1  1  4    1    1.769804 \n",
       "4 21.4 6   258  110 3.08 3.215 19.44 1  0  3    1    4.227866 \n",
       "5 18.7 8   360  175 3.15 3.440 17.02 0  0  3    2    5.899347 \n",
       "6 18.1 6   225  105 2.76 3.460 20.22 1  0  3    1    3.687092 "
      ]
     },
     "metadata": {},
     "output_type": "display_data"
    }
   ],
   "source": [
    "head(mutate(mtcars, displ_l13 = disp / 61.0237))"
   ]
  },
  {
   "cell_type": "markdown",
   "metadata": {},
   "source": [
    "If you only want to keep the new variables, use `transmute()`"
   ]
  },
  {
   "cell_type": "code",
   "execution_count": 80,
   "metadata": {
    "ExecuteTime": {
     "end_time": "2019-08-06T07:49:51.417452Z",
     "start_time": "2019-08-06T07:49:51.400Z"
    }
   },
   "outputs": [
    {
     "data": {
      "text/html": [
       "<table>\n",
       "<thead><tr><th scope=col>displ_l12</th></tr></thead>\n",
       "<tbody>\n",
       "\t<tr><td>2.621932</td></tr>\n",
       "\t<tr><td>2.621932</td></tr>\n",
       "\t<tr><td>1.769804</td></tr>\n",
       "\t<tr><td>4.227866</td></tr>\n",
       "\t<tr><td>5.899347</td></tr>\n",
       "\t<tr><td>3.687092</td></tr>\n",
       "</tbody>\n",
       "</table>\n"
      ],
      "text/latex": [
       "\\begin{tabular}{r|l}\n",
       " displ\\_l12\\\\\n",
       "\\hline\n",
       "\t 2.621932\\\\\n",
       "\t 2.621932\\\\\n",
       "\t 1.769804\\\\\n",
       "\t 4.227866\\\\\n",
       "\t 5.899347\\\\\n",
       "\t 3.687092\\\\\n",
       "\\end{tabular}\n"
      ],
      "text/markdown": [
       "\n",
       "displ_l12 | \n",
       "|---|---|---|---|---|---|\n",
       "| 2.621932 | \n",
       "| 2.621932 | \n",
       "| 1.769804 | \n",
       "| 4.227866 | \n",
       "| 5.899347 | \n",
       "| 3.687092 | \n",
       "\n",
       "\n"
      ],
      "text/plain": [
       "  displ_l12\n",
       "1 2.621932 \n",
       "2 2.621932 \n",
       "3 1.769804 \n",
       "4 4.227866 \n",
       "5 5.899347 \n",
       "6 3.687092 "
      ]
     },
     "metadata": {},
     "output_type": "display_data"
    }
   ],
   "source": [
    "head(transmute(mtcars, displ_l12 = disp / 61.0237))"
   ]
  },
  {
   "cell_type": "code",
   "execution_count": 82,
   "metadata": {
    "ExecuteTime": {
     "end_time": "2019-08-06T07:51:10.509198Z",
     "start_time": "2019-08-06T07:51:10.497Z"
    }
   },
   "outputs": [
    {
     "data": {
      "text/html": [
       "<table>\n",
       "<thead><tr><th scope=col>mean</th><th scope=col>n</th></tr></thead>\n",
       "<tbody>\n",
       "\t<tr><td>230.7219</td><td>32      </td></tr>\n",
       "</tbody>\n",
       "</table>\n"
      ],
      "text/latex": [
       "\\begin{tabular}{r|ll}\n",
       " mean & n\\\\\n",
       "\\hline\n",
       "\t 230.7219 & 32      \\\\\n",
       "\\end{tabular}\n"
      ],
      "text/markdown": [
       "\n",
       "mean | n | \n",
       "|---|\n",
       "| 230.7219 | 32       | \n",
       "\n",
       "\n"
      ],
      "text/plain": [
       "  mean     n \n",
       "1 230.7219 32"
      ]
     },
     "metadata": {},
     "output_type": "display_data"
    }
   ],
   "source": [
    "mtcars %>%\n",
    "  summarise(mean = mean(disp), n = n()) "
   ]
  },
  {
   "cell_type": "code",
   "execution_count": 83,
   "metadata": {
    "ExecuteTime": {
     "end_time": "2019-08-06T07:51:14.454299Z",
     "start_time": "2019-08-06T07:51:14.439Z"
    }
   },
   "outputs": [
    {
     "data": {
      "text/html": [
       "<table>\n",
       "<thead><tr><th scope=col>cyl</th><th scope=col>mean</th><th scope=col>n</th></tr></thead>\n",
       "<tbody>\n",
       "\t<tr><td>4       </td><td>105.1364</td><td>11      </td></tr>\n",
       "\t<tr><td>6       </td><td>183.3143</td><td> 7      </td></tr>\n",
       "\t<tr><td>8       </td><td>353.1000</td><td>14      </td></tr>\n",
       "</tbody>\n",
       "</table>\n"
      ],
      "text/latex": [
       "\\begin{tabular}{r|lll}\n",
       " cyl & mean & n\\\\\n",
       "\\hline\n",
       "\t 4        & 105.1364 & 11      \\\\\n",
       "\t 6        & 183.3143 &  7      \\\\\n",
       "\t 8        & 353.1000 & 14      \\\\\n",
       "\\end{tabular}\n"
      ],
      "text/markdown": [
       "\n",
       "cyl | mean | n | \n",
       "|---|---|---|\n",
       "| 4        | 105.1364 | 11       | \n",
       "| 6        | 183.3143 |  7       | \n",
       "| 8        | 353.1000 | 14       | \n",
       "\n",
       "\n"
      ],
      "text/plain": [
       "  cyl mean     n \n",
       "1 4   105.1364 11\n",
       "2 6   183.3143  7\n",
       "3 8   353.1000 14"
      ]
     },
     "metadata": {},
     "output_type": "display_data"
    }
   ],
   "source": [
    "mtcars %>%\n",
    "  group_by(cyl) %>%\n",
    "  summarise(mean = mean(disp), n = n())"
   ]
  },
  {
   "cell_type": "code",
   "execution_count": 127,
   "metadata": {
    "ExecuteTime": {
     "end_time": "2019-08-06T08:29:40.456612Z",
     "start_time": "2019-08-06T08:29:40.441Z"
    }
   },
   "outputs": [
    {
     "data": {
      "text/html": [
       "<ol class=list-inline>\n",
       "\t<li>'1'</li>\n",
       "\t<li>'2'</li>\n",
       "\t<li>'3'</li>\n",
       "\t<li>'4'</li>\n",
       "\t<li>'5'</li>\n",
       "\t<li>'6'</li>\n",
       "\t<li>'7'</li>\n",
       "\t<li>'8'</li>\n",
       "\t<li>'9'</li>\n",
       "\t<li>'10'</li>\n",
       "\t<li>'11'</li>\n",
       "\t<li>'12'</li>\n",
       "</ol>\n"
      ],
      "text/latex": [
       "\\begin{enumerate*}\n",
       "\\item '1'\n",
       "\\item '2'\n",
       "\\item '3'\n",
       "\\item '4'\n",
       "\\item '5'\n",
       "\\item '6'\n",
       "\\item '7'\n",
       "\\item '8'\n",
       "\\item '9'\n",
       "\\item '10'\n",
       "\\item '11'\n",
       "\\item '12'\n",
       "\\end{enumerate*}\n"
      ],
      "text/markdown": [
       "1. '1'\n",
       "2. '2'\n",
       "3. '3'\n",
       "4. '4'\n",
       "5. '5'\n",
       "6. '6'\n",
       "7. '7'\n",
       "8. '8'\n",
       "9. '9'\n",
       "10. '10'\n",
       "11. '11'\n",
       "12. '12'\n",
       "\n",
       "\n"
      ],
      "text/plain": [
       " [1] \"1\"  \"2\"  \"3\"  \"4\"  \"5\"  \"6\"  \"7\"  \"8\"  \"9\"  \"10\" \"11\" \"12\""
      ]
     },
     "metadata": {},
     "output_type": "display_data"
    },
    {
     "data": {
      "text/html": [
       "<ol class=list-inline>\n",
       "\t<li>'1'</li>\n",
       "\t<li>'2'</li>\n",
       "\t<li>'3'</li>\n",
       "\t<li>'4'</li>\n",
       "\t<li>'5'</li>\n",
       "\t<li>'6'</li>\n",
       "\t<li>'7'</li>\n",
       "\t<li>'8'</li>\n",
       "\t<li>'9'</li>\n",
       "\t<li>'10'</li>\n",
       "\t<li>'11'</li>\n",
       "\t<li>'12'</li>\n",
       "</ol>\n"
      ],
      "text/latex": [
       "\\begin{enumerate*}\n",
       "\\item '1'\n",
       "\\item '2'\n",
       "\\item '3'\n",
       "\\item '4'\n",
       "\\item '5'\n",
       "\\item '6'\n",
       "\\item '7'\n",
       "\\item '8'\n",
       "\\item '9'\n",
       "\\item '10'\n",
       "\\item '11'\n",
       "\\item '12'\n",
       "\\end{enumerate*}\n"
      ],
      "text/markdown": [
       "1. '1'\n",
       "2. '2'\n",
       "3. '3'\n",
       "4. '4'\n",
       "5. '5'\n",
       "6. '6'\n",
       "7. '7'\n",
       "8. '8'\n",
       "9. '9'\n",
       "10. '10'\n",
       "11. '11'\n",
       "12. '12'\n",
       "\n",
       "\n"
      ],
      "text/plain": [
       " [1] \"1\"  \"2\"  \"3\"  \"4\"  \"5\"  \"6\"  \"7\"  \"8\"  \"9\"  \"10\" \"11\" \"12\""
      ]
     },
     "metadata": {},
     "output_type": "display_data"
    },
    {
     "data": {
      "text/html": [
       "<ol class=list-inline>\n",
       "\t<li>'1'</li>\n",
       "\t<li>'2'</li>\n",
       "\t<li>'3'</li>\n",
       "\t<li>'4'</li>\n",
       "\t<li>'5'</li>\n",
       "\t<li>'6'</li>\n",
       "\t<li>'7'</li>\n",
       "\t<li>'8'</li>\n",
       "\t<li>'9'</li>\n",
       "\t<li>'10'</li>\n",
       "\t<li>'11'</li>\n",
       "\t<li>'12'</li>\n",
       "</ol>\n"
      ],
      "text/latex": [
       "\\begin{enumerate*}\n",
       "\\item '1'\n",
       "\\item '2'\n",
       "\\item '3'\n",
       "\\item '4'\n",
       "\\item '5'\n",
       "\\item '6'\n",
       "\\item '7'\n",
       "\\item '8'\n",
       "\\item '9'\n",
       "\\item '10'\n",
       "\\item '11'\n",
       "\\item '12'\n",
       "\\end{enumerate*}\n"
      ],
      "text/markdown": [
       "1. '1'\n",
       "2. '2'\n",
       "3. '3'\n",
       "4. '4'\n",
       "5. '5'\n",
       "6. '6'\n",
       "7. '7'\n",
       "8. '8'\n",
       "9. '9'\n",
       "10. '10'\n",
       "11. '11'\n",
       "12. '12'\n",
       "\n",
       "\n"
      ],
      "text/plain": [
       " [1] \"1\"  \"2\"  \"3\"  \"4\"  \"5\"  \"6\"  \"7\"  \"8\"  \"9\"  \"10\" \"11\" \"12\""
      ]
     },
     "metadata": {},
     "output_type": "display_data"
    }
   ],
   "source": [
    "## When passing a single vector, paste0 and paste work like as.character.\n",
    "paste0(1:12)\n",
    "paste(1:12)        # same\n",
    "as.character(1:12) # same"
   ]
  },
  {
   "cell_type": "code",
   "execution_count": 130,
   "metadata": {
    "ExecuteTime": {
     "end_time": "2019-08-06T08:30:02.631973Z",
     "start_time": "2019-08-06T08:30:02.621Z"
    }
   },
   "outputs": [
    {
     "data": {
      "text/html": [
       "<ol class=list-inline>\n",
       "\t<li>'1st'</li>\n",
       "\t<li>'2nd'</li>\n",
       "\t<li>'3rd'</li>\n",
       "\t<li>'4th'</li>\n",
       "\t<li>'5th'</li>\n",
       "\t<li>'6th'</li>\n",
       "\t<li>'7th'</li>\n",
       "\t<li>'8th'</li>\n",
       "\t<li>'9th'</li>\n",
       "\t<li>'10th'</li>\n",
       "\t<li>'11th'</li>\n",
       "\t<li>'12th'</li>\n",
       "</ol>\n"
      ],
      "text/latex": [
       "\\begin{enumerate*}\n",
       "\\item '1st'\n",
       "\\item '2nd'\n",
       "\\item '3rd'\n",
       "\\item '4th'\n",
       "\\item '5th'\n",
       "\\item '6th'\n",
       "\\item '7th'\n",
       "\\item '8th'\n",
       "\\item '9th'\n",
       "\\item '10th'\n",
       "\\item '11th'\n",
       "\\item '12th'\n",
       "\\end{enumerate*}\n"
      ],
      "text/markdown": [
       "1. '1st'\n",
       "2. '2nd'\n",
       "3. '3rd'\n",
       "4. '4th'\n",
       "5. '5th'\n",
       "6. '6th'\n",
       "7. '7th'\n",
       "8. '8th'\n",
       "9. '9th'\n",
       "10. '10th'\n",
       "11. '11th'\n",
       "12. '12th'\n",
       "\n",
       "\n"
      ],
      "text/plain": [
       " [1] \"1st\"  \"2nd\"  \"3rd\"  \"4th\"  \"5th\"  \"6th\"  \"7th\"  \"8th\"  \"9th\"  \"10th\"\n",
       "[11] \"11th\" \"12th\""
      ]
     },
     "metadata": {},
     "output_type": "display_data"
    }
   ],
   "source": [
    "## If you pass several vectors to paste0, they are concatenated in a\n",
    "## vectorized way.\n",
    "(nth <- paste0(1:12, c(\"st\", \"nd\", \"rd\", rep(\"th\", 9))))"
   ]
  },
  {
   "cell_type": "code",
   "execution_count": 131,
   "metadata": {
    "ExecuteTime": {
     "end_time": "2019-08-06T08:30:37.182922Z",
     "start_time": "2019-08-06T08:30:37.170Z"
    }
   },
   "outputs": [
    {
     "data": {
      "text/html": [
       "<ol class=list-inline>\n",
       "\t<li>'Jan is the 1st month of the year.'</li>\n",
       "\t<li>'Feb is the 2nd month of the year.'</li>\n",
       "\t<li>'Mar is the 3rd month of the year.'</li>\n",
       "\t<li>'Apr is the 4th month of the year.'</li>\n",
       "\t<li>'May is the 5th month of the year.'</li>\n",
       "\t<li>'Jun is the 6th month of the year.'</li>\n",
       "\t<li>'Jul is the 7th month of the year.'</li>\n",
       "\t<li>'Aug is the 8th month of the year.'</li>\n",
       "\t<li>'Sep is the 9th month of the year.'</li>\n",
       "\t<li>'Oct is the 10th month of the year.'</li>\n",
       "\t<li>'Nov is the 11th month of the year.'</li>\n",
       "\t<li>'Dec is the 12th month of the year.'</li>\n",
       "</ol>\n"
      ],
      "text/latex": [
       "\\begin{enumerate*}\n",
       "\\item 'Jan is the 1st month of the year.'\n",
       "\\item 'Feb is the 2nd month of the year.'\n",
       "\\item 'Mar is the 3rd month of the year.'\n",
       "\\item 'Apr is the 4th month of the year.'\n",
       "\\item 'May is the 5th month of the year.'\n",
       "\\item 'Jun is the 6th month of the year.'\n",
       "\\item 'Jul is the 7th month of the year.'\n",
       "\\item 'Aug is the 8th month of the year.'\n",
       "\\item 'Sep is the 9th month of the year.'\n",
       "\\item 'Oct is the 10th month of the year.'\n",
       "\\item 'Nov is the 11th month of the year.'\n",
       "\\item 'Dec is the 12th month of the year.'\n",
       "\\end{enumerate*}\n"
      ],
      "text/markdown": [
       "1. 'Jan is the 1st month of the year.'\n",
       "2. 'Feb is the 2nd month of the year.'\n",
       "3. 'Mar is the 3rd month of the year.'\n",
       "4. 'Apr is the 4th month of the year.'\n",
       "5. 'May is the 5th month of the year.'\n",
       "6. 'Jun is the 6th month of the year.'\n",
       "7. 'Jul is the 7th month of the year.'\n",
       "8. 'Aug is the 8th month of the year.'\n",
       "9. 'Sep is the 9th month of the year.'\n",
       "10. 'Oct is the 10th month of the year.'\n",
       "11. 'Nov is the 11th month of the year.'\n",
       "12. 'Dec is the 12th month of the year.'\n",
       "\n",
       "\n"
      ],
      "text/plain": [
       " [1] \"Jan is the 1st month of the year.\"  \"Feb is the 2nd month of the year.\" \n",
       " [3] \"Mar is the 3rd month of the year.\"  \"Apr is the 4th month of the year.\" \n",
       " [5] \"May is the 5th month of the year.\"  \"Jun is the 6th month of the year.\" \n",
       " [7] \"Jul is the 7th month of the year.\"  \"Aug is the 8th month of the year.\" \n",
       " [9] \"Sep is the 9th month of the year.\"  \"Oct is the 10th month of the year.\"\n",
       "[11] \"Nov is the 11th month of the year.\" \"Dec is the 12th month of the year.\""
      ]
     },
     "metadata": {},
     "output_type": "display_data"
    },
    {
     "data": {
      "text/html": [
       "<ol class=list-inline>\n",
       "\t<li>'Jan a'</li>\n",
       "\t<li>'Feb b'</li>\n",
       "\t<li>'Mar c'</li>\n",
       "\t<li>'Apr d'</li>\n",
       "\t<li>'May e'</li>\n",
       "\t<li>'Jun f'</li>\n",
       "\t<li>'Jul g'</li>\n",
       "\t<li>'Aug h'</li>\n",
       "\t<li>'Sep i'</li>\n",
       "\t<li>'Oct j'</li>\n",
       "\t<li>'Nov k'</li>\n",
       "\t<li>'Dec l'</li>\n",
       "\t<li>'Jan m'</li>\n",
       "\t<li>'Feb n'</li>\n",
       "\t<li>'Mar o'</li>\n",
       "\t<li>'Apr p'</li>\n",
       "\t<li>'May q'</li>\n",
       "\t<li>'Jun r'</li>\n",
       "\t<li>'Jul s'</li>\n",
       "\t<li>'Aug t'</li>\n",
       "\t<li>'Sep u'</li>\n",
       "\t<li>'Oct v'</li>\n",
       "\t<li>'Nov w'</li>\n",
       "\t<li>'Dec x'</li>\n",
       "\t<li>'Jan y'</li>\n",
       "\t<li>'Feb z'</li>\n",
       "</ol>\n"
      ],
      "text/latex": [
       "\\begin{enumerate*}\n",
       "\\item 'Jan a'\n",
       "\\item 'Feb b'\n",
       "\\item 'Mar c'\n",
       "\\item 'Apr d'\n",
       "\\item 'May e'\n",
       "\\item 'Jun f'\n",
       "\\item 'Jul g'\n",
       "\\item 'Aug h'\n",
       "\\item 'Sep i'\n",
       "\\item 'Oct j'\n",
       "\\item 'Nov k'\n",
       "\\item 'Dec l'\n",
       "\\item 'Jan m'\n",
       "\\item 'Feb n'\n",
       "\\item 'Mar o'\n",
       "\\item 'Apr p'\n",
       "\\item 'May q'\n",
       "\\item 'Jun r'\n",
       "\\item 'Jul s'\n",
       "\\item 'Aug t'\n",
       "\\item 'Sep u'\n",
       "\\item 'Oct v'\n",
       "\\item 'Nov w'\n",
       "\\item 'Dec x'\n",
       "\\item 'Jan y'\n",
       "\\item 'Feb z'\n",
       "\\end{enumerate*}\n"
      ],
      "text/markdown": [
       "1. 'Jan a'\n",
       "2. 'Feb b'\n",
       "3. 'Mar c'\n",
       "4. 'Apr d'\n",
       "5. 'May e'\n",
       "6. 'Jun f'\n",
       "7. 'Jul g'\n",
       "8. 'Aug h'\n",
       "9. 'Sep i'\n",
       "10. 'Oct j'\n",
       "11. 'Nov k'\n",
       "12. 'Dec l'\n",
       "13. 'Jan m'\n",
       "14. 'Feb n'\n",
       "15. 'Mar o'\n",
       "16. 'Apr p'\n",
       "17. 'May q'\n",
       "18. 'Jun r'\n",
       "19. 'Jul s'\n",
       "20. 'Aug t'\n",
       "21. 'Sep u'\n",
       "22. 'Oct v'\n",
       "23. 'Nov w'\n",
       "24. 'Dec x'\n",
       "25. 'Jan y'\n",
       "26. 'Feb z'\n",
       "\n",
       "\n"
      ],
      "text/plain": [
       " [1] \"Jan a\" \"Feb b\" \"Mar c\" \"Apr d\" \"May e\" \"Jun f\" \"Jul g\" \"Aug h\" \"Sep i\"\n",
       "[10] \"Oct j\" \"Nov k\" \"Dec l\" \"Jan m\" \"Feb n\" \"Mar o\" \"Apr p\" \"May q\" \"Jun r\"\n",
       "[19] \"Jul s\" \"Aug t\" \"Sep u\" \"Oct v\" \"Nov w\" \"Dec x\" \"Jan y\" \"Feb z\""
      ]
     },
     "metadata": {},
     "output_type": "display_data"
    }
   ],
   "source": [
    "## paste works the same, but separates each input with a space.\n",
    "## Notice that the recycling rules make every input as long as the longest input.\n",
    "paste(month.abb, \"is the\", nth, \"month of the year.\")\n",
    "paste(month.abb, letters)"
   ]
  },
  {
   "cell_type": "code",
   "execution_count": 135,
   "metadata": {
    "ExecuteTime": {
     "end_time": "2019-08-06T08:31:25.988366Z",
     "start_time": "2019-08-06T08:31:25.971Z"
    }
   },
   "outputs": [
    {
     "data": {
      "text/html": [
       "<ol class=list-inline>\n",
       "\t<li>'Jan(_._)(_._)is the(_._)(_._)1st(_._)(_._)month of the year.'</li>\n",
       "\t<li>'Feb(_._)(_._)is the(_._)(_._)2nd(_._)(_._)month of the year.'</li>\n",
       "\t<li>'Mar(_._)(_._)is the(_._)(_._)3rd(_._)(_._)month of the year.'</li>\n",
       "\t<li>'Apr(_._)(_._)is the(_._)(_._)4th(_._)(_._)month of the year.'</li>\n",
       "\t<li>'May(_._)(_._)is the(_._)(_._)5th(_._)(_._)month of the year.'</li>\n",
       "\t<li>'Jun(_._)(_._)is the(_._)(_._)6th(_._)(_._)month of the year.'</li>\n",
       "\t<li>'Jul(_._)(_._)is the(_._)(_._)7th(_._)(_._)month of the year.'</li>\n",
       "\t<li>'Aug(_._)(_._)is the(_._)(_._)8th(_._)(_._)month of the year.'</li>\n",
       "\t<li>'Sep(_._)(_._)is the(_._)(_._)9th(_._)(_._)month of the year.'</li>\n",
       "\t<li>'Oct(_._)(_._)is the(_._)(_._)10th(_._)(_._)month of the year.'</li>\n",
       "\t<li>'Nov(_._)(_._)is the(_._)(_._)11th(_._)(_._)month of the year.'</li>\n",
       "\t<li>'Dec(_._)(_._)is the(_._)(_._)12th(_._)(_._)month of the year.'</li>\n",
       "</ol>\n"
      ],
      "text/latex": [
       "\\begin{enumerate*}\n",
       "\\item 'Jan(\\_.\\_)(\\_.\\_)is the(\\_.\\_)(\\_.\\_)1st(\\_.\\_)(\\_.\\_)month of the year.'\n",
       "\\item 'Feb(\\_.\\_)(\\_.\\_)is the(\\_.\\_)(\\_.\\_)2nd(\\_.\\_)(\\_.\\_)month of the year.'\n",
       "\\item 'Mar(\\_.\\_)(\\_.\\_)is the(\\_.\\_)(\\_.\\_)3rd(\\_.\\_)(\\_.\\_)month of the year.'\n",
       "\\item 'Apr(\\_.\\_)(\\_.\\_)is the(\\_.\\_)(\\_.\\_)4th(\\_.\\_)(\\_.\\_)month of the year.'\n",
       "\\item 'May(\\_.\\_)(\\_.\\_)is the(\\_.\\_)(\\_.\\_)5th(\\_.\\_)(\\_.\\_)month of the year.'\n",
       "\\item 'Jun(\\_.\\_)(\\_.\\_)is the(\\_.\\_)(\\_.\\_)6th(\\_.\\_)(\\_.\\_)month of the year.'\n",
       "\\item 'Jul(\\_.\\_)(\\_.\\_)is the(\\_.\\_)(\\_.\\_)7th(\\_.\\_)(\\_.\\_)month of the year.'\n",
       "\\item 'Aug(\\_.\\_)(\\_.\\_)is the(\\_.\\_)(\\_.\\_)8th(\\_.\\_)(\\_.\\_)month of the year.'\n",
       "\\item 'Sep(\\_.\\_)(\\_.\\_)is the(\\_.\\_)(\\_.\\_)9th(\\_.\\_)(\\_.\\_)month of the year.'\n",
       "\\item 'Oct(\\_.\\_)(\\_.\\_)is the(\\_.\\_)(\\_.\\_)10th(\\_.\\_)(\\_.\\_)month of the year.'\n",
       "\\item 'Nov(\\_.\\_)(\\_.\\_)is the(\\_.\\_)(\\_.\\_)11th(\\_.\\_)(\\_.\\_)month of the year.'\n",
       "\\item 'Dec(\\_.\\_)(\\_.\\_)is the(\\_.\\_)(\\_.\\_)12th(\\_.\\_)(\\_.\\_)month of the year.'\n",
       "\\end{enumerate*}\n"
      ],
      "text/markdown": [
       "1. 'Jan(_._)(_._)is the(_._)(_._)1st(_._)(_._)month of the year.'\n",
       "2. 'Feb(_._)(_._)is the(_._)(_._)2nd(_._)(_._)month of the year.'\n",
       "3. 'Mar(_._)(_._)is the(_._)(_._)3rd(_._)(_._)month of the year.'\n",
       "4. 'Apr(_._)(_._)is the(_._)(_._)4th(_._)(_._)month of the year.'\n",
       "5. 'May(_._)(_._)is the(_._)(_._)5th(_._)(_._)month of the year.'\n",
       "6. 'Jun(_._)(_._)is the(_._)(_._)6th(_._)(_._)month of the year.'\n",
       "7. 'Jul(_._)(_._)is the(_._)(_._)7th(_._)(_._)month of the year.'\n",
       "8. 'Aug(_._)(_._)is the(_._)(_._)8th(_._)(_._)month of the year.'\n",
       "9. 'Sep(_._)(_._)is the(_._)(_._)9th(_._)(_._)month of the year.'\n",
       "10. 'Oct(_._)(_._)is the(_._)(_._)10th(_._)(_._)month of the year.'\n",
       "11. 'Nov(_._)(_._)is the(_._)(_._)11th(_._)(_._)month of the year.'\n",
       "12. 'Dec(_._)(_._)is the(_._)(_._)12th(_._)(_._)month of the year.'\n",
       "\n",
       "\n"
      ],
      "text/plain": [
       " [1] \"Jan(_._)(_._)is the(_._)(_._)1st(_._)(_._)month of the year.\" \n",
       " [2] \"Feb(_._)(_._)is the(_._)(_._)2nd(_._)(_._)month of the year.\" \n",
       " [3] \"Mar(_._)(_._)is the(_._)(_._)3rd(_._)(_._)month of the year.\" \n",
       " [4] \"Apr(_._)(_._)is the(_._)(_._)4th(_._)(_._)month of the year.\" \n",
       " [5] \"May(_._)(_._)is the(_._)(_._)5th(_._)(_._)month of the year.\" \n",
       " [6] \"Jun(_._)(_._)is the(_._)(_._)6th(_._)(_._)month of the year.\" \n",
       " [7] \"Jul(_._)(_._)is the(_._)(_._)7th(_._)(_._)month of the year.\" \n",
       " [8] \"Aug(_._)(_._)is the(_._)(_._)8th(_._)(_._)month of the year.\" \n",
       " [9] \"Sep(_._)(_._)is the(_._)(_._)9th(_._)(_._)month of the year.\" \n",
       "[10] \"Oct(_._)(_._)is the(_._)(_._)10th(_._)(_._)month of the year.\"\n",
       "[11] \"Nov(_._)(_._)is the(_._)(_._)11th(_._)(_._)month of the year.\"\n",
       "[12] \"Dec(_._)(_._)is the(_._)(_._)12th(_._)(_._)month of the year.\""
      ]
     },
     "metadata": {},
     "output_type": "display_data"
    }
   ],
   "source": [
    "## You can change the separator by passing a sep argument\n",
    "## which can be multiple characters.\n",
    "paste(month.abb, \"is the\", nth, \"month of the year.\", sep = \"(_._)(_._)\")"
   ]
  },
  {
   "cell_type": "code",
   "execution_count": 136,
   "metadata": {
    "ExecuteTime": {
     "end_time": "2019-08-06T08:31:39.910407Z",
     "start_time": "2019-08-06T08:31:39.889Z"
    }
   },
   "outputs": [
    {
     "data": {
      "text/html": [
       "'1st, 2nd, 3rd, 4th, 5th, 6th, 7th, 8th, 9th, 10th, 11th, 12th'"
      ],
      "text/latex": [
       "'1st, 2nd, 3rd, 4th, 5th, 6th, 7th, 8th, 9th, 10th, 11th, 12th'"
      ],
      "text/markdown": [
       "'1st, 2nd, 3rd, 4th, 5th, 6th, 7th, 8th, 9th, 10th, 11th, 12th'"
      ],
      "text/plain": [
       "[1] \"1st, 2nd, 3rd, 4th, 5th, 6th, 7th, 8th, 9th, 10th, 11th, 12th\""
      ]
     },
     "metadata": {},
     "output_type": "display_data"
    }
   ],
   "source": [
    "## To collapse the output into a single string, pass a collapse argument.\n",
    "paste0(nth, collapse = \", \")"
   ]
  },
  {
   "cell_type": "code",
   "execution_count": 137,
   "metadata": {
    "ExecuteTime": {
     "end_time": "2019-08-06T08:32:06.719289Z",
     "start_time": "2019-08-06T08:32:06.706Z"
    }
   },
   "outputs": [
    {
     "data": {
      "text/html": [
       "'1st 2nd 3rd'"
      ],
      "text/latex": [
       "'1st 2nd 3rd'"
      ],
      "text/markdown": [
       "'1st 2nd 3rd'"
      ],
      "text/plain": [
       "[1] \"1st 2nd 3rd\""
      ]
     },
     "metadata": {},
     "output_type": "display_data"
    },
    {
     "data": {
      "text/html": [
       "'1st, 2nd, 3rd'"
      ],
      "text/latex": [
       "'1st, 2nd, 3rd'"
      ],
      "text/markdown": [
       "'1st, 2nd, 3rd'"
      ],
      "text/plain": [
       "[1] \"1st, 2nd, 3rd\""
      ]
     },
     "metadata": {},
     "output_type": "display_data"
    }
   ],
   "source": [
    "## For inputs of length 1, use the sep argument rather than collapse\n",
    "paste(\"1st\", \"2nd\", \"3rd\", collapse = \", \") # probably not what you wanted\n",
    "paste(\"1st\", \"2nd\", \"3rd\", sep = \", \")"
   ]
  },
  {
   "cell_type": "code",
   "execution_count": 138,
   "metadata": {
    "ExecuteTime": {
     "end_time": "2019-08-06T08:32:30.374378Z",
     "start_time": "2019-08-06T08:32:30.362Z"
    }
   },
   "outputs": [
    {
     "data": {
      "text/html": [
       "'Jan: 1st; Feb: 2nd; Mar: 3rd; Apr: 4th; May: 5th; Jun: 6th; Jul: 7th; Aug: 8th; Sep: 9th; Oct: 10th; Nov: 11th; Dec: 12th'"
      ],
      "text/latex": [
       "'Jan: 1st; Feb: 2nd; Mar: 3rd; Apr: 4th; May: 5th; Jun: 6th; Jul: 7th; Aug: 8th; Sep: 9th; Oct: 10th; Nov: 11th; Dec: 12th'"
      ],
      "text/markdown": [
       "'Jan: 1st; Feb: 2nd; Mar: 3rd; Apr: 4th; May: 5th; Jun: 6th; Jul: 7th; Aug: 8th; Sep: 9th; Oct: 10th; Nov: 11th; Dec: 12th'"
      ],
      "text/plain": [
       "[1] \"Jan: 1st; Feb: 2nd; Mar: 3rd; Apr: 4th; May: 5th; Jun: 6th; Jul: 7th; Aug: 8th; Sep: 9th; Oct: 10th; Nov: 11th; Dec: 12th\""
      ]
     },
     "metadata": {},
     "output_type": "display_data"
    }
   ],
   "source": [
    "## You can combine the sep and collapse arguments together.\n",
    "paste(month.abb, nth, sep = \": \", collapse = \"; \")"
   ]
  },
  {
   "cell_type": "code",
   "execution_count": 139,
   "metadata": {
    "ExecuteTime": {
     "end_time": "2019-08-06T08:32:43.708181Z",
     "start_time": "2019-08-06T08:32:43.636Z"
    }
   },
   "outputs": [
    {
     "data": {
      "text/html": [
       "'Stopping distance of cars\\n(ft) vs. speed (mph) from\\nEzekiel (1930)'"
      ],
      "text/latex": [
       "'Stopping distance of cars\\textbackslash{}n(ft) vs. speed (mph) from\\textbackslash{}nEzekiel (1930)'"
      ],
      "text/markdown": [
       "'Stopping distance of cars\\n(ft) vs. speed (mph) from\\nEzekiel (1930)'"
      ],
      "text/plain": [
       "[1] \"Stopping distance of cars\\n(ft) vs. speed (mph) from\\nEzekiel (1930)\""
      ]
     },
     "metadata": {},
     "output_type": "display_data"
    },
    {
     "data": {
      "image/png": "[encoded data removed]",
      "text/plain": [
       "Plot with title “Stopping distance of cars\n",
       "(ft) vs. speed (mph) from\n",
       "Ezekiel (1930)”"
      ]
     },
     "metadata": {},
     "output_type": "display_data"
    }
   ],
   "source": [
    "## Using paste() in combination with strwrap() can be useful\n",
    "## for dealing with long strings.\n",
    "(title <- paste(strwrap(\n",
    "    \"Stopping distance of cars (ft) vs. speed (mph) from Ezekiel (1930)\",\n",
    "    width = 30), collapse = \"\\n\"))\n",
    "plot(dist ~ speed, cars, main = title)"
   ]
  }
 ],
 "metadata": {
  "hide_input": false,
  "kernelspec": {
   "display_name": "R 4.0.2",
   "language": "R",
   "name": "ir"
  },
  "language_info": {
   "codemirror_mode": "r",
   "file_extension": ".r",
   "mimetype": "text/x-r-source",
   "name": "R",
   "pygments_lexer": "r",
   "version": "4.0.4"
  },
  "latex_envs": {
   "LaTeX_envs_menu_present": true,
   "autoclose": true,
   "autocomplete": true,
   "bibliofile": "biblio.bib",
   "cite_by": "apalike",
   "current_citInitial": 1,
   "eqLabelWithNumbers": true,
   "eqNumInitial": 1,
   "hotkeys": {
    "equation": "Ctrl-E",
    "itemize": "Ctrl-I"
   },
   "labels_anchors": false,
   "latex_user_defs": false,
   "report_style_numbering": false,
   "user_envs_cfg": false
  },
  "toc": {
   "base_numbering": 1,
   "nav_menu": {},
   "number_sections": true,
   "sideBar": true,
   "skip_h1_title": false,
   "title_cell": "Table of Contents",
   "title_sidebar": "Contents",
   "toc_cell": false,
   "toc_position": {},
   "toc_section_display": true,
   "toc_window_display": false
  },
  "varInspector": {
   "cols": {
    "lenName": 16,
    "lenType": 16,
    "lenVar": 40
   },
   "kernels_config": {
    "python": {
     "delete_cmd_postfix": "",
     "delete_cmd_prefix": "del ",
     "library": "var_list.py",
     "varRefreshCmd": "print(var_dic_list())"
    },
    "r": {
     "delete_cmd_postfix": ") ",
     "delete_cmd_prefix": "rm(",
     "library": "var_list.r",
     "varRefreshCmd": "cat(var_dic_list()) "
    }
   },
   "types_to_exclude": [
    "module",
    "function",
    "builtin_function_or_method",
    "instance",
    "_Feature"
   ],
   "window_display": false
  }
 },
 "nbformat": 4,
 "nbformat_minor": 2
}
