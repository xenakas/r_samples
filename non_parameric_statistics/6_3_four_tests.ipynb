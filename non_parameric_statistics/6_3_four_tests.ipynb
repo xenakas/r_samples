{
 "cells": [
  {
   "cell_type": "code",
   "execution_count": 1,
   "metadata": {
    "ExecuteTime": {
     "end_time": "2020-03-06T11:41:18.598749Z",
     "start_time": "2020-03-06T11:41:18.589Z"
    }
   },
   "outputs": [],
   "source": [
    "x  <- c(1042,1617,1180,973,1552)\n",
    "y  <- c(847,389,612)"
   ]
  },
  {
   "cell_type": "markdown",
   "metadata": {},
   "source": [
    "### Wilcoxon and MW"
   ]
  },
  {
   "cell_type": "code",
   "execution_count": 2,
   "metadata": {
    "ExecuteTime": {
     "end_time": "2020-03-06T11:41:24.642122Z",
     "start_time": "2020-03-06T11:41:24.629Z"
    }
   },
   "outputs": [
    {
     "data": {
      "text/plain": [
       "\n",
       "\tWilcoxon rank sum test\n",
       "\n",
       "data:  x and y\n",
       "W = 15, p-value = 0.03571\n",
       "alternative hypothesis: true location shift is not equal to 0\n"
      ]
     },
     "metadata": {},
     "output_type": "display_data"
    }
   ],
   "source": [
    "wilcox.test(x,y)"
   ]
  },
  {
   "cell_type": "code",
   "execution_count": 3,
   "metadata": {
    "ExecuteTime": {
     "end_time": "2020-03-06T11:41:55.715927Z",
     "start_time": "2020-03-06T11:41:55.659Z"
    }
   },
   "outputs": [
    {
     "data": {
      "image/png": "[encoded data removed]",
      "text/plain": [
       "plot without title"
      ]
     },
     "metadata": {},
     "output_type": "display_data"
    }
   ],
   "source": [
    "boxplot(x,y,col = \"yellow\")"
   ]
  },
  {
   "cell_type": "code",
   "execution_count": 5,
   "metadata": {
    "ExecuteTime": {
     "end_time": "2020-03-06T11:42:44.823684Z",
     "start_time": "2020-03-06T11:42:44.780Z"
    }
   },
   "outputs": [
    {
     "data": {
      "text/plain": [
       "\n",
       "\tWilcoxon rank sum test\n",
       "\n",
       "data:  x and y\n",
       "W = 15, p-value = 0.03571\n",
       "alternative hypothesis: true location shift is not equal to 0\n"
      ]
     },
     "metadata": {},
     "output_type": "display_data"
    },
    {
     "data": {
      "text/plain": [
       "\n",
       "\tWilcoxon rank sum test with continuity correction\n",
       "\n",
       "data:  x and y\n",
       "W = 15, p-value = 0.03689\n",
       "alternative hypothesis: true location shift is not equal to 0\n"
      ]
     },
     "metadata": {},
     "output_type": "display_data"
    }
   ],
   "source": [
    "wilcox.test(x,y, exact = T)\n",
    "wilcox.test(x,y, exact = F)"
   ]
  },
  {
   "cell_type": "code",
   "execution_count": 6,
   "metadata": {
    "ExecuteTime": {
     "end_time": "2020-03-06T12:20:17.265956Z",
     "start_time": "2020-03-06T12:20:17.187Z"
    }
   },
   "outputs": [],
   "source": [
    "?kruskal.test"
   ]
  },
  {
   "cell_type": "code",
   "execution_count": 7,
   "metadata": {
    "ExecuteTime": {
     "end_time": "2020-03-06T12:20:48.229576Z",
     "start_time": "2020-03-06T12:20:48.212Z"
    }
   },
   "outputs": [
    {
     "data": {
      "text/plain": [
       "\n",
       "\tKruskal-Wallis rank sum test\n",
       "\n",
       "data:  list(x, y, z)\n",
       "Kruskal-Wallis chi-squared = 0.77143, df = 2, p-value = 0.68\n"
      ]
     },
     "metadata": {},
     "output_type": "display_data"
    }
   ],
   "source": [
    "x <- c(2.9, 3.0, 2.5, 2.6, 3.2) # normal subjects\n",
    "y <- c(3.8, 2.7, 4.0, 2.4)      # with obstructive airway disease\n",
    "z <- c(2.8, 3.4, 3.7, 2.2, 2.0) # with asbestosis\n",
    "kruskal.test(list(x, y, z))"
   ]
  },
  {
   "cell_type": "code",
   "execution_count": 8,
   "metadata": {
    "ExecuteTime": {
     "end_time": "2020-03-06T12:22:38.156843Z",
     "start_time": "2020-03-06T12:22:38.148Z"
    }
   },
   "outputs": [],
   "source": [
    "f  <- function(a,b){\n",
    "    print(wilcox.test(a,b)$p.value)\n",
    "}"
   ]
  },
  {
   "cell_type": "code",
   "execution_count": 9,
   "metadata": {
    "ExecuteTime": {
     "end_time": "2020-03-06T12:23:00.342679Z",
     "start_time": "2020-03-06T12:23:00.327Z"
    }
   },
   "outputs": [
    {
     "name": "stdout",
     "output_type": "stream",
     "text": [
      "[1] 0.7301587\n",
      "[1] 1\n",
      "[1] 0.4126984\n"
     ]
    }
   ],
   "source": [
    "f(x,y)\n",
    "f(x,z)\n",
    "f(z,y)"
   ]
  },
  {
   "cell_type": "code",
   "execution_count": 10,
   "metadata": {
    "ExecuteTime": {
     "end_time": "2020-03-06T12:23:20.408816Z",
     "start_time": "2020-03-06T12:23:20.360Z"
    }
   },
   "outputs": [
    {
     "data": {
      "image/png": "[encoded data removed]",
      "text/plain": [
       "plot without title"
      ]
     },
     "metadata": {},
     "output_type": "display_data"
    }
   ],
   "source": [
    "boxplot(x,y,z)"
   ]
  },
  {
   "cell_type": "markdown",
   "metadata": {},
   "source": [
    "### KW"
   ]
  },
  {
   "cell_type": "code",
   "execution_count": 11,
   "metadata": {
    "ExecuteTime": {
     "end_time": "2020-03-06T12:27:33.185053Z",
     "start_time": "2020-03-06T12:23:50.153Z"
    }
   },
   "outputs": [
    {
     "name": "stderr",
     "output_type": "stream",
     "text": [
      "Installing package into ‘/home/xenakas/R/x86_64-pc-linux-gnu-library/3.6’\n",
      "(as ‘lib’ is unspecified)\n",
      "also installing the dependencies ‘classInt’, ‘labelled’, ‘questionr’, ‘TH.data’, ‘sandwich’, ‘gmp’, ‘sets’, ‘klaR’, ‘AlgDesign’, ‘e1071’, ‘libcoin’, ‘modeltools’, ‘mvtnorm’, ‘multcomp’, ‘survival’, ‘Formula’, ‘acepack’, ‘htmlTable’, ‘combinat’, ‘partitions’, ‘agricolae’, ‘ash’, ‘binom’, ‘BSDA’, ‘coin’, ‘epitools’, ‘Hmisc’, ‘km.ci’, ‘metafor’, ‘nortest’, ‘Rfit’, ‘SemiPar’\n",
      "\n"
     ]
    }
   ],
   "source": [
    "install.packages('NSM3')"
   ]
  },
  {
   "cell_type": "code",
   "execution_count": 12,
   "metadata": {
    "ExecuteTime": {
     "end_time": "2020-03-06T12:27:35.376259Z",
     "start_time": "2020-03-06T12:24:13.835Z"
    }
   },
   "outputs": [
    {
     "name": "stderr",
     "output_type": "stream",
     "text": [
      "Loading required package: combinat\n",
      "\n",
      "Attaching package: ‘combinat’\n",
      "\n",
      "The following object is masked from ‘package:utils’:\n",
      "\n",
      "    combn\n",
      "\n",
      "Loading required package: MASS\n",
      "Loading required package: partitions\n",
      "Loading required package: survival\n",
      "fANCOVA 0.5-1 loaded\n"
     ]
    }
   ],
   "source": [
    "library('NSM3')"
   ]
  },
  {
   "cell_type": "code",
   "execution_count": 13,
   "metadata": {
    "ExecuteTime": {
     "end_time": "2020-03-06T12:27:36.091276Z",
     "start_time": "2020-03-06T12:25:03.685Z"
    }
   },
   "outputs": [
    {
     "data": {
      "text/plain": [
       "Group sizes: 5 4 5 \n",
       "Kruskal-Wallis H Statistic: 0.7714\n",
       "Monte Carlo (Using 10000 Iterations) upper-tail probability: 0.7087"
      ]
     },
     "metadata": {},
     "output_type": "display_data"
    },
    {
     "data": {
      "text/plain": [
       "Group sizes: 5 4 5 \n",
       "Kruskal-Wallis H Statistic: 0.7714\n",
       "Asymptotic upper-tail probability: 0.68"
      ]
     },
     "metadata": {},
     "output_type": "display_data"
    }
   ],
   "source": [
    "pKW(list(x,y,z))\n",
    "pKW(list(x,y,z), method=\"Asymptotic\")"
   ]
  },
  {
   "cell_type": "markdown",
   "metadata": {},
   "source": [
    "### Friedman"
   ]
  },
  {
   "cell_type": "code",
   "execution_count": 14,
   "metadata": {
    "ExecuteTime": {
     "end_time": "2020-03-06T12:41:19.328095Z",
     "start_time": "2020-03-06T12:41:19.206Z"
    }
   },
   "outputs": [],
   "source": [
    "?friedman.test"
   ]
  },
  {
   "cell_type": "code",
   "execution_count": 15,
   "metadata": {
    "ExecuteTime": {
     "end_time": "2020-03-06T12:41:49.571901Z",
     "start_time": "2020-03-06T12:41:49.557Z"
    }
   },
   "outputs": [
    {
     "data": {
      "text/plain": [
       "\n",
       "\tFriedman rank sum test\n",
       "\n",
       "data:  RoundingTimes\n",
       "Friedman chi-squared = 11.143, df = 2, p-value = 0.003805\n"
      ]
     },
     "metadata": {},
     "output_type": "display_data"
    }
   ],
   "source": [
    "RoundingTimes <-\n",
    "matrix(c(5.40, 5.50, 5.55,\n",
    "         5.85, 5.70, 5.75,\n",
    "         5.20, 5.60, 5.50,\n",
    "         5.55, 5.50, 5.40,\n",
    "         5.90, 5.85, 5.70,\n",
    "         5.45, 5.55, 5.60,\n",
    "         5.40, 5.40, 5.35,\n",
    "         5.45, 5.50, 5.35,\n",
    "         5.25, 5.15, 5.00,\n",
    "         5.85, 5.80, 5.70,\n",
    "         5.25, 5.20, 5.10,\n",
    "         5.65, 5.55, 5.45,\n",
    "         5.60, 5.35, 5.45,\n",
    "         5.05, 5.00, 4.95,\n",
    "         5.50, 5.50, 5.40,\n",
    "         5.45, 5.55, 5.50,\n",
    "         5.55, 5.55, 5.35,\n",
    "         5.45, 5.50, 5.55,\n",
    "         5.50, 5.45, 5.25,\n",
    "         5.65, 5.60, 5.40,\n",
    "         5.70, 5.65, 5.55,\n",
    "         6.30, 6.30, 6.25),\n",
    "       nrow = 22,\n",
    "       byrow = TRUE,\n",
    "       dimnames = list(1 : 22,\n",
    "                       c(\"Round Out\", \"Narrow Angle\", \"Wide Angle\")))\n",
    "friedman.test(RoundingTimes)\n",
    "## => strong evidence against the null that the methods are equivalent\n",
    "##    with respect to speed"
   ]
  },
  {
   "cell_type": "code",
   "execution_count": 20,
   "metadata": {
    "ExecuteTime": {
     "end_time": "2020-03-06T12:47:24.770800Z",
     "start_time": "2020-03-06T12:47:24.679Z"
    }
   },
   "outputs": [
    {
     "data": {
      "image/png": "[encoded data removed]",
      "text/plain": [
       "plot without title"
      ]
     },
     "metadata": {},
     "output_type": "display_data"
    }
   ],
   "source": [
    "plot(RoundingTimes[1,], type='b', ylim=c(min(RoundingTimes), max(RoundingTimes)), xaxt = 'n')\n",
    "axis(side=1,at=1:3, labels=c('M1','M2','M3'))\n",
    "for (j in 2:22){\n",
    "    lines(1:3, RoundingTimes[j,], type='b', col=j)\n",
    "}"
   ]
  },
  {
   "cell_type": "markdown",
   "metadata": {},
   "source": [
    "### Air Quality "
   ]
  },
  {
   "cell_type": "code",
   "execution_count": 21,
   "metadata": {
    "ExecuteTime": {
     "end_time": "2020-03-06T12:49:32.033397Z",
     "start_time": "2020-03-06T12:49:31.995Z"
    }
   },
   "outputs": [
    {
     "data": {
      "text/html": [
       "<table>\n",
       "<caption>A data.frame: 6 × 6</caption>\n",
       "<thead>\n",
       "\t<tr><th scope=col>Ozone</th><th scope=col>Solar.R</th><th scope=col>Wind</th><th scope=col>Temp</th><th scope=col>Month</th><th scope=col>Day</th></tr>\n",
       "\t<tr><th scope=col>&lt;int&gt;</th><th scope=col>&lt;int&gt;</th><th scope=col>&lt;dbl&gt;</th><th scope=col>&lt;int&gt;</th><th scope=col>&lt;int&gt;</th><th scope=col>&lt;int&gt;</th></tr>\n",
       "</thead>\n",
       "<tbody>\n",
       "\t<tr><td>41</td><td>190</td><td> 7.4</td><td>67</td><td>5</td><td>1</td></tr>\n",
       "\t<tr><td>36</td><td>118</td><td> 8.0</td><td>72</td><td>5</td><td>2</td></tr>\n",
       "\t<tr><td>12</td><td>149</td><td>12.6</td><td>74</td><td>5</td><td>3</td></tr>\n",
       "\t<tr><td>18</td><td>313</td><td>11.5</td><td>62</td><td>5</td><td>4</td></tr>\n",
       "\t<tr><td>NA</td><td> NA</td><td>14.3</td><td>56</td><td>5</td><td>5</td></tr>\n",
       "\t<tr><td>28</td><td> NA</td><td>14.9</td><td>66</td><td>5</td><td>6</td></tr>\n",
       "</tbody>\n",
       "</table>\n"
      ],
      "text/latex": [
       "A data.frame: 6 × 6\n",
       "\\begin{tabular}{r|llllll}\n",
       " Ozone & Solar.R & Wind & Temp & Month & Day\\\\\n",
       " <int> & <int> & <dbl> & <int> & <int> & <int>\\\\\n",
       "\\hline\n",
       "\t 41 & 190 &  7.4 & 67 & 5 & 1\\\\\n",
       "\t 36 & 118 &  8.0 & 72 & 5 & 2\\\\\n",
       "\t 12 & 149 & 12.6 & 74 & 5 & 3\\\\\n",
       "\t 18 & 313 & 11.5 & 62 & 5 & 4\\\\\n",
       "\t NA &  NA & 14.3 & 56 & 5 & 5\\\\\n",
       "\t 28 &  NA & 14.9 & 66 & 5 & 6\\\\\n",
       "\\end{tabular}\n"
      ],
      "text/markdown": [
       "\n",
       "A data.frame: 6 × 6\n",
       "\n",
       "| Ozone &lt;int&gt; | Solar.R &lt;int&gt; | Wind &lt;dbl&gt; | Temp &lt;int&gt; | Month &lt;int&gt; | Day &lt;int&gt; |\n",
       "|---|---|---|---|---|---|\n",
       "| 41 | 190 |  7.4 | 67 | 5 | 1 |\n",
       "| 36 | 118 |  8.0 | 72 | 5 | 2 |\n",
       "| 12 | 149 | 12.6 | 74 | 5 | 3 |\n",
       "| 18 | 313 | 11.5 | 62 | 5 | 4 |\n",
       "| NA |  NA | 14.3 | 56 | 5 | 5 |\n",
       "| 28 |  NA | 14.9 | 66 | 5 | 6 |\n",
       "\n"
      ],
      "text/plain": [
       "  Ozone Solar.R Wind Temp Month Day\n",
       "1 41    190      7.4 67   5     1  \n",
       "2 36    118      8.0 72   5     2  \n",
       "3 12    149     12.6 74   5     3  \n",
       "4 18    313     11.5 62   5     4  \n",
       "5 NA     NA     14.3 56   5     5  \n",
       "6 28     NA     14.9 66   5     6  "
      ]
     },
     "metadata": {},
     "output_type": "display_data"
    }
   ],
   "source": [
    "head(airquality)"
   ]
  },
  {
   "cell_type": "code",
   "execution_count": 22,
   "metadata": {
    "ExecuteTime": {
     "end_time": "2020-03-06T12:51:05.847897Z",
     "start_time": "2020-03-06T12:51:05.797Z"
    }
   },
   "outputs": [
    {
     "data": {
      "image/png": "[encoded data removed]",
      "text/plain": [
       "plot without title"
      ]
     },
     "metadata": {},
     "output_type": "display_data"
    }
   ],
   "source": [
    "boxplot(Ozone~Month, data=airquality, col='yellow')"
   ]
  },
  {
   "cell_type": "markdown",
   "metadata": {},
   "source": [
    "#### Is there any difference in Ozone between various months?"
   ]
  },
  {
   "cell_type": "code",
   "execution_count": 23,
   "metadata": {
    "ExecuteTime": {
     "end_time": "2020-03-06T12:53:55.821759Z",
     "start_time": "2020-03-06T12:53:55.810Z"
    }
   },
   "outputs": [
    {
     "data": {
      "text/plain": [
       "\n",
       "\tKruskal-Wallis rank sum test\n",
       "\n",
       "data:  Ozone by Month\n",
       "Kruskal-Wallis chi-squared = 29.267, df = 4, p-value = 6.901e-06\n"
      ]
     },
     "metadata": {},
     "output_type": "display_data"
    }
   ],
   "source": [
    "kruskal.test(Ozone~Month, data=airquality)"
   ]
  },
  {
   "cell_type": "markdown",
   "metadata": {},
   "source": [
    "Yes, p-value<0.01"
   ]
  },
  {
   "cell_type": "markdown",
   "metadata": {},
   "source": [
    "#### Starting from September some attempts to improve the air quality were made. Did they help?\n"
   ]
  },
  {
   "cell_type": "markdown",
   "metadata": {},
   "source": [
    "For each day in September, we find a similar day in May-August \n"
   ]
  },
  {
   "cell_type": "code",
   "execution_count": 24,
   "metadata": {
    "ExecuteTime": {
     "end_time": "2020-03-06T12:59:27.083277Z",
     "start_time": "2020-03-06T12:59:27.058Z"
    }
   },
   "outputs": [],
   "source": [
    "aver=rep(0,5)\n",
    "for (i in 5:9){\n",
    "    ind = which(airquality$Month == i)\n",
    "    aver[i-4]=mean(airquality$Ozone[ind], na.rm = T)\n",
    "}\n",
    "\n"
   ]
  },
  {
   "cell_type": "code",
   "execution_count": 27,
   "metadata": {
    "ExecuteTime": {
     "end_time": "2020-03-06T12:59:42.048338Z",
     "start_time": "2020-03-06T12:59:42.036Z"
    }
   },
   "outputs": [
    {
     "data": {
      "text/html": [
       "<ol class=list-inline>\n",
       "\t<li>23.6153846153846</li>\n",
       "\t<li>29.4444444444444</li>\n",
       "\t<li>59.1153846153846</li>\n",
       "\t<li>59.9615384615385</li>\n",
       "\t<li>31.448275862069</li>\n",
       "</ol>\n"
      ],
      "text/latex": [
       "\\begin{enumerate*}\n",
       "\\item 23.6153846153846\n",
       "\\item 29.4444444444444\n",
       "\\item 59.1153846153846\n",
       "\\item 59.9615384615385\n",
       "\\item 31.448275862069\n",
       "\\end{enumerate*}\n"
      ],
      "text/markdown": [
       "1. 23.6153846153846\n",
       "2. 29.4444444444444\n",
       "3. 59.1153846153846\n",
       "4. 59.9615384615385\n",
       "5. 31.448275862069\n",
       "\n",
       "\n"
      ],
      "text/plain": [
       "[1] 23.61538 29.44444 59.11538 59.96154 31.44828"
      ]
     },
     "metadata": {},
     "output_type": "display_data"
    }
   ],
   "source": [
    "aver"
   ]
  },
  {
   "cell_type": "code",
   "execution_count": 29,
   "metadata": {
    "ExecuteTime": {
     "end_time": "2020-03-06T13:02:09.128790Z",
     "start_time": "2020-03-06T13:02:09.103Z"
    }
   },
   "outputs": [],
   "source": [
    "air = airquality$Ozone\n",
    "for (j in 1:153){\n",
    "    if (is.na(airquality$Ozone[j])==T){\n",
    "        air[j] = aver[airquality$Month[j] - 4 ]\n",
    "    }\n",
    "}"
   ]
  },
  {
   "cell_type": "code",
   "execution_count": 31,
   "metadata": {
    "ExecuteTime": {
     "end_time": "2020-03-06T13:03:26.116115Z",
     "start_time": "2020-03-06T13:03:26.102Z"
    }
   },
   "outputs": [],
   "source": [
    "M = scale(airquality[,2:4])"
   ]
  },
  {
   "cell_type": "code",
   "execution_count": 32,
   "metadata": {
    "ExecuteTime": {
     "end_time": "2020-03-06T13:03:48.915438Z",
     "start_time": "2020-03-06T13:03:48.883Z"
    }
   },
   "outputs": [
    {
     "data": {
      "text/html": [
       "<ol class=list-inline>\n",
       "\t<li>5</li>\n",
       "\t<li>5</li>\n",
       "\t<li>5</li>\n",
       "\t<li>5</li>\n",
       "\t<li>5</li>\n",
       "\t<li>5</li>\n",
       "\t<li>5</li>\n",
       "\t<li>5</li>\n",
       "\t<li>5</li>\n",
       "\t<li>5</li>\n",
       "\t<li>5</li>\n",
       "\t<li>5</li>\n",
       "\t<li>5</li>\n",
       "\t<li>5</li>\n",
       "\t<li>5</li>\n",
       "\t<li>5</li>\n",
       "\t<li>5</li>\n",
       "\t<li>5</li>\n",
       "\t<li>5</li>\n",
       "\t<li>5</li>\n",
       "\t<li>5</li>\n",
       "\t<li>5</li>\n",
       "\t<li>5</li>\n",
       "\t<li>5</li>\n",
       "\t<li>5</li>\n",
       "\t<li>5</li>\n",
       "\t<li>5</li>\n",
       "\t<li>5</li>\n",
       "\t<li>5</li>\n",
       "\t<li>5</li>\n",
       "\t<li>5</li>\n",
       "\t<li>6</li>\n",
       "\t<li>6</li>\n",
       "\t<li>6</li>\n",
       "\t<li>6</li>\n",
       "\t<li>6</li>\n",
       "\t<li>6</li>\n",
       "\t<li>6</li>\n",
       "\t<li>6</li>\n",
       "\t<li>6</li>\n",
       "\t<li>6</li>\n",
       "\t<li>6</li>\n",
       "\t<li>6</li>\n",
       "\t<li>6</li>\n",
       "\t<li>6</li>\n",
       "\t<li>6</li>\n",
       "\t<li>6</li>\n",
       "\t<li>6</li>\n",
       "\t<li>6</li>\n",
       "\t<li>6</li>\n",
       "\t<li>6</li>\n",
       "\t<li>6</li>\n",
       "\t<li>6</li>\n",
       "\t<li>6</li>\n",
       "\t<li>6</li>\n",
       "\t<li>6</li>\n",
       "\t<li>6</li>\n",
       "\t<li>6</li>\n",
       "\t<li>6</li>\n",
       "\t<li>6</li>\n",
       "\t<li>6</li>\n",
       "\t<li>7</li>\n",
       "\t<li>7</li>\n",
       "\t<li>7</li>\n",
       "\t<li>7</li>\n",
       "\t<li>7</li>\n",
       "\t<li>7</li>\n",
       "\t<li>7</li>\n",
       "\t<li>7</li>\n",
       "\t<li>7</li>\n",
       "\t<li>7</li>\n",
       "\t<li>7</li>\n",
       "\t<li>7</li>\n",
       "\t<li>7</li>\n",
       "\t<li>7</li>\n",
       "\t<li>7</li>\n",
       "\t<li>7</li>\n",
       "\t<li>7</li>\n",
       "\t<li>7</li>\n",
       "\t<li>7</li>\n",
       "\t<li>7</li>\n",
       "\t<li>7</li>\n",
       "\t<li>7</li>\n",
       "\t<li>7</li>\n",
       "\t<li>7</li>\n",
       "\t<li>7</li>\n",
       "\t<li>7</li>\n",
       "\t<li>7</li>\n",
       "\t<li>7</li>\n",
       "\t<li>7</li>\n",
       "\t<li>7</li>\n",
       "\t<li>7</li>\n",
       "\t<li>8</li>\n",
       "\t<li>8</li>\n",
       "\t<li>8</li>\n",
       "\t<li>8</li>\n",
       "\t<li>8</li>\n",
       "\t<li>8</li>\n",
       "\t<li>8</li>\n",
       "\t<li>8</li>\n",
       "\t<li>8</li>\n",
       "\t<li>8</li>\n",
       "\t<li>8</li>\n",
       "\t<li>8</li>\n",
       "\t<li>8</li>\n",
       "\t<li>8</li>\n",
       "\t<li>8</li>\n",
       "\t<li>8</li>\n",
       "\t<li>8</li>\n",
       "\t<li>8</li>\n",
       "\t<li>8</li>\n",
       "\t<li>8</li>\n",
       "\t<li>8</li>\n",
       "\t<li>8</li>\n",
       "\t<li>8</li>\n",
       "\t<li>8</li>\n",
       "\t<li>8</li>\n",
       "\t<li>8</li>\n",
       "\t<li>8</li>\n",
       "\t<li>8</li>\n",
       "\t<li>8</li>\n",
       "\t<li>8</li>\n",
       "\t<li>8</li>\n",
       "\t<li>9</li>\n",
       "\t<li>9</li>\n",
       "\t<li>9</li>\n",
       "\t<li>9</li>\n",
       "\t<li>9</li>\n",
       "\t<li>9</li>\n",
       "\t<li>9</li>\n",
       "\t<li>9</li>\n",
       "\t<li>9</li>\n",
       "\t<li>9</li>\n",
       "\t<li>9</li>\n",
       "\t<li>9</li>\n",
       "\t<li>9</li>\n",
       "\t<li>9</li>\n",
       "\t<li>9</li>\n",
       "\t<li>9</li>\n",
       "\t<li>9</li>\n",
       "\t<li>9</li>\n",
       "\t<li>9</li>\n",
       "\t<li>9</li>\n",
       "\t<li>9</li>\n",
       "\t<li>9</li>\n",
       "\t<li>9</li>\n",
       "\t<li>9</li>\n",
       "\t<li>9</li>\n",
       "\t<li>9</li>\n",
       "\t<li>9</li>\n",
       "\t<li>9</li>\n",
       "\t<li>9</li>\n",
       "\t<li>9</li>\n",
       "</ol>\n"
      ],
      "text/latex": [
       "\\begin{enumerate*}\n",
       "\\item 5\n",
       "\\item 5\n",
       "\\item 5\n",
       "\\item 5\n",
       "\\item 5\n",
       "\\item 5\n",
       "\\item 5\n",
       "\\item 5\n",
       "\\item 5\n",
       "\\item 5\n",
       "\\item 5\n",
       "\\item 5\n",
       "\\item 5\n",
       "\\item 5\n",
       "\\item 5\n",
       "\\item 5\n",
       "\\item 5\n",
       "\\item 5\n",
       "\\item 5\n",
       "\\item 5\n",
       "\\item 5\n",
       "\\item 5\n",
       "\\item 5\n",
       "\\item 5\n",
       "\\item 5\n",
       "\\item 5\n",
       "\\item 5\n",
       "\\item 5\n",
       "\\item 5\n",
       "\\item 5\n",
       "\\item 5\n",
       "\\item 6\n",
       "\\item 6\n",
       "\\item 6\n",
       "\\item 6\n",
       "\\item 6\n",
       "\\item 6\n",
       "\\item 6\n",
       "\\item 6\n",
       "\\item 6\n",
       "\\item 6\n",
       "\\item 6\n",
       "\\item 6\n",
       "\\item 6\n",
       "\\item 6\n",
       "\\item 6\n",
       "\\item 6\n",
       "\\item 6\n",
       "\\item 6\n",
       "\\item 6\n",
       "\\item 6\n",
       "\\item 6\n",
       "\\item 6\n",
       "\\item 6\n",
       "\\item 6\n",
       "\\item 6\n",
       "\\item 6\n",
       "\\item 6\n",
       "\\item 6\n",
       "\\item 6\n",
       "\\item 6\n",
       "\\item 7\n",
       "\\item 7\n",
       "\\item 7\n",
       "\\item 7\n",
       "\\item 7\n",
       "\\item 7\n",
       "\\item 7\n",
       "\\item 7\n",
       "\\item 7\n",
       "\\item 7\n",
       "\\item 7\n",
       "\\item 7\n",
       "\\item 7\n",
       "\\item 7\n",
       "\\item 7\n",
       "\\item 7\n",
       "\\item 7\n",
       "\\item 7\n",
       "\\item 7\n",
       "\\item 7\n",
       "\\item 7\n",
       "\\item 7\n",
       "\\item 7\n",
       "\\item 7\n",
       "\\item 7\n",
       "\\item 7\n",
       "\\item 7\n",
       "\\item 7\n",
       "\\item 7\n",
       "\\item 7\n",
       "\\item 7\n",
       "\\item 8\n",
       "\\item 8\n",
       "\\item 8\n",
       "\\item 8\n",
       "\\item 8\n",
       "\\item 8\n",
       "\\item 8\n",
       "\\item 8\n",
       "\\item 8\n",
       "\\item 8\n",
       "\\item 8\n",
       "\\item 8\n",
       "\\item 8\n",
       "\\item 8\n",
       "\\item 8\n",
       "\\item 8\n",
       "\\item 8\n",
       "\\item 8\n",
       "\\item 8\n",
       "\\item 8\n",
       "\\item 8\n",
       "\\item 8\n",
       "\\item 8\n",
       "\\item 8\n",
       "\\item 8\n",
       "\\item 8\n",
       "\\item 8\n",
       "\\item 8\n",
       "\\item 8\n",
       "\\item 8\n",
       "\\item 8\n",
       "\\item 9\n",
       "\\item 9\n",
       "\\item 9\n",
       "\\item 9\n",
       "\\item 9\n",
       "\\item 9\n",
       "\\item 9\n",
       "\\item 9\n",
       "\\item 9\n",
       "\\item 9\n",
       "\\item 9\n",
       "\\item 9\n",
       "\\item 9\n",
       "\\item 9\n",
       "\\item 9\n",
       "\\item 9\n",
       "\\item 9\n",
       "\\item 9\n",
       "\\item 9\n",
       "\\item 9\n",
       "\\item 9\n",
       "\\item 9\n",
       "\\item 9\n",
       "\\item 9\n",
       "\\item 9\n",
       "\\item 9\n",
       "\\item 9\n",
       "\\item 9\n",
       "\\item 9\n",
       "\\item 9\n",
       "\\end{enumerate*}\n"
      ],
      "text/markdown": [
       "1. 5\n",
       "2. 5\n",
       "3. 5\n",
       "4. 5\n",
       "5. 5\n",
       "6. 5\n",
       "7. 5\n",
       "8. 5\n",
       "9. 5\n",
       "10. 5\n",
       "11. 5\n",
       "12. 5\n",
       "13. 5\n",
       "14. 5\n",
       "15. 5\n",
       "16. 5\n",
       "17. 5\n",
       "18. 5\n",
       "19. 5\n",
       "20. 5\n",
       "21. 5\n",
       "22. 5\n",
       "23. 5\n",
       "24. 5\n",
       "25. 5\n",
       "26. 5\n",
       "27. 5\n",
       "28. 5\n",
       "29. 5\n",
       "30. 5\n",
       "31. 5\n",
       "32. 6\n",
       "33. 6\n",
       "34. 6\n",
       "35. 6\n",
       "36. 6\n",
       "37. 6\n",
       "38. 6\n",
       "39. 6\n",
       "40. 6\n",
       "41. 6\n",
       "42. 6\n",
       "43. 6\n",
       "44. 6\n",
       "45. 6\n",
       "46. 6\n",
       "47. 6\n",
       "48. 6\n",
       "49. 6\n",
       "50. 6\n",
       "51. 6\n",
       "52. 6\n",
       "53. 6\n",
       "54. 6\n",
       "55. 6\n",
       "56. 6\n",
       "57. 6\n",
       "58. 6\n",
       "59. 6\n",
       "60. 6\n",
       "61. 6\n",
       "62. 7\n",
       "63. 7\n",
       "64. 7\n",
       "65. 7\n",
       "66. 7\n",
       "67. 7\n",
       "68. 7\n",
       "69. 7\n",
       "70. 7\n",
       "71. 7\n",
       "72. 7\n",
       "73. 7\n",
       "74. 7\n",
       "75. 7\n",
       "76. 7\n",
       "77. 7\n",
       "78. 7\n",
       "79. 7\n",
       "80. 7\n",
       "81. 7\n",
       "82. 7\n",
       "83. 7\n",
       "84. 7\n",
       "85. 7\n",
       "86. 7\n",
       "87. 7\n",
       "88. 7\n",
       "89. 7\n",
       "90. 7\n",
       "91. 7\n",
       "92. 7\n",
       "93. 8\n",
       "94. 8\n",
       "95. 8\n",
       "96. 8\n",
       "97. 8\n",
       "98. 8\n",
       "99. 8\n",
       "100. 8\n",
       "101. 8\n",
       "102. 8\n",
       "103. 8\n",
       "104. 8\n",
       "105. 8\n",
       "106. 8\n",
       "107. 8\n",
       "108. 8\n",
       "109. 8\n",
       "110. 8\n",
       "111. 8\n",
       "112. 8\n",
       "113. 8\n",
       "114. 8\n",
       "115. 8\n",
       "116. 8\n",
       "117. 8\n",
       "118. 8\n",
       "119. 8\n",
       "120. 8\n",
       "121. 8\n",
       "122. 8\n",
       "123. 8\n",
       "124. 9\n",
       "125. 9\n",
       "126. 9\n",
       "127. 9\n",
       "128. 9\n",
       "129. 9\n",
       "130. 9\n",
       "131. 9\n",
       "132. 9\n",
       "133. 9\n",
       "134. 9\n",
       "135. 9\n",
       "136. 9\n",
       "137. 9\n",
       "138. 9\n",
       "139. 9\n",
       "140. 9\n",
       "141. 9\n",
       "142. 9\n",
       "143. 9\n",
       "144. 9\n",
       "145. 9\n",
       "146. 9\n",
       "147. 9\n",
       "148. 9\n",
       "149. 9\n",
       "150. 9\n",
       "151. 9\n",
       "152. 9\n",
       "153. 9\n",
       "\n",
       "\n"
      ],
      "text/plain": [
       "  [1] 5 5 5 5 5 5 5 5 5 5 5 5 5 5 5 5 5 5 5 5 5 5 5 5 5 5 5 5 5 5 5 6 6 6 6 6 6\n",
       " [38] 6 6 6 6 6 6 6 6 6 6 6 6 6 6 6 6 6 6 6 6 6 6 6 6 7 7 7 7 7 7 7 7 7 7 7 7 7\n",
       " [75] 7 7 7 7 7 7 7 7 7 7 7 7 7 7 7 7 7 7 8 8 8 8 8 8 8 8 8 8 8 8 8 8 8 8 8 8 8\n",
       "[112] 8 8 8 8 8 8 8 8 8 8 8 8 9 9 9 9 9 9 9 9 9 9 9 9 9 9 9 9 9 9 9 9 9 9 9 9 9\n",
       "[149] 9 9 9 9 9"
      ]
     },
     "metadata": {},
     "output_type": "display_data"
    }
   ],
   "source": [
    "airquality$Month"
   ]
  },
  {
   "cell_type": "code",
   "execution_count": 33,
   "metadata": {
    "ExecuteTime": {
     "end_time": "2020-03-06T13:06:03.263311Z",
     "start_time": "2020-03-06T13:06:03.235Z"
    }
   },
   "outputs": [
    {
     "data": {
      "text/html": [
       "124"
      ],
      "text/latex": [
       "124"
      ],
      "text/markdown": [
       "124"
      ],
      "text/plain": [
       "[1] 124"
      ]
     },
     "metadata": {},
     "output_type": "display_data"
    }
   ],
   "source": [
    "min(which(airquality$Month == 9))"
   ]
  },
  {
   "cell_type": "code",
   "execution_count": 34,
   "metadata": {
    "ExecuteTime": {
     "end_time": "2020-03-06T13:06:20.004051Z",
     "start_time": "2020-03-06T13:06:19.991Z"
    }
   },
   "outputs": [],
   "source": [
    "res=rep(0,30)"
   ]
  },
  {
   "cell_type": "code",
   "execution_count": 35,
   "metadata": {
    "ExecuteTime": {
     "end_time": "2020-03-06T13:07:31.490275Z",
     "start_time": "2020-03-06T13:07:31.481Z"
    }
   },
   "outputs": [],
   "source": [
    "s =  rep(0,123)"
   ]
  },
  {
   "cell_type": "code",
   "execution_count": 37,
   "metadata": {
    "ExecuteTime": {
     "end_time": "2020-03-06T13:11:03.283938Z",
     "start_time": "2020-03-06T13:11:03.191Z"
    }
   },
   "outputs": [
    {
     "data": {
      "text/html": [
       "<ol class=list-inline>\n",
       "\t<li>85</li>\n",
       "\t<li>85</li>\n",
       "\t<li>118</li>\n",
       "\t<li>85</li>\n",
       "\t<li>78</li>\n",
       "\t<li>7</li>\n",
       "\t<li>31</li>\n",
       "\t<li>45</li>\n",
       "\t<li>31</li>\n",
       "\t<li>29.4444444444444</li>\n",
       "\t<li>45</li>\n",
       "\t<li>21</li>\n",
       "\t<li>29.4444444444444</li>\n",
       "\t<li>29.4444444444444</li>\n",
       "\t<li>12</li>\n",
       "\t<li>29.4444444444444</li>\n",
       "\t<li>28</li>\n",
       "\t<li>29.4444444444444</li>\n",
       "\t<li>16</li>\n",
       "\t<li>108</li>\n",
       "\t<li>14</li>\n",
       "\t<li>29.4444444444444</li>\n",
       "\t<li>29</li>\n",
       "\t<li>29.4444444444444</li>\n",
       "\t<li>28</li>\n",
       "\t<li>41</li>\n",
       "\t<li>12</li>\n",
       "\t<li>21</li>\n",
       "\t<li>29.4444444444444</li>\n",
       "\t<li>14</li>\n",
       "</ol>\n"
      ],
      "text/latex": [
       "\\begin{enumerate*}\n",
       "\\item 85\n",
       "\\item 85\n",
       "\\item 118\n",
       "\\item 85\n",
       "\\item 78\n",
       "\\item 7\n",
       "\\item 31\n",
       "\\item 45\n",
       "\\item 31\n",
       "\\item 29.4444444444444\n",
       "\\item 45\n",
       "\\item 21\n",
       "\\item 29.4444444444444\n",
       "\\item 29.4444444444444\n",
       "\\item 12\n",
       "\\item 29.4444444444444\n",
       "\\item 28\n",
       "\\item 29.4444444444444\n",
       "\\item 16\n",
       "\\item 108\n",
       "\\item 14\n",
       "\\item 29.4444444444444\n",
       "\\item 29\n",
       "\\item 29.4444444444444\n",
       "\\item 28\n",
       "\\item 41\n",
       "\\item 12\n",
       "\\item 21\n",
       "\\item 29.4444444444444\n",
       "\\item 14\n",
       "\\end{enumerate*}\n"
      ],
      "text/markdown": [
       "1. 85\n",
       "2. 85\n",
       "3. 118\n",
       "4. 85\n",
       "5. 78\n",
       "6. 7\n",
       "7. 31\n",
       "8. 45\n",
       "9. 31\n",
       "10. 29.4444444444444\n",
       "11. 45\n",
       "12. 21\n",
       "13. 29.4444444444444\n",
       "14. 29.4444444444444\n",
       "15. 12\n",
       "16. 29.4444444444444\n",
       "17. 28\n",
       "18. 29.4444444444444\n",
       "19. 16\n",
       "20. 108\n",
       "21. 14\n",
       "22. 29.4444444444444\n",
       "23. 29\n",
       "24. 29.4444444444444\n",
       "25. 28\n",
       "26. 41\n",
       "27. 12\n",
       "28. 21\n",
       "29. 29.4444444444444\n",
       "30. 14\n",
       "\n",
       "\n"
      ],
      "text/plain": [
       " [1]  85.00000  85.00000 118.00000  85.00000  78.00000   7.00000  31.00000\n",
       " [8]  45.00000  31.00000  29.44444  45.00000  21.00000  29.44444  29.44444\n",
       "[15]  12.00000  29.44444  28.00000  29.44444  16.00000 108.00000  14.00000\n",
       "[22]  29.44444  29.00000  29.44444  28.00000  41.00000  12.00000  21.00000\n",
       "[29]  29.44444  14.00000"
      ]
     },
     "metadata": {},
     "output_type": "display_data"
    }
   ],
   "source": [
    "for (i in 124:153){\n",
    "    x=M[i,]\n",
    "    for (j in 1:123){\n",
    "        s[j]=dist(rbind(x, M[j,]))\n",
    "    }\n",
    "    res[i-123]=air[which.min(s)]\n",
    "}\n",
    "res"
   ]
  },
  {
   "cell_type": "code",
   "execution_count": 38,
   "metadata": {
    "ExecuteTime": {
     "end_time": "2020-03-06T13:12:41.620626Z",
     "start_time": "2020-03-06T13:12:41.556Z"
    }
   },
   "outputs": [
    {
     "data": {
      "image/png": "[encoded data removed]",
      "text/plain": [
       "plot without title"
      ]
     },
     "metadata": {},
     "output_type": "display_data"
    }
   ],
   "source": [
    "y = airquality$Ozone[124:153]\n",
    "plot(res, y)"
   ]
  },
  {
   "cell_type": "code",
   "execution_count": 40,
   "metadata": {
    "ExecuteTime": {
     "end_time": "2020-03-06T13:14:06.556645Z",
     "start_time": "2020-03-06T13:14:06.538Z"
    }
   },
   "outputs": [
    {
     "name": "stderr",
     "output_type": "stream",
     "text": [
      "Warning message in wilcox.test.default(res, y, paired = T):\n",
      "“cannot compute exact p-value with ties”Warning message in wilcox.test.default(res, y, paired = T):\n",
      "“cannot compute exact p-value with zeroes”"
     ]
    },
    {
     "data": {
      "text/plain": [
       "\n",
       "\tWilcoxon signed rank test with continuity correction\n",
       "\n",
       "data:  res and y\n",
       "V = 307, p-value = 0.01838\n",
       "alternative hypothesis: true location shift is not equal to 0\n"
      ]
     },
     "metadata": {},
     "output_type": "display_data"
    },
    {
     "name": "stderr",
     "output_type": "stream",
     "text": [
      "Warning message in wilcox.test.default(res, y, paired = T, alternative = \"greater\"):\n",
      "“cannot compute exact p-value with ties”Warning message in wilcox.test.default(res, y, paired = T, alternative = \"greater\"):\n",
      "“cannot compute exact p-value with zeroes”"
     ]
    },
    {
     "data": {
      "text/plain": [
       "\n",
       "\tWilcoxon signed rank test with continuity correction\n",
       "\n",
       "data:  res and y\n",
       "V = 307, p-value = 0.009189\n",
       "alternative hypothesis: true location shift is greater than 0\n"
      ]
     },
     "metadata": {},
     "output_type": "display_data"
    }
   ],
   "source": [
    "wilcox.test(res, y, paired = T)\n",
    "wilcox.test(res, y, paired = T, alternative = \"greater\")"
   ]
  },
  {
   "cell_type": "code",
   "execution_count": 41,
   "metadata": {
    "ExecuteTime": {
     "end_time": "2020-03-06T13:14:14.597850Z",
     "start_time": "2020-03-06T13:14:14.564Z"
    }
   },
   "outputs": [
    {
     "data": {
      "image/png": "[encoded data removed]",
      "text/plain": [
       "plot without title"
      ]
     },
     "metadata": {},
     "output_type": "display_data"
    }
   ],
   "source": [
    "boxplot(res,y)"
   ]
  },
  {
   "cell_type": "markdown",
   "metadata": {},
   "source": [
    "#### Is it true that T, S, W determine ozone levels?"
   ]
  },
  {
   "cell_type": "code",
   "execution_count": 11,
   "metadata": {
    "ExecuteTime": {
     "end_time": "2020-03-11T09:15:20.012602Z",
     "start_time": "2020-03-11T09:15:19.993Z"
    }
   },
   "outputs": [
    {
     "data": {
      "text/html": [
       "<table>\n",
       "<caption>A matrix: 2 × 3 of type dbl</caption>\n",
       "<tbody>\n",
       "\t<tr><td>144.1</td><td>240.8</td><td>10000</td></tr>\n",
       "\t<tr><td>  8.0</td><td> 11.5</td><td>10000</td></tr>\n",
       "</tbody>\n",
       "</table>\n"
      ],
      "text/latex": [
       "A matrix: 2 × 3 of type dbl\n",
       "\\begin{tabular}{lll}\n",
       "\t 144.1 & 240.8 & 10000\\\\\n",
       "\t   8.0 &  11.5 & 10000\\\\\n",
       "\\end{tabular}\n"
      ],
      "text/markdown": [
       "\n",
       "A matrix: 2 × 3 of type dbl\n",
       "\n",
       "| 144.1 | 240.8 | 10000 |\n",
       "|   8.0 |  11.5 | 10000 |\n",
       "\n"
      ],
      "text/plain": [
       "     [,1]  [,2]  [,3] \n",
       "[1,] 144.1 240.8 10000\n",
       "[2,]   8.0  11.5 10000"
      ]
     },
     "metadata": {},
     "output_type": "display_data"
    }
   ],
   "source": [
    "M=matrix(data=NA, nrow=2,ncol=3)\n",
    "for (i in 2:3){\n",
    "  M[i-1,1]=quantile(airquality[,i], 0.33,na.rm=TRUE)\n",
    "  M[i-1,2]=quantile(airquality[,i], 0.66,na.rm=TRUE)\n",
    "}\n",
    "M[,3]=rep(10000,2)\n",
    "M"
   ]
  },
  {
   "cell_type": "code",
   "execution_count": 12,
   "metadata": {
    "ExecuteTime": {
     "end_time": "2020-03-11T09:15:20.295098Z",
     "start_time": "2020-03-11T09:15:20.253Z"
    }
   },
   "outputs": [
    {
     "data": {
      "text/html": [
       "<table>\n",
       "<caption>A matrix: 9 × 5 of type dbl</caption>\n",
       "<tbody>\n",
       "\t<tr><td>     NaN</td><td>     NaN</td><td>16.000</td><td> 34.25000</td><td>47.00000</td></tr>\n",
       "\t<tr><td>13.00000</td><td>20.66667</td><td>20.000</td><td> 22.00000</td><td>17.66667</td></tr>\n",
       "\t<tr><td>17.66667</td><td>12.00000</td><td>29.500</td><td>  9.00000</td><td>19.66667</td></tr>\n",
       "\t<tr><td>78.00000</td><td>     NaN</td><td>77.500</td><td>113.75000</td><td>63.14286</td></tr>\n",
       "\t<tr><td>     NaN</td><td>23.00000</td><td>70.000</td><td> 71.71429</td><td>21.00000</td></tr>\n",
       "\t<tr><td>12.00000</td><td>21.00000</td><td>45.000</td><td> 44.00000</td><td>21.80000</td></tr>\n",
       "\t<tr><td>37.00000</td><td>     NaN</td><td>78.625</td><td>122.00000</td><td>     NaN</td></tr>\n",
       "\t<tr><td>16.00000</td><td>     NaN</td><td>52.600</td><td> 31.00000</td><td>22.00000</td></tr>\n",
       "\t<tr><td>25.33333</td><td>49.00000</td><td>10.000</td><td> 24.50000</td><td>21.00000</td></tr>\n",
       "</tbody>\n",
       "</table>\n"
      ],
      "text/latex": [
       "A matrix: 9 × 5 of type dbl\n",
       "\\begin{tabular}{lllll}\n",
       "\t      NaN &      NaN & 16.000 &  34.25000 & 47.00000\\\\\n",
       "\t 13.00000 & 20.66667 & 20.000 &  22.00000 & 17.66667\\\\\n",
       "\t 17.66667 & 12.00000 & 29.500 &   9.00000 & 19.66667\\\\\n",
       "\t 78.00000 &      NaN & 77.500 & 113.75000 & 63.14286\\\\\n",
       "\t      NaN & 23.00000 & 70.000 &  71.71429 & 21.00000\\\\\n",
       "\t 12.00000 & 21.00000 & 45.000 &  44.00000 & 21.80000\\\\\n",
       "\t 37.00000 &      NaN & 78.625 & 122.00000 &      NaN\\\\\n",
       "\t 16.00000 &      NaN & 52.600 &  31.00000 & 22.00000\\\\\n",
       "\t 25.33333 & 49.00000 & 10.000 &  24.50000 & 21.00000\\\\\n",
       "\\end{tabular}\n"
      ],
      "text/markdown": [
       "\n",
       "A matrix: 9 × 5 of type dbl\n",
       "\n",
       "|      NaN |      NaN | 16.000 |  34.25000 | 47.00000 |\n",
       "| 13.00000 | 20.66667 | 20.000 |  22.00000 | 17.66667 |\n",
       "| 17.66667 | 12.00000 | 29.500 |   9.00000 | 19.66667 |\n",
       "| 78.00000 |      NaN | 77.500 | 113.75000 | 63.14286 |\n",
       "|      NaN | 23.00000 | 70.000 |  71.71429 | 21.00000 |\n",
       "| 12.00000 | 21.00000 | 45.000 |  44.00000 | 21.80000 |\n",
       "| 37.00000 |      NaN | 78.625 | 122.00000 |      NaN |\n",
       "| 16.00000 |      NaN | 52.600 |  31.00000 | 22.00000 |\n",
       "| 25.33333 | 49.00000 | 10.000 |  24.50000 | 21.00000 |\n",
       "\n"
      ],
      "text/plain": [
       "      [,1]     [,2]     [,3]   [,4]      [,5]    \n",
       " [1,]      NaN      NaN 16.000  34.25000 47.00000\n",
       " [2,] 13.00000 20.66667 20.000  22.00000 17.66667\n",
       " [3,] 17.66667 12.00000 29.500   9.00000 19.66667\n",
       " [4,] 78.00000      NaN 77.500 113.75000 63.14286\n",
       " [5,]      NaN 23.00000 70.000  71.71429 21.00000\n",
       " [6,] 12.00000 21.00000 45.000  44.00000 21.80000\n",
       " [7,] 37.00000      NaN 78.625 122.00000      NaN\n",
       " [8,] 16.00000      NaN 52.600  31.00000 22.00000\n",
       " [9,] 25.33333 49.00000 10.000  24.50000 21.00000"
      ]
     },
     "metadata": {},
     "output_type": "display_data"
    },
    {
     "data": {
      "text/plain": [
       "\n",
       "\tFriedman rank sum test\n",
       "\n",
       "data:  res\n",
       "Friedman chi-squared = 1.6, df = 4, p-value = 0.8088\n"
      ]
     },
     "metadata": {},
     "output_type": "display_data"
    }
   ],
   "source": [
    "res = matrix(data = NA, nrow = 9, ncol = 5)\n",
    "matr = airquality[, 2:5]\n",
    "n = 1\n",
    "for (i in 1:3) {\n",
    "    for (j in 1:3) {\n",
    "        for (mon in 5:9) {\n",
    "            ind = which(matr[, 1] < M[1, i] & matr[, 2] < M[2, j] & matr[, 4] == \n",
    "                mon)\n",
    "            res[n, mon - 4] = mean(airquality$Ozone[ind], na.rm = TRUE)\n",
    "            matr[ind, 4] = 0\n",
    "        }\n",
    "        n = n + 1\n",
    "    }\n",
    "}\n",
    "\n",
    "res\n",
    "friedman.test(res)"
   ]
  },
  {
   "cell_type": "code",
   "execution_count": null,
   "metadata": {},
   "outputs": [],
   "source": []
  }
 ],
 "metadata": {
  "hide_input": false,
  "kernelspec": {
   "display_name": "R 4.0.2",
   "language": "R",
   "name": "ir"
  },
  "language_info": {
   "codemirror_mode": "r",
   "file_extension": ".r",
   "mimetype": "text/x-r-source",
   "name": "R",
   "pygments_lexer": "r",
   "version": "4.0.4"
  },
  "latex_envs": {
   "LaTeX_envs_menu_present": true,
   "autoclose": true,
   "autocomplete": true,
   "bibliofile": "biblio.bib",
   "cite_by": "apalike",
   "current_citInitial": 1,
   "eqLabelWithNumbers": true,
   "eqNumInitial": 1,
   "hotkeys": {
    "equation": "Ctrl-E",
    "itemize": "Ctrl-I"
   },
   "labels_anchors": false,
   "latex_user_defs": false,
   "report_style_numbering": false,
   "user_envs_cfg": false
  },
  "toc": {
   "base_numbering": 1,
   "nav_menu": {},
   "number_sections": true,
   "sideBar": true,
   "skip_h1_title": false,
   "title_cell": "Table of Contents",
   "title_sidebar": "Contents",
   "toc_cell": false,
   "toc_position": {},
   "toc_section_display": true,
   "toc_window_display": false
  },
  "varInspector": {
   "cols": {
    "lenName": 16,
    "lenType": 16,
    "lenVar": 40
   },
   "kernels_config": {
    "python": {
     "delete_cmd_postfix": "",
     "delete_cmd_prefix": "del ",
     "library": "var_list.py",
     "varRefreshCmd": "print(var_dic_list())"
    },
    "r": {
     "delete_cmd_postfix": ") ",
     "delete_cmd_prefix": "rm(",
     "library": "var_list.r",
     "varRefreshCmd": "cat(var_dic_list()) "
    }
   },
   "types_to_exclude": [
    "module",
    "function",
    "builtin_function_or_method",
    "instance",
    "_Feature"
   ],
   "window_display": false
  }
 },
 "nbformat": 4,
 "nbformat_minor": 2
}
