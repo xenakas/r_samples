{
 "cells": [
  {
   "cell_type": "code",
   "execution_count": null,
   "metadata": {
    "ExecuteTime": {
     "end_time": "2019-09-30T09:48:51.393164Z",
     "start_time": "2019-09-30T09:48:51.373Z"
    }
   },
   "outputs": [],
   "source": [
    "library(RSelenium)\n",
    "library(XML)\n",
    "library(janitor) \n",
    "library(lubridate)\n",
    "library(magrittr)\n",
    "library(dplyr)\n",
    "library(xlsx)\n",
    "library(readxl)"
   ]
  },
  {
   "cell_type": "code",
   "execution_count": null,
   "metadata": {
    "ExecuteTime": {
     "end_time": "2019-09-30T09:49:45.571468Z",
     "start_time": "2019-09-30T09:49:45.528Z"
    }
   },
   "outputs": [],
   "source": [
    "remDr <- remoteDriver(\n",
    "  port = 4445L\n",
    ")"
   ]
  },
  {
   "cell_type": "code",
   "execution_count": null,
   "metadata": {
    "ExecuteTime": {
     "end_time": "2019-09-30T09:49:49.309827Z",
     "start_time": "2019-09-30T09:49:47.424Z"
    }
   },
   "outputs": [],
   "source": [
    "remDr$open()# Now open TightVNC to follow along with Selenium driving the browser. Set 192.168.99.100:5901 and password: secret# navigate to the main page\n",
    "# remDr$navigate(\"https://docs.google.com/spreadsheets/d/1o1PlLIQS8v-XSuEz1eqZB80kcJk9xg5lsbueB7mTg1U/pub?output=html&widget=true#gid=690408156\")# https://docs.google.com/spreadsheets/d/1o1PlLIQS8v-XSuEz1eqZB80kcJk9xg5lsbueB7mTg1U/pub?output=html&widget=true#gid=552987877# look for table element"
   ]
  },
  {
   "cell_type": "code",
   "execution_count": null,
   "metadata": {
    "ExecuteTime": {
     "end_time": "2019-09-30T09:49:57.169934Z",
     "start_time": "2019-09-30T09:49:57.161Z"
    }
   },
   "outputs": [],
   "source": [
    "# remDr$navigate(\"http://zakupki.gov.ru/epz/main/public/home.html\")\n",
    "# "
   ]
  },
  {
   "cell_type": "code",
   "execution_count": null,
   "metadata": {
    "ExecuteTime": {
     "end_time": "2019-09-30T16:37:14.297091Z",
     "start_time": "2019-09-30T16:37:14.237Z"
    }
   },
   "outputs": [],
   "source": [
    "goszak_df_kolich = read_excel('/media/xenakas/ext4_drive/data_goszak/goszak_df_cars_no_duplicates.xlsx') #, header=TRUE, colClasses=NA)\n",
    "\n",
    "# goszak_df = goszak_df  %>% clean_names()\n",
    "# goszak_df['all_indexes'] = goszak_df['index_name']"
   ]
  },
  {
   "cell_type": "markdown",
   "metadata": {},
   "source": [
    "#### Parse Kolichestvo"
   ]
  },
  {
   "cell_type": "code",
   "execution_count": null,
   "metadata": {
    "ExecuteTime": {
     "end_time": "2019-09-30T09:51:30.146957Z",
     "start_time": "2019-09-30T09:51:28.908Z"
    }
   },
   "outputs": [],
   "source": [
    "remDr$navigate(\"http://zakupki.gov.ru/epz/main/public/home.html\")"
   ]
  },
  {
   "cell_type": "code",
   "execution_count": null,
   "metadata": {
    "ExecuteTime": {
     "end_time": "2019-09-30T09:51:32.037995Z",
     "start_time": "2019-09-30T09:51:31.356Z"
    }
   },
   "outputs": [],
   "source": [
    "webElem <- remDr$findElement(using = \"css\", \"#quickSearchForm_header_searchString\")\n",
    "webElem$highlightElement()\n",
    "webElem$sendKeysToElement(list(goszak_df_kolich[[1,4]], key = \"enter\"))"
   ]
  },
  {
   "cell_type": "code",
   "execution_count": null,
   "metadata": {
    "ExecuteTime": {
     "end_time": "2019-09-30T09:51:41.453698Z",
     "start_time": "2019-09-30T09:51:40.640Z"
    }
   },
   "outputs": [],
   "source": [
    "webElem <- remDr$findElement(using = \"css\", \".pinkBg\")\n",
    "webElem$highlightElement()\n",
    "webElem$clickElement()"
   ]
  },
  {
   "cell_type": "code",
   "execution_count": null,
   "metadata": {
    "ExecuteTime": {
     "end_time": "2019-09-30T09:51:48.723374Z",
     "start_time": "2019-09-30T09:51:48.690Z"
    }
   },
   "outputs": [],
   "source": [
    "remDr$getCurrentUrl()"
   ]
  },
  {
   "cell_type": "code",
   "execution_count": null,
   "metadata": {
    "ExecuteTime": {
     "end_time": "2019-09-30T09:51:53.243659Z",
     "start_time": "2019-09-30T09:51:53.194Z"
    }
   },
   "outputs": [],
   "source": [
    "# get main window and store to switch back\n",
    "currWindow <-  remDr$getCurrentWindowHandle()\n",
    "currWindow"
   ]
  },
  {
   "cell_type": "code",
   "execution_count": null,
   "metadata": {
    "ExecuteTime": {
     "end_time": "2019-09-30T09:51:55.665629Z",
     "start_time": "2019-09-30T09:51:55.622Z"
    }
   },
   "outputs": [],
   "source": [
    "#gel all windows \n",
    "windows <- remDr$getWindowHandles()\n",
    "windows"
   ]
  },
  {
   "cell_type": "code",
   "execution_count": null,
   "metadata": {
    "ExecuteTime": {
     "end_time": "2019-09-30T09:52:04.092992Z",
     "start_time": "2019-09-30T09:52:04.037Z"
    }
   },
   "outputs": [],
   "source": [
    "remDr$switchToWindow(windows[[2]])\n",
    "# remDr$closeWindow()"
   ]
  },
  {
   "cell_type": "code",
   "execution_count": null,
   "metadata": {
    "ExecuteTime": {
     "end_time": "2019-09-30T09:52:21.745249Z",
     "start_time": "2019-09-30T09:52:21.717Z"
    }
   },
   "outputs": [],
   "source": [
    "remDr$getCurrentWindowHandle()"
   ]
  },
  {
   "cell_type": "code",
   "execution_count": null,
   "metadata": {
    "ExecuteTime": {
     "end_time": "2019-09-30T09:54:17.747854Z",
     "start_time": "2019-09-30T09:54:17.702Z"
    }
   },
   "outputs": [],
   "source": [
    "webElem <- remDr$findElement(using = \"css\", '.public')\n",
    "webElem"
   ]
  },
  {
   "cell_type": "code",
   "execution_count": null,
   "metadata": {
    "ExecuteTime": {
     "end_time": "2019-09-30T09:54:49.048064Z",
     "start_time": "2019-09-30T09:54:48.566Z"
    }
   },
   "outputs": [],
   "source": [
    "webElem$highlightElement()"
   ]
  },
  {
   "cell_type": "code",
   "execution_count": null,
   "metadata": {
    "ExecuteTime": {
     "end_time": "2019-09-30T09:45:49.285107Z",
     "start_time": "2019-09-30T09:45:49.273Z"
    }
   },
   "outputs": [],
   "source": [
    "#loop through switching child window \n",
    "# for (window in windows[[1]]) {\n",
    "#   if (window != currWindow[[1]]) \n",
    "#     remDr$switchToWindow(window)\n",
    "# }\n",
    "\n",
    "#now close your child window after doing all stuff\n",
    "remDr$closeWindow()"
   ]
  },
  {
   "cell_type": "code",
   "execution_count": null,
   "metadata": {
    "ExecuteTime": {
     "end_time": "2019-09-30T09:36:22.863176Z",
     "start_time": "2019-09-30T09:36:22.823Z"
    }
   },
   "outputs": [],
   "source": [
    "#now switch back to main window for further stuff \n",
    "remDr$switchToWindow(currWindow[[1]])"
   ]
  },
  {
   "cell_type": "code",
   "execution_count": null,
   "metadata": {
    "ExecuteTime": {
     "end_time": "2019-09-30T09:54:30.095290Z",
     "start_time": "2019-09-30T09:54:30.081Z"
    }
   },
   "outputs": [],
   "source": [
    "# pp  <- '//*[contains(concat( \" \", @class, \" \" ), concat( \" \", \"tableLayoutFixed\", \" \" ))]//tr+//tr//td'\n",
    "# webElem <- remDr$findElement(using = \"xpath\", pp)\n",
    "# webElem"
   ]
  },
  {
   "cell_type": "code",
   "execution_count": null,
   "metadata": {
    "ExecuteTime": {
     "end_time": "2019-09-30T09:56:04.792396Z",
     "start_time": "2019-09-30T09:56:04.757Z"
    }
   },
   "outputs": [],
   "source": [
    "webElem <- remDr$findElement(using = \"css\", \".col6Tbl\")\n",
    "webElem"
   ]
  },
  {
   "cell_type": "code",
   "execution_count": null,
   "metadata": {
    "ExecuteTime": {
     "end_time": "2019-09-30T09:59:17.981974Z",
     "start_time": "2019-09-30T09:59:17.838Z"
    }
   },
   "outputs": [],
   "source": [
    "doc <- htmlParse(remDr$getPageSource()[[1]])\n",
    "table_tmp <- readHTMLTable(doc)"
   ]
  },
  {
   "cell_type": "code",
   "execution_count": null,
   "metadata": {
    "ExecuteTime": {
     "end_time": "2019-09-30T10:10:22.000930Z",
     "start_time": "2019-09-30T10:10:21.971Z"
    }
   },
   "outputs": [],
   "source": [
    "webElem <- remDr$findElement(using = \"css\", \".currentTab+ td .td-content span\")\n",
    "webElem"
   ]
  },
  {
   "cell_type": "code",
   "execution_count": null,
   "metadata": {
    "ExecuteTime": {
     "end_time": "2019-09-30T10:10:45.209561Z",
     "start_time": "2019-09-30T10:10:43.575Z"
    }
   },
   "outputs": [],
   "source": [
    "webElem$clickElement()"
   ]
  },
  {
   "cell_type": "code",
   "execution_count": null,
   "metadata": {
    "ExecuteTime": {
     "end_time": "2019-09-30T10:11:08.146556Z",
     "start_time": "2019-09-30T10:11:08.074Z"
    }
   },
   "outputs": [],
   "source": [
    "doc <- htmlParse(remDr$getPageSource()[[1]])\n",
    "table_tmp <- readHTMLTable(doc)\n",
    "table_tmp"
   ]
  },
  {
   "cell_type": "code",
   "execution_count": null,
   "metadata": {
    "ExecuteTime": {
     "end_time": "2019-09-30T10:13:12.125736Z",
     "start_time": "2019-09-30T10:13:12.089Z"
    }
   },
   "outputs": [],
   "source": [
    "webElem <- remDr$findElement(using = \"css\", \".currentTab+ td .td-content span\")\n",
    "webElem"
   ]
  },
  {
   "cell_type": "code",
   "execution_count": null,
   "metadata": {
    "ExecuteTime": {
     "end_time": "2019-09-30T10:13:13.757955Z",
     "start_time": "2019-09-30T10:13:13.204Z"
    }
   },
   "outputs": [],
   "source": [
    "webElem$highlightElement()"
   ]
  },
  {
   "cell_type": "code",
   "execution_count": null,
   "metadata": {
    "ExecuteTime": {
     "end_time": "2019-09-30T10:13:35.509136Z",
     "start_time": "2019-09-30T10:13:34.861Z"
    }
   },
   "outputs": [],
   "source": [
    "webElem$clickElement()"
   ]
  },
  {
   "cell_type": "code",
   "execution_count": null,
   "metadata": {
    "ExecuteTime": {
     "end_time": "2019-09-30T10:13:37.947090Z",
     "start_time": "2019-09-30T10:13:37.880Z"
    }
   },
   "outputs": [],
   "source": [
    "doc <- htmlParse(remDr$getPageSource()[[1]])\n",
    "table_tmp <- readHTMLTable(doc)\n",
    "table_tmp"
   ]
  },
  {
   "cell_type": "code",
   "execution_count": null,
   "metadata": {
    "ExecuteTime": {
     "end_time": "2019-09-25T12:35:21.193470Z",
     "start_time": "2019-09-25T12:35:07.331Z"
    }
   },
   "outputs": [],
   "source": [
    "# for (i in nulls2[nulls]){\n",
    "#     remDr$navigate(\"http://zakupki.gov.ru/epz/main/public/home.html\")\n",
    "#     Sys.sleep(2)\n",
    "#     webElem <- remDr$findElement(using = \"css\", \"#quickSearchForm_header_searchString\")\n",
    "#     # webElem$highlightElement()\n",
    "#     webElem$sendKeysToElement(list(goszak_df_kolich[[i,2]], key = \"enter\"))\n",
    "#     doc <- htmlParse(remDr$getPageSource()[[1]])\n",
    "#     table_tmp <- readHTMLTable(doc)\n",
    "#     tables_list[[i]] = table_tmp$'NULL'\n",
    "#     Sys.sleep(2)\n",
    "# }"
   ]
  },
  {
   "cell_type": "markdown",
   "metadata": {},
   "source": [
    "#### obsch_info"
   ]
  },
  {
   "cell_type": "code",
   "execution_count": null,
   "metadata": {
    "ExecuteTime": {
     "end_time": "2019-09-30T12:08:20.104242Z",
     "start_time": "2019-09-30T12:08:20.077Z"
    }
   },
   "outputs": [],
   "source": [
    "paste('http://zakupki.gov.ru/epz/order/notice/ea44/view/common-info.html?regNumber=', goszak_df_kolich[[52,4]], sep=\"\")"
   ]
  },
  {
   "cell_type": "code",
   "execution_count": null,
   "metadata": {
    "ExecuteTime": {
     "end_time": "2019-09-30T15:20:37.536755Z",
     "start_time": "2019-09-30T15:20:37.508Z"
    }
   },
   "outputs": [],
   "source": [
    "collecting_auctions  <- function(tables_list){\n",
    "    if (length(tables_list)>dim(goszak_df_kolich)[1]){print(2500)}\n",
    "    else{\n",
    "    for (i in (length(tables_list) + 1):dim(goszak_df_kolich)[1]){\n",
    "        \n",
    "        \n",
    "        zak_path  <- paste('http://zakupki.gov.ru/epz/order/notice/ea44/view/common-info.html?regNumber=', goszak_df_kolich[[i,4]], sep=\"\")\n",
    "        \n",
    "        remDr$navigate(zak_path)\n",
    "        Sys.sleep(2)\n",
    "\n",
    "        doc <- htmlParse(remDr$getPageSource()[[1]])\n",
    "        table_tmp <- readHTMLTable(doc)        \n",
    "        \n",
    "        \n",
    "        all_pages  <- list()\n",
    "        \n",
    "        all_pages[[1]]  <- table_tmp\n",
    "        \n",
    "        webElem <- remDr$findElement(using = \"css\", \".currentTab+ td .td-content span\")\n",
    "        webElem$clickElement() \n",
    "        Sys.sleep(2)\n",
    "        \n",
    "        doc <- htmlParse(remDr$getPageSource()[[1]])\n",
    "        table_tmp <- readHTMLTable(doc)        \n",
    "        \n",
    "        all_pages[[2]]  <- table_tmp\n",
    "        \n",
    "        webElem <- remDr$findElement(using = \"css\", \".currentTab+ td .td-content span\")\n",
    "        webElem$clickElement() \n",
    "        Sys.sleep(2)\n",
    "        \n",
    "        doc <- htmlParse(remDr$getPageSource()[[1]])\n",
    "        table_tmp <- readHTMLTable(doc)        \n",
    "        \n",
    "        all_pages[[3]]  <- table_tmp\n",
    "        \n",
    "        tables_list[[i]]  <- all_pages\n",
    "        \n",
    "\n",
    "        return(tables_list)\n",
    "        Sys.sleep(2)\n",
    "                \n",
    "    }\n",
    "    }\n",
    "    \n",
    "    }"
   ]
  },
  {
   "cell_type": "code",
   "execution_count": null,
   "metadata": {
    "ExecuteTime": {
     "end_time": "2019-09-30T10:44:20.642234Z",
     "start_time": "2019-09-30T10:44:20.626Z"
    }
   },
   "outputs": [],
   "source": [
    "tables_list  <-  list()"
   ]
  },
  {
   "cell_type": "code",
   "execution_count": null,
   "metadata": {
    "ExecuteTime": {
     "end_time": "2019-09-30T11:45:48.064596Z",
     "start_time": "2019-09-30T11:45:28.891Z"
    }
   },
   "outputs": [],
   "source": [
    "tables_list  <-  collecting_auctions(tables_list)"
   ]
  },
  {
   "cell_type": "code",
   "execution_count": null,
   "metadata": {
    "ExecuteTime": {
     "end_time": "2019-09-30T15:16:59.138786Z",
     "start_time": "2019-09-30T12:08:47.292Z"
    }
   },
   "outputs": [],
   "source": [
    "while (length(tables_list) != dim(goszak_df_kolich)[1]) {\n",
    "    tables_list <- tryCatch({\n",
    "        collecting_auctions(tables_list)\n",
    "    }, error = function(cond) {\n",
    "        message(paste(\"stoped at length: \", length(tables_list) ))\n",
    "        Sys.sleep(10)\n",
    "        \n",
    "        windows <- remDr$getWindowHandles()\n",
    "        \n",
    "        \n",
    "        tables_list[[length(tables_list)+1]]  <- 'Houston, we have a problem' \n",
    "        \n",
    "        return(tables_list)\n",
    "        }\n",
    "                           )\n",
    "    \n",
    "}"
   ]
  },
  {
   "cell_type": "code",
   "execution_count": null,
   "metadata": {
    "ExecuteTime": {
     "end_time": "2019-09-30T15:33:38.078071Z",
     "start_time": "2019-09-30T15:33:38.053Z"
    }
   },
   "outputs": [],
   "source": [
    "tables_list_copy <- tables_list"
   ]
  },
  {
   "cell_type": "markdown",
   "metadata": {},
   "source": [
    "#### check if car"
   ]
  },
  {
   "cell_type": "code",
   "execution_count": null,
   "metadata": {
    "ExecuteTime": {
     "end_time": "2019-09-30T16:40:31.548478Z",
     "start_time": "2019-09-30T16:40:31.493Z"
    }
   },
   "outputs": [],
   "source": [
    "goszak_df_kolich = read_excel('/media/xenakas/ext4_drive/data_goszak/goszak_df_cars_no_duplicates.xlsx') #, header=TRUE, colClasses=NA)\n"
   ]
  },
  {
   "cell_type": "code",
   "execution_count": null,
   "metadata": {
    "ExecuteTime": {
     "end_time": "2019-09-30T16:40:31.870343Z",
     "start_time": "2019-09-30T16:40:31.850Z"
    }
   },
   "outputs": [],
   "source": [
    "nas  <- goszak_df_kolich[ is.na(goszak_df_kolich$completed_car_purchase), ]$X__1"
   ]
  },
  {
   "cell_type": "code",
   "execution_count": null,
   "metadata": {
    "ExecuteTime": {
     "end_time": "2019-09-30T16:40:32.144506Z",
     "start_time": "2019-09-30T16:40:32.127Z"
    }
   },
   "outputs": [],
   "source": [
    "as.integer(nas[2])"
   ]
  },
  {
   "cell_type": "code",
   "execution_count": null,
   "metadata": {
    "ExecuteTime": {
     "end_time": "2019-09-30T16:40:37.139157Z",
     "start_time": "2019-09-30T16:40:37.131Z"
    }
   },
   "outputs": [],
   "source": [
    "# goszak_df_kolich[ is.na(goszak_df_kolich$completed_car_purchase), ]"
   ]
  },
  {
   "cell_type": "code",
   "execution_count": null,
   "metadata": {
    "ExecuteTime": {
     "end_time": "2019-09-30T17:26:25.916955Z",
     "start_time": "2019-09-30T17:26:25.906Z"
    }
   },
   "outputs": [],
   "source": [
    "# goszak_df_kolich$X__1"
   ]
  },
  {
   "cell_type": "code",
   "execution_count": null,
   "metadata": {
    "ExecuteTime": {
     "end_time": "2019-09-30T17:32:21.708732Z",
     "start_time": "2019-09-30T17:32:21.642Z"
    }
   },
   "outputs": [],
   "source": [
    "gru  <- c()\n",
    "\n",
    "for (i in as.integer(goszak_df_kolich$X__1)){\n",
    "    gru  <-  c(gru, as.character(tables_list[[i]][[1]][[8]][2,2]))\n",
    "}\n",
    "\n"
   ]
  },
  {
   "cell_type": "code",
   "execution_count": null,
   "metadata": {
    "ExecuteTime": {
     "end_time": "2019-09-30T17:57:32.586990Z",
     "start_time": "2019-09-30T17:57:32.560Z"
    }
   },
   "outputs": [],
   "source": [
    "length(gru)"
   ]
  },
  {
   "cell_type": "code",
   "execution_count": null,
   "metadata": {
    "ExecuteTime": {
     "end_time": "2019-09-30T16:39:53.228419Z",
     "start_time": "2019-09-30T16:39:53.219Z"
    }
   },
   "outputs": [],
   "source": [
    "library(stringr)"
   ]
  },
  {
   "cell_type": "code",
   "execution_count": null,
   "metadata": {
    "ExecuteTime": {
     "end_time": "2019-09-30T17:57:35.548797Z",
     "start_time": "2019-09-30T17:57:35.535Z"
    }
   },
   "outputs": [],
   "source": [
    "gru[is.na(gru)] = 'im nan'"
   ]
  },
  {
   "cell_type": "code",
   "execution_count": null,
   "metadata": {
    "ExecuteTime": {
     "end_time": "2019-09-30T18:01:02.107487Z",
     "start_time": "2019-09-30T18:01:01.966Z"
    }
   },
   "outputs": [],
   "source": [
    "gru_ch  <-  c()\n",
    "for (i in  gru){\n",
    "    \n",
    "    if (str_detect(i,'грузов')|str_detect(i,'Грузов') |  str_detect(i,'Автобус')  |  str_detect(i,'автобус')  |  str_detect(i,'пассажирские') |  str_detect(i,'перевозк')){\n",
    "        gru_ch  <-  c(gru_ch, '0.0')\n",
    "    }else if( str_detect(i,'не более 1500 см3' )){\n",
    "        gru_ch  <-  c(gru_ch, '1.0')\n",
    "    }else if( str_detect(i,'цилиндров более 1500 см3' )){\n",
    "        gru_ch  <-  c(gru_ch, 'replace_me')\n",
    "    }else{\n",
    "        gru_ch  <-  c(gru_ch, 'replace_me')\n",
    "    }   \n",
    "    \n",
    "}"
   ]
  },
  {
   "cell_type": "code",
   "execution_count": null,
   "metadata": {
    "ExecuteTime": {
     "end_time": "2019-09-30T18:01:22.846104Z",
     "start_time": "2019-09-30T18:01:22.824Z"
    }
   },
   "outputs": [],
   "source": [
    "goszak_df_kolich['gruz_check'] = gru_ch"
   ]
  },
  {
   "cell_type": "code",
   "execution_count": null,
   "metadata": {
    "ExecuteTime": {
     "end_time": "2019-09-30T18:02:16.131253Z",
     "start_time": "2019-09-30T18:02:16.106Z"
    }
   },
   "outputs": [],
   "source": [
    "goszak_df_kolich[goszak_df_kolich$gruz_check == '0.0' & goszak_df_kolich$completed_car_purchase != '0.0' , ]"
   ]
  },
  {
   "cell_type": "code",
   "execution_count": null,
   "metadata": {
    "ExecuteTime": {
     "end_time": "2019-09-30T18:00:51.065682Z",
     "start_time": "2019-09-30T18:00:51.051Z"
    }
   },
   "outputs": [],
   "source": [
    "gru_ch"
   ]
  },
  {
   "cell_type": "code",
   "execution_count": null,
   "metadata": {
    "ExecuteTime": {
     "end_time": "2019-09-30T17:45:11.323008Z",
     "start_time": "2019-09-30T17:45:11.300Z"
    }
   },
   "outputs": [],
   "source": [
    "goszak_df_kolich_2 = goszak_df_kolich[goszak_df_kolich$completed_car_purchase != '0.0', ]"
   ]
  },
  {
   "cell_type": "code",
   "execution_count": null,
   "metadata": {
    "ExecuteTime": {
     "end_time": "2019-09-30T16:41:35.000349Z",
     "start_time": "2019-09-30T16:41:34.985Z"
    }
   },
   "outputs": [],
   "source": [
    "goszak_df_kolich[ is.na(goszak_df_kolich$completed_car_purchase), ]$completed_car_purchase = gru_ch   "
   ]
  },
  {
   "cell_type": "code",
   "execution_count": null,
   "metadata": {
    "ExecuteTime": {
     "end_time": "2019-09-30T16:42:15.694363Z",
     "start_time": "2019-09-30T16:42:15.542Z"
    }
   },
   "outputs": [],
   "source": [
    "# goszak_df_kolich[ goszak_df_kolich$completed_car_purchase=='replace_me', ]   "
   ]
  },
  {
   "cell_type": "code",
   "execution_count": null,
   "metadata": {
    "ExecuteTime": {
     "end_time": "2019-09-30T16:44:37.394332Z",
     "start_time": "2019-09-30T16:44:28.362Z"
    }
   },
   "outputs": [],
   "source": [
    "write.xlsx(goszak_df_kolich, 'goszak_tmp.xlsx')"
   ]
  },
  {
   "cell_type": "code",
   "execution_count": null,
   "metadata": {
    "ExecuteTime": {
     "end_time": "2019-09-30T17:23:08.210039Z",
     "start_time": "2019-09-30T17:23:08.193Z"
    }
   },
   "outputs": [],
   "source": [
    "# goszak_df_kolich[goszak_df_kolich$index_name==943,  6]  = 0"
   ]
  },
  {
   "cell_type": "code",
   "execution_count": null,
   "metadata": {
    "ExecuteTime": {
     "end_time": "2019-09-30T17:46:30.863345Z",
     "start_time": "2019-09-30T17:46:30.850Z"
    }
   },
   "outputs": [],
   "source": [
    "# "
   ]
  },
  {
   "cell_type": "code",
   "execution_count": null,
   "metadata": {
    "ExecuteTime": {
     "end_time": "2019-09-30T17:49:59.271986Z",
     "start_time": "2019-09-30T17:49:59.239Z"
    }
   },
   "outputs": [],
   "source": [
    "tables_list_1  <- list()\n",
    "jj = 0\n",
    "for (i in as.integer(goszak_df_kolich_2$X__1)){\n",
    "    jj = jj+1\n",
    "    tables_list_1[[jj]]  <-  tables_list[[i]]\n",
    "}"
   ]
  },
  {
   "cell_type": "code",
   "execution_count": null,
   "metadata": {
    "ExecuteTime": {
     "end_time": "2019-09-30T17:52:36.955830Z",
     "start_time": "2019-09-30T17:52:36.940Z"
    }
   },
   "outputs": [],
   "source": [
    "goszak_df_kolich_2['new_index'] = 1:dim(goszak_df_kolich_2)[1]"
   ]
  },
  {
   "cell_type": "code",
   "execution_count": null,
   "metadata": {
    "ExecuteTime": {
     "end_time": "2019-09-30T20:21:37.001845Z",
     "start_time": "2019-09-30T20:21:36.970Z"
    }
   },
   "outputs": [],
   "source": [
    "# tables_list_1[[i]][[1]][[8]]"
   ]
  },
  {
   "cell_type": "code",
   "execution_count": null,
   "metadata": {
    "ExecuteTime": {
     "end_time": "2019-09-30T20:27:29.970142Z",
     "start_time": "2019-09-30T20:27:29.926Z"
    }
   },
   "outputs": [],
   "source": [
    "tab_tmp = tables_list_1[[i]][[1]][[8]] \n",
    "gsub(\"[^0-9.-]\",\"\",gsub(\",\",\".\", as.character(tab_tmp[dim(tab_tmp)[1],2]), fixed = TRUE))"
   ]
  },
  {
   "cell_type": "code",
   "execution_count": null,
   "metadata": {},
   "outputs": [],
   "source": [
    "(Российский рубль)"
   ]
  },
  {
   "cell_type": "code",
   "execution_count": null,
   "metadata": {
    "ExecuteTime": {
     "end_time": "2019-09-30T20:32:47.432077Z",
     "start_time": "2019-09-30T20:32:42.999Z"
    }
   },
   "outputs": [],
   "source": [
    "kol  <- c()\n",
    "check  <- c()\n",
    "car  <-  c()\n",
    "check_price  <-  c()\n",
    "price   <-  c()\n",
    "lll  <- length(tables_list_1)\n",
    "# lll <- 3\n",
    "for (i in 1:lll){\n",
    "    \n",
    "    tab_tmp = tables_list_1[[i]][[1]][[8]]\n",
    "    sum_1  <-  sum(as.integer(as.character(tab_tmp[2:dim(tab_tmp), 4])), na.rm = TRUE) \n",
    "    kol  <-  c(kol, sum_1 )\n",
    "    check  <-  c(check, as.character(tab_tmp[1, 4]))\n",
    "    check_price  <-  c(check_price, as.character(tab_tmp[dim(tab_tmp)[1], 1]))\n",
    "    price  <- c(price, gsub(\"[^0-9.-]\",\"\",gsub(\",\",\".\", as.character(tab_tmp[dim(tab_tmp)[1],2]), fixed = TRUE)))\n",
    "}\n",
    "\n"
   ]
  },
  {
   "cell_type": "code",
   "execution_count": null,
   "metadata": {
    "ExecuteTime": {
     "end_time": "2019-09-30T20:33:01.766374Z",
     "start_time": "2019-09-30T20:33:01.716Z"
    }
   },
   "outputs": [],
   "source": [
    "length(kol) \n",
    "length(check)"
   ]
  },
  {
   "cell_type": "code",
   "execution_count": null,
   "metadata": {
    "ExecuteTime": {
     "end_time": "2019-09-30T20:33:05.129026Z",
     "start_time": "2019-09-30T20:33:05.097Z"
    }
   },
   "outputs": [],
   "source": [
    "# check[check != 'Количество']"
   ]
  },
  {
   "cell_type": "code",
   "execution_count": null,
   "metadata": {
    "ExecuteTime": {
     "end_time": "2019-09-30T20:38:09.777371Z",
     "start_time": "2019-09-30T20:38:09.720Z"
    }
   },
   "outputs": [],
   "source": [
    "kol[69] = 36\n",
    "kol[74] = 2\n",
    "kol[90] = 46\n",
    "kol[668] = 1\n",
    "kol[674] = 1\n",
    "kol[878] = 1\n",
    "kol[633] = 1\n"
   ]
  },
  {
   "cell_type": "code",
   "execution_count": null,
   "metadata": {
    "ExecuteTime": {
     "end_time": "2019-09-30T20:37:10.708639Z",
     "start_time": "2019-09-30T20:37:10.658Z"
    }
   },
   "outputs": [],
   "source": [
    "unique(check_price)"
   ]
  },
  {
   "cell_type": "code",
   "execution_count": null,
   "metadata": {
    "ExecuteTime": {
     "end_time": "2019-09-30T20:37:28.483378Z",
     "start_time": "2019-09-30T20:37:28.464Z"
    }
   },
   "outputs": [],
   "source": [
    "sum(check_price == 'Начальная сумма цен единиц товара, работы, услуги:')+ sum(check_price == 'Начальная сумма цен единиц товара, работы, услуги:')+sum(check_price == '')"
   ]
  },
  {
   "cell_type": "code",
   "execution_count": null,
   "metadata": {
    "ExecuteTime": {
     "end_time": "2019-09-30T20:36:44.018650Z",
     "start_time": "2019-09-30T20:36:43.978Z"
    }
   },
   "outputs": [],
   "source": [
    "sum(is.na(price))"
   ]
  },
  {
   "cell_type": "code",
   "execution_count": null,
   "metadata": {
    "ExecuteTime": {
     "end_time": "2019-09-30T20:36:09.848421Z",
     "start_time": "2019-09-30T20:36:09.803Z"
    }
   },
   "outputs": [],
   "source": [
    "lll - length(check_price)\n"
   ]
  },
  {
   "cell_type": "code",
   "execution_count": null,
   "metadata": {
    "ExecuteTime": {
     "end_time": "2019-09-30T18:11:59.100700Z",
     "start_time": "2019-09-30T18:11:59.081Z"
    }
   },
   "outputs": [],
   "source": [
    "which( kol==0 )\n",
    "which( kol>40 )"
   ]
  },
  {
   "cell_type": "code",
   "execution_count": null,
   "metadata": {
    "ExecuteTime": {
     "end_time": "2019-09-30T18:19:05.929211Z",
     "start_time": "2019-09-30T18:19:05.898Z"
    }
   },
   "outputs": [],
   "source": [
    "tables_list_1[[69]][[1]][[7]][2,6]\n",
    "tables_list_1[[74]][[1]][[7]][2,6]\n",
    "tables_list_1[[90]][[1]][[7]][2,6]"
   ]
  },
  {
   "cell_type": "code",
   "execution_count": null,
   "metadata": {
    "ExecuteTime": {
     "end_time": "2019-09-30T20:38:20.517683Z",
     "start_time": "2019-09-30T20:38:20.456Z"
    }
   },
   "outputs": [],
   "source": []
  },
  {
   "cell_type": "code",
   "execution_count": null,
   "metadata": {
    "ExecuteTime": {
     "end_time": "2019-09-30T20:20:34.475879Z",
     "start_time": "2019-09-30T20:20:34.455Z"
    }
   },
   "outputs": [],
   "source": [
    "# tables_list_1[[633]][[1]][[8]]"
   ]
  },
  {
   "cell_type": "code",
   "execution_count": null,
   "metadata": {
    "ExecuteTime": {
     "end_time": "2019-09-30T20:20:34.919395Z",
     "start_time": "2019-09-30T20:20:34.889Z"
    }
   },
   "outputs": [],
   "source": [
    "# tables_list_1[[674]][[1]][[8]]"
   ]
  },
  {
   "cell_type": "code",
   "execution_count": null,
   "metadata": {
    "ExecuteTime": {
     "end_time": "2019-09-30T16:58:31.948328Z",
     "start_time": "2019-09-30T16:58:31.923Z"
    }
   },
   "outputs": [],
   "source": [
    "# as.integer(as.character(tab_tmp[2:dim(tab_tmp), 4]))"
   ]
  },
  {
   "cell_type": "code",
   "execution_count": null,
   "metadata": {
    "ExecuteTime": {
     "end_time": "2019-09-30T16:58:08.132330Z",
     "start_time": "2019-09-30T16:58:08.119Z"
    }
   },
   "outputs": [],
   "source": [
    "sum(as.integer(as.character(tab_tmp[2:dim(tab_tmp), 4])), na.rm = TRUE)"
   ]
  },
  {
   "cell_type": "code",
   "execution_count": null,
   "metadata": {
    "ExecuteTime": {
     "end_time": "2019-09-30T20:20:43.160613Z",
     "start_time": "2019-09-30T20:20:43.131Z"
    }
   },
   "outputs": [],
   "source": [
    "# tables_list[[1]][[1]][[8]]"
   ]
  },
  {
   "cell_type": "code",
   "execution_count": null,
   "metadata": {
    "ExecuteTime": {
     "end_time": "2019-09-30T20:20:45.317791Z",
     "start_time": "2019-09-30T20:20:45.282Z"
    }
   },
   "outputs": [],
   "source": [
    "# tables_list[[17]][[1]][[8]]"
   ]
  },
  {
   "cell_type": "code",
   "execution_count": null,
   "metadata": {
    "ExecuteTime": {
     "end_time": "2019-09-30T16:52:13.935626Z",
     "start_time": "2019-09-30T16:52:13.925Z"
    }
   },
   "outputs": [],
   "source": [
    "# tab_tmp"
   ]
  },
  {
   "cell_type": "code",
   "execution_count": null,
   "metadata": {
    "ExecuteTime": {
     "end_time": "2019-09-30T16:51:04.769424Z",
     "start_time": "2019-09-30T16:51:04.748Z"
    }
   },
   "outputs": [],
   "source": []
  },
  {
   "cell_type": "code",
   "execution_count": null,
   "metadata": {
    "ExecuteTime": {
     "end_time": "2019-09-30T20:39:10.150760Z",
     "start_time": "2019-09-30T20:39:10.118Z"
    }
   },
   "outputs": [],
   "source": [
    "goszak_df_kolich_2['kolichestvo'] = kol"
   ]
  },
  {
   "cell_type": "code",
   "execution_count": null,
   "metadata": {
    "ExecuteTime": {
     "end_time": "2019-09-30T20:39:45.082096Z",
     "start_time": "2019-09-30T20:39:45.044Z"
    }
   },
   "outputs": [],
   "source": [
    "goszak_df_kolich_2['price_gos'] = price\n",
    "goszak_df_kolich_2['price_check'] = check_price"
   ]
  },
  {
   "cell_type": "code",
   "execution_count": null,
   "metadata": {
    "ExecuteTime": {
     "end_time": "2019-09-30T20:40:38.715352Z",
     "start_time": "2019-09-30T20:40:24.574Z"
    }
   },
   "outputs": [],
   "source": [
    "write.xlsx(goszak_df_kolich_2, 'goszak_df_tmp_wo_gruz.xlsx')"
   ]
  },
  {
   "cell_type": "code",
   "execution_count": null,
   "metadata": {
    "ExecuteTime": {
     "end_time": "2019-10-01T13:38:31.052769Z",
     "start_time": "2019-10-01T13:38:31.000Z"
    }
   },
   "outputs": [],
   "source": [
    "goszak_df_kolich_3  <-  read_excel('/media/xenakas/ext4_drive/data_goszak/goszak_df_tmp_wo_gruz.xlsx') #, header=TRUE, colClasses=NA)\n"
   ]
  },
  {
   "cell_type": "code",
   "execution_count": null,
   "metadata": {
    "ExecuteTime": {
     "end_time": "2019-10-01T14:39:45.519507Z",
     "start_time": "2019-10-01T14:39:38.006Z"
    }
   },
   "outputs": [],
   "source": [
    "# write.xlsx(goszak_df_kolich_3, 'goszak_df_tmp_wo_gruz_2.xlsx')"
   ]
  },
  {
   "cell_type": "code",
   "execution_count": null,
   "metadata": {
    "ExecuteTime": {
     "end_time": "2019-10-01T17:49:01.531447Z",
     "start_time": "2019-10-01T17:49:01.415Z"
    }
   },
   "outputs": [],
   "source": [
    "goszak_df_kolich_3  <-  read_excel('/media/xenakas/ext4_drive/data_goszak/goszak_df_tmp_wo_gruz_2.xlsx') #, header=TRUE, colClasses=NA)"
   ]
  },
  {
   "cell_type": "code",
   "execution_count": null,
   "metadata": {
    "ExecuteTime": {
     "end_time": "2019-10-01T17:49:01.829062Z",
     "start_time": "2019-10-01T17:49:01.798Z"
    }
   },
   "outputs": [],
   "source": [
    "goszak_df_kolich_3  %>%  dim()"
   ]
  },
  {
   "cell_type": "code",
   "execution_count": null,
   "metadata": {
    "ExecuteTime": {
     "end_time": "2019-10-01T17:49:44.880994Z",
     "start_time": "2019-10-01T17:49:44.845Z"
    }
   },
   "outputs": [],
   "source": [
    "# goszak_df_kolich_3[goszak_df_kolich_3$completed_car_purchase !=0|is.na(goszak_df_kolich_3$completed_car_purchase), ]"
   ]
  },
  {
   "cell_type": "code",
   "execution_count": null,
   "metadata": {
    "ExecuteTime": {
     "end_time": "2019-10-01T17:47:32.001570Z",
     "start_time": "2019-10-01T17:47:31.934Z"
    }
   },
   "outputs": [],
   "source": [
    "# saveRDS(tables_list, 'all_goszak_pages.rds')"
   ]
  },
  {
   "cell_type": "code",
   "execution_count": null,
   "metadata": {
    "ExecuteTime": {
     "end_time": "2019-10-01T17:49:49.437555Z",
     "start_time": "2019-10-01T17:49:49.344Z"
    }
   },
   "outputs": [],
   "source": [
    "tables_list_2  <- list()\n",
    "jj = 0\n",
    "for (i in as.integer(goszak_df_kolich_3$X__1)){\n",
    "    jj = jj+1\n",
    "    tables_list_2[[jj]]  <-  tables_list[[i]]\n",
    "}"
   ]
  },
  {
   "cell_type": "code",
   "execution_count": null,
   "metadata": {
    "ExecuteTime": {
     "end_time": "2019-10-01T17:49:50.084659Z",
     "start_time": "2019-10-01T17:49:49.888Z"
    }
   },
   "outputs": [],
   "source": [
    "zakaz  <-  c()\n",
    "\n",
    "for (i in 1:length(tables_list_2)){\n",
    "    \n",
    "    tab_tmp = tables_list_2[[i]][[2]][[length(tables_list_2[[i]][[2]])]]\n",
    "    zakaz  <-  c(zakaz, as.character(tab_tmp[1, 1]))\n",
    "}\n",
    "\n"
   ]
  },
  {
   "cell_type": "code",
   "execution_count": null,
   "metadata": {
    "ExecuteTime": {
     "end_time": "2019-10-01T17:49:55.193274Z",
     "start_time": "2019-10-01T17:49:55.113Z"
    }
   },
   "outputs": [],
   "source": [
    "# zakaz\n"
   ]
  },
  {
   "cell_type": "code",
   "execution_count": null,
   "metadata": {
    "ExecuteTime": {
     "end_time": "2019-10-01T17:49:55.558611Z",
     "start_time": "2019-10-01T17:49:55.469Z"
    }
   },
   "outputs": [],
   "source": [
    "gru_ch  <-  c()\n",
    "for (i in  zakaz){\n",
    "    if (str_detect(i,'единственной заявки')){\n",
    "        gru_ch  <-  c(gru_ch, '1')\n",
    "    }else if( str_detect(i,'заявок' )){\n",
    "        gru_ch  <-  c(gru_ch, 'не одна')\n",
    "    }else if( str_detect(i,'несостоявшимся' )){\n",
    "        gru_ch  <-  c(gru_ch, '0')\n",
    "    }else{\n",
    "        gru_ch  <-  c(gru_ch, '0')\n",
    "    }   \n",
    "    \n",
    "}"
   ]
  },
  {
   "cell_type": "code",
   "execution_count": null,
   "metadata": {
    "ExecuteTime": {
     "end_time": "2019-10-01T17:49:55.835661Z",
     "start_time": "2019-10-01T17:49:55.799Z"
    }
   },
   "outputs": [],
   "source": [
    "goszak_df_kolich_3['kolichetvo_uch'] = gru_ch"
   ]
  },
  {
   "cell_type": "code",
   "execution_count": null,
   "metadata": {},
   "outputs": [],
   "source": []
  },
  {
   "cell_type": "code",
   "execution_count": null,
   "metadata": {
    "ExecuteTime": {
     "end_time": "2019-10-01T17:49:59.629875Z",
     "start_time": "2019-10-01T17:49:59.578Z"
    }
   },
   "outputs": [],
   "source": [
    "tables_list_2[[8]][[3]][[3]]"
   ]
  },
  {
   "cell_type": "code",
   "execution_count": null,
   "metadata": {
    "ExecuteTime": {
     "end_time": "2019-10-01T17:50:00.018580Z",
     "start_time": "2019-10-01T17:49:59.936Z"
    }
   },
   "outputs": [],
   "source": [
    "tables_list_2[[4]][[3]][[2]][3,3]"
   ]
  },
  {
   "cell_type": "code",
   "execution_count": null,
   "metadata": {
    "ExecuteTime": {
     "end_time": "2019-10-01T17:50:05.750223Z",
     "start_time": "2019-10-01T17:50:05.542Z"
    }
   },
   "outputs": [],
   "source": [
    "numbid  <- c()\n",
    "smth  <-  c()\n",
    "realprice  <-  c()\n",
    "\n",
    "for (i in 1:length(tables_list_2)){\n",
    "    \n",
    "    numbid  <- c(numbid, dim(tables_list_2[[i]][[3]][[2]])[1]-2 )\n",
    "    \n",
    "    tab_tmp  <-  tables_list_2[[i]][[3]][[2]]\n",
    "    \n",
    "    smth  <-  c(smth, as.character(tab_tmp[3,3]) )\n",
    "    \n",
    "\n",
    "    tab_tmp  <-  tables_list_2[[i]][[3]][[3]]\n",
    "    \n",
    "    if ( length(as.character(tab_tmp[1, 4]) !=0)){\n",
    "        realprice  <-  c(realprice, as.character(tab_tmp[1, 4]))\n",
    "    }else{\n",
    "        realprice  <-  c(realprice, NA)\n",
    "    }\n",
    " \n",
    "}\n"
   ]
  },
  {
   "cell_type": "code",
   "execution_count": null,
   "metadata": {
    "ExecuteTime": {
     "end_time": "2019-10-01T17:50:06.206545Z",
     "start_time": "2019-10-01T17:50:06.165Z"
    }
   },
   "outputs": [],
   "source": [
    "goszak_df_kolich_3['number_of_bids'] = numbid\n"
   ]
  },
  {
   "cell_type": "code",
   "execution_count": null,
   "metadata": {
    "ExecuteTime": {
     "end_time": "2019-10-01T17:50:08.952979Z",
     "start_time": "2019-10-01T17:50:08.806Z"
    }
   },
   "outputs": [],
   "source": [
    "smsms  <-  c()\n",
    "for (i in smth){\n",
    "    if(str_detect(i,'ни одной заявки' )){\n",
    "        smsms  <- c(smsms, 0)\n",
    "        \n",
    "    }else if (str_detect(i,'только одного участника закупки' )|str_detect(i,'несоответствии требованиям' )){\n",
    "        smsms  <- c(smsms, 1)\n",
    "    }else{\n",
    "        smsms  <- c(smsms, 0)\n",
    "    }\n",
    "}"
   ]
  },
  {
   "cell_type": "code",
   "execution_count": null,
   "metadata": {
    "ExecuteTime": {
     "end_time": "2019-10-01T17:42:49.827299Z",
     "start_time": "2019-10-01T17:42:49.761Z"
    }
   },
   "outputs": [],
   "source": []
  },
  {
   "cell_type": "code",
   "execution_count": null,
   "metadata": {
    "ExecuteTime": {
     "end_time": "2019-10-01T17:50:12.990548Z",
     "start_time": "2019-10-01T17:50:12.957Z"
    }
   },
   "outputs": [],
   "source": [
    "goszak_df_kolich_3[which(smth == 'По результатам рассмотрения первых частей заявок к участию в аукционе не допущено ни одной заявки (ч. 8 ст. 67)'), ]$completed_car_purchase = rep(0,3)"
   ]
  },
  {
   "cell_type": "code",
   "execution_count": null,
   "metadata": {
    "ExecuteTime": {
     "end_time": "2019-10-01T17:50:14.050364Z",
     "start_time": "2019-10-01T17:50:14.029Z"
    }
   },
   "outputs": [],
   "source": [
    "goszak_df_kolich_3[which(smth == 'По окончании срока подачи заявок не подано ни одной заявки (ч. 16 ст. 66 44-ФЗ)'), ]$completed_car_purchase = rep(0,162)"
   ]
  },
  {
   "cell_type": "code",
   "execution_count": null,
   "metadata": {
    "ExecuteTime": {
     "end_time": "2019-10-01T17:50:18.344838Z",
     "start_time": "2019-10-01T17:50:18.290Z"
    }
   },
   "outputs": [],
   "source": [
    "goszak_df_kolich_3[goszak_df_kolich_3['kolichetvo_uch'] == 1 & goszak_df_kolich_3['number_of_bids']!=1, ]"
   ]
  },
  {
   "cell_type": "code",
   "execution_count": null,
   "metadata": {
    "ExecuteTime": {
     "end_time": "2019-10-01T17:50:21.843244Z",
     "start_time": "2019-10-01T17:50:21.742Z"
    }
   },
   "outputs": [],
   "source": [
    "re_price  <-  c()\n",
    "\n",
    "for (i in realprice){\n",
    "    k = gsub(\"[^0-9.-]\",\"\",gsub(\",\",\".\", as.character(i), fixed = TRUE))\n",
    "    re_price  <-  c(re_price, k)\n",
    "\n",
    "}\n"
   ]
  },
  {
   "cell_type": "code",
   "execution_count": null,
   "metadata": {
    "ExecuteTime": {
     "end_time": "2019-10-01T17:50:23.476811Z",
     "start_time": "2019-10-01T17:50:23.448Z"
    }
   },
   "outputs": [],
   "source": [
    "# goszak_df_kolich_3  "
   ]
  },
  {
   "cell_type": "code",
   "execution_count": null,
   "metadata": {
    "ExecuteTime": {
     "end_time": "2019-10-01T17:50:24.647695Z",
     "start_time": "2019-10-01T17:50:24.607Z"
    }
   },
   "outputs": [],
   "source": [
    "goszak_df_kolich_3['the_real_price'] = re_price\n"
   ]
  },
  {
   "cell_type": "code",
   "execution_count": null,
   "metadata": {
    "ExecuteTime": {
     "end_time": "2019-10-01T17:50:25.769887Z",
     "start_time": "2019-10-01T17:50:25.722Z"
    }
   },
   "outputs": [],
   "source": [
    "goszak_df_kolich_3  %>%  dim()"
   ]
  },
  {
   "cell_type": "code",
   "execution_count": null,
   "metadata": {},
   "outputs": [],
   "source": []
  },
  {
   "cell_type": "code",
   "execution_count": null,
   "metadata": {
    "ExecuteTime": {
     "end_time": "2019-10-01T17:50:32.350060Z",
     "start_time": "2019-10-01T17:50:32.311Z"
    }
   },
   "outputs": [],
   "source": [
    "goszak_df_kolich_3[is.na(goszak_df_kolich_3['the_real_price'] ) , ]$completed_car_purchase = rep(0,223)"
   ]
  },
  {
   "cell_type": "code",
   "execution_count": null,
   "metadata": {
    "ExecuteTime": {
     "end_time": "2019-10-01T17:56:01.657761Z",
     "start_time": "2019-10-01T17:56:01.618Z"
    }
   },
   "outputs": [],
   "source": [
    "# goszak_df_kolich_3\n",
    "\n",
    "goszak_df_kolich_3['num_of_bb'] = goszak_df_kolich_3['number_of_bids'] - smsms "
   ]
  },
  {
   "cell_type": "code",
   "execution_count": null,
   "metadata": {
    "ExecuteTime": {
     "end_time": "2019-10-01T17:56:04.825410Z",
     "start_time": "2019-10-01T17:56:04.795Z"
    }
   },
   "outputs": [],
   "source": [
    "goszak_df_kolich_4 = goszak_df_kolich_3[goszak_df_kolich_3$completed_car_purchase !=0|is.na(goszak_df_kolich_3$completed_car_purchase), ] "
   ]
  },
  {
   "cell_type": "code",
   "execution_count": null,
   "metadata": {
    "ExecuteTime": {
     "end_time": "2019-10-01T17:56:31.514991Z",
     "start_time": "2019-10-01T17:56:31.482Z"
    }
   },
   "outputs": [],
   "source": [
    "# goszak_df_kolich_4[goszak_df_kolich_4['num_of_bb'] == 0, ]"
   ]
  },
  {
   "cell_type": "code",
   "execution_count": null,
   "metadata": {
    "ExecuteTime": {
     "end_time": "2019-10-01T17:53:55.133003Z",
     "start_time": "2019-10-01T17:53:55.092Z"
    }
   },
   "outputs": [],
   "source": [
    "# goszak_df_kolich_3[goszak_df_kolich_3$completed_car_purchase =='1.0'|is.na(goszak_df_kolich_3$completed_car_purchase), ]  %>%  dim"
   ]
  },
  {
   "cell_type": "code",
   "execution_count": null,
   "metadata": {
    "ExecuteTime": {
     "end_time": "2019-10-01T17:56:58.513955Z",
     "start_time": "2019-10-01T17:56:58.485Z"
    }
   },
   "outputs": [],
   "source": [
    "# goszak_df_kolich_3[goszak_df_kolich_3['number_of_bids'] ==2 & goszak_df_kolich_3['num_of_bb'] ==1 , ]"
   ]
  },
  {
   "cell_type": "code",
   "execution_count": null,
   "metadata": {
    "ExecuteTime": {
     "end_time": "2019-10-01T17:57:34.622676Z",
     "start_time": "2019-10-01T17:57:34.577Z"
    }
   },
   "outputs": [],
   "source": [
    "length(zakaz[gru_ch == '1']) / length(gru_ch)"
   ]
  },
  {
   "cell_type": "code",
   "execution_count": null,
   "metadata": {
    "ExecuteTime": {
     "end_time": "2019-10-01T17:59:29.742949Z",
     "start_time": "2019-10-01T17:59:29.702Z"
    }
   },
   "outputs": [],
   "source": [
    "goszak_df_kolich_4  %>%  dim()"
   ]
  },
  {
   "cell_type": "code",
   "execution_count": null,
   "metadata": {
    "ExecuteTime": {
     "end_time": "2019-10-01T18:04:25.333944Z",
     "start_time": "2019-10-01T18:04:25.299Z"
    }
   },
   "outputs": [],
   "source": [
    "# goszak_df_kolich_4"
   ]
  },
  {
   "cell_type": "code",
   "execution_count": null,
   "metadata": {
    "ExecuteTime": {
     "end_time": "2019-10-01T17:59:57.095379Z",
     "start_time": "2019-10-01T17:59:45.255Z"
    }
   },
   "outputs": [],
   "source": [
    "write.xlsx(goszak_df_kolich_4, 'goszak_complete.xlsx')"
   ]
  },
  {
   "cell_type": "code",
   "execution_count": null,
   "metadata": {},
   "outputs": [],
   "source": []
  }
 ],
 "metadata": {
  "hide_input": false,
  "kernelspec": {
   "display_name": "R 4.0.2",
   "language": "R",
   "name": "ir"
  },
  "language_info": {
   "codemirror_mode": "r",
   "file_extension": ".r",
   "mimetype": "text/x-r-source",
   "name": "R",
   "pygments_lexer": "r",
   "version": "4.0.4"
  },
  "latex_envs": {
   "LaTeX_envs_menu_present": true,
   "autoclose": true,
   "autocomplete": true,
   "bibliofile": "biblio.bib",
   "cite_by": "apalike",
   "current_citInitial": 1,
   "eqLabelWithNumbers": true,
   "eqNumInitial": 1,
   "hotkeys": {
    "equation": "Ctrl-E",
    "itemize": "Ctrl-I"
   },
   "labels_anchors": false,
   "latex_user_defs": false,
   "report_style_numbering": false,
   "user_envs_cfg": false
  },
  "toc": {
   "base_numbering": 1,
   "nav_menu": {},
   "number_sections": true,
   "sideBar": true,
   "skip_h1_title": false,
   "title_cell": "Table of Contents",
   "title_sidebar": "Contents",
   "toc_cell": false,
   "toc_position": {},
   "toc_section_display": true,
   "toc_window_display": false
  },
  "varInspector": {
   "cols": {
    "lenName": 16,
    "lenType": 16,
    "lenVar": 40
   },
   "kernels_config": {
    "python": {
     "delete_cmd_postfix": "",
     "delete_cmd_prefix": "del ",
     "library": "var_list.py",
     "varRefreshCmd": "print(var_dic_list())"
    },
    "r": {
     "delete_cmd_postfix": ") ",
     "delete_cmd_prefix": "rm(",
     "library": "var_list.r",
     "varRefreshCmd": "cat(var_dic_list()) "
    }
   },
   "types_to_exclude": [
    "module",
    "function",
    "builtin_function_or_method",
    "instance",
    "_Feature"
   ],
   "window_display": false
  }
 },
 "nbformat": 4,
 "nbformat_minor": 2
}
