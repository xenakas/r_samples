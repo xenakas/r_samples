{
 "cells": [
  {
   "cell_type": "code",
   "execution_count": 185,
   "metadata": {
    "ExecuteTime": {
     "end_time": "2019-09-29T14:17:43.061564Z",
     "start_time": "2019-09-29T14:17:43.036Z"
    }
   },
   "outputs": [],
   "source": [
    "library(RSelenium)\n",
    "library(XML)\n",
    "library(janitor) \n",
    "library(lubridate)\n",
    "library(magrittr)\n",
    "library(dplyr)\n",
    "library(xlsx)"
   ]
  },
  {
   "cell_type": "code",
   "execution_count": null,
   "metadata": {
    "ExecuteTime": {
     "end_time": "2019-09-29T14:17:43.264377Z",
     "start_time": "2019-09-29T14:17:43.225Z"
    }
   },
   "outputs": [],
   "source": [
    "remDr <- remoteDriver(\n",
    "  port = 4445L\n",
    ")"
   ]
  },
  {
   "cell_type": "code",
   "execution_count": 243,
   "metadata": {
    "ExecuteTime": {
     "end_time": "2019-09-29T14:55:02.145948Z",
     "start_time": "2019-09-29T14:55:02.137Z"
    }
   },
   "outputs": [],
   "source": [
    "# remDr$open()# Now open TightVNC to follow along with Selenium driving the browser. Set 192.168.99.100:5901 and password: secret# navigate to the main page\n",
    "# remDr$navigate(\"https://docs.google.com/spreadsheets/d/1o1PlLIQS8v-XSuEz1eqZB80kcJk9xg5lsbueB7mTg1U/pub?output=html&widget=true#gid=690408156\")# https://docs.google.com/spreadsheets/d/1o1PlLIQS8v-XSuEz1eqZB80kcJk9xg5lsbueB7mTg1U/pub?output=html&widget=true#gid=552987877# look for table element"
   ]
  },
  {
   "cell_type": "code",
   "execution_count": 187,
   "metadata": {
    "ExecuteTime": {
     "end_time": "2019-09-29T14:17:53.828338Z",
     "start_time": "2019-09-29T14:17:51.525Z"
    }
   },
   "outputs": [],
   "source": [
    "# remDr$navigate(\"http://zakupki.gov.ru/epz/main/public/home.html\")\n",
    "# "
   ]
  },
  {
   "cell_type": "code",
   "execution_count": 188,
   "metadata": {
    "ExecuteTime": {
     "end_time": "2019-09-29T14:18:01.431113Z",
     "start_time": "2019-09-29T14:18:01.407Z"
    }
   },
   "outputs": [],
   "source": [
    "library(\"readxl\")"
   ]
  },
  {
   "cell_type": "code",
   "execution_count": 189,
   "metadata": {
    "ExecuteTime": {
     "end_time": "2019-09-29T14:18:02.040984Z",
     "start_time": "2019-09-29T14:18:01.978Z"
    }
   },
   "outputs": [],
   "source": [
    "goszak_df = read_excel('/media/xenakas/ext4_drive/data_goszak/goszak_df_cars_only.xlsx') #, header=TRUE, colClasses=NA)\n",
    "\n",
    "goszak_df = goszak_df  %>% clean_names()\n",
    "\n",
    "goszak_df['all_indexes'] = goszak_df['index_name']"
   ]
  },
  {
   "cell_type": "code",
   "execution_count": 190,
   "metadata": {
    "ExecuteTime": {
     "end_time": "2019-09-29T14:18:02.616564Z",
     "start_time": "2019-09-29T14:18:02.598Z"
    }
   },
   "outputs": [],
   "source": [
    "# goszak_df"
   ]
  },
  {
   "cell_type": "code",
   "execution_count": 191,
   "metadata": {
    "ExecuteTime": {
     "end_time": "2019-09-29T14:18:04.300212Z",
     "start_time": "2019-09-29T14:18:04.262Z"
    },
    "scrolled": false
   },
   "outputs": [],
   "source": [
    "dupies  <-  goszak_df  %>% get_dupes(purchase_number)   %>%  select(purchase_number,dupe_count, index_name)"
   ]
  },
  {
   "cell_type": "code",
   "execution_count": 192,
   "metadata": {
    "ExecuteTime": {
     "end_time": "2019-09-29T14:18:04.651408Z",
     "start_time": "2019-09-29T14:18:04.628Z"
    }
   },
   "outputs": [
    {
     "data": {
      "text/html": [
       "<ol class=list-inline>\n",
       "\t<li>2074</li>\n",
       "\t<li>2273</li>\n",
       "</ol>\n"
      ],
      "text/latex": [
       "\\begin{enumerate*}\n",
       "\\item 2074\n",
       "\\item 2273\n",
       "\\end{enumerate*}\n"
      ],
      "text/markdown": [
       "1. 2074\n",
       "2. 2273\n",
       "\n",
       "\n"
      ],
      "text/plain": [
       "[1] 2074 2273"
      ]
     },
     "metadata": {},
     "output_type": "display_data"
    }
   ],
   "source": [
    "dupies[dupies[,1] == unique(dupies$purchase_number)[1],]$index_name"
   ]
  },
  {
   "cell_type": "code",
   "execution_count": 193,
   "metadata": {
    "ExecuteTime": {
     "end_time": "2019-09-29T14:18:05.056848Z",
     "start_time": "2019-09-29T14:18:05.031Z"
    }
   },
   "outputs": [
    {
     "data": {
      "text/html": [
       "'2074, 2273'"
      ],
      "text/latex": [
       "'2074, 2273'"
      ],
      "text/markdown": [
       "'2074, 2273'"
      ],
      "text/plain": [
       "[1] \"2074, 2273\""
      ]
     },
     "metadata": {},
     "output_type": "display_data"
    }
   ],
   "source": [
    "paste0(dupies[dupies[,1] == unique(dupies$purchase_number)[1],]$index_name, collapse=\", \")"
   ]
  },
  {
   "cell_type": "code",
   "execution_count": 194,
   "metadata": {
    "ExecuteTime": {
     "end_time": "2019-09-29T14:18:11.155513Z",
     "start_time": "2019-09-29T14:18:10.959Z"
    }
   },
   "outputs": [],
   "source": [
    "for (i in unique(dupies$purchase_number)){\n",
    "    goszak_df[goszak_df[,3] == i,]$all_indexes = paste0(dupies[dupies[,1] == i,]$index_name, collapse=\", \")\n",
    "}"
   ]
  },
  {
   "cell_type": "code",
   "execution_count": 195,
   "metadata": {
    "ExecuteTime": {
     "end_time": "2019-09-29T14:18:13.261917Z",
     "start_time": "2019-09-29T14:18:13.242Z"
    }
   },
   "outputs": [
    {
     "data": {
      "text/html": [
       "<ol class=list-inline>\n",
       "\t<li>'n'</li>\n",
       "\t<li>'index_name'</li>\n",
       "\t<li>'purchase_number'</li>\n",
       "\t<li>'done'</li>\n",
       "\t<li>'completed_car_purchase'</li>\n",
       "\t<li>'price'</li>\n",
       "\t<li>'price_per_one'</li>\n",
       "\t<li>'auction'</li>\n",
       "\t<li>'real_price'</li>\n",
       "\t<li>'numb_bidders'</li>\n",
       "\t<li>'колич_авто_в_закупке'</li>\n",
       "\t<li>'коробка_передач'</li>\n",
       "\t<li>'марка'</li>\n",
       "\t<li>'модель'</li>\n",
       "\t<li>'привод'</li>\n",
       "\t<li>'ширина'</li>\n",
       "\t<li>'объем_двигателя_куб_см'</li>\n",
       "\t<li>'длина'</li>\n",
       "\t<li>'максимальная_скорость'</li>\n",
       "\t<li>'масса_авто_снаряженная'</li>\n",
       "\t<li>'год_выпуска'</li>\n",
       "\t<li>'мощность_л_с'</li>\n",
       "\t<li>'потребление_топлива_городской_цикл_л_100км'</li>\n",
       "\t<li>'filename'</li>\n",
       "\t<li>'sha_id'</li>\n",
       "\t<li>'all_indexes'</li>\n",
       "</ol>\n"
      ],
      "text/latex": [
       "\\begin{enumerate*}\n",
       "\\item 'n'\n",
       "\\item 'index\\_name'\n",
       "\\item 'purchase\\_number'\n",
       "\\item 'done'\n",
       "\\item 'completed\\_car\\_purchase'\n",
       "\\item 'price'\n",
       "\\item 'price\\_per\\_one'\n",
       "\\item 'auction'\n",
       "\\item 'real\\_price'\n",
       "\\item 'numb\\_bidders'\n",
       "\\item 'колич\\_авто\\_в\\_закупке'\n",
       "\\item 'коробка\\_передач'\n",
       "\\item 'марка'\n",
       "\\item 'модель'\n",
       "\\item 'привод'\n",
       "\\item 'ширина'\n",
       "\\item 'объем\\_двигателя\\_куб\\_см'\n",
       "\\item 'длина'\n",
       "\\item 'максимальная\\_скорость'\n",
       "\\item 'масса\\_авто\\_снаряженная'\n",
       "\\item 'год\\_выпуска'\n",
       "\\item 'мощность\\_л\\_с'\n",
       "\\item 'потребление\\_топлива\\_городской\\_цикл\\_л\\_100км'\n",
       "\\item 'filename'\n",
       "\\item 'sha\\_id'\n",
       "\\item 'all\\_indexes'\n",
       "\\end{enumerate*}\n"
      ],
      "text/markdown": [
       "1. 'n'\n",
       "2. 'index_name'\n",
       "3. 'purchase_number'\n",
       "4. 'done'\n",
       "5. 'completed_car_purchase'\n",
       "6. 'price'\n",
       "7. 'price_per_one'\n",
       "8. 'auction'\n",
       "9. 'real_price'\n",
       "10. 'numb_bidders'\n",
       "11. 'колич_авто_в_закупке'\n",
       "12. 'коробка_передач'\n",
       "13. 'марка'\n",
       "14. 'модель'\n",
       "15. 'привод'\n",
       "16. 'ширина'\n",
       "17. 'объем_двигателя_куб_см'\n",
       "18. 'длина'\n",
       "19. 'максимальная_скорость'\n",
       "20. 'масса_авто_снаряженная'\n",
       "21. 'год_выпуска'\n",
       "22. 'мощность_л_с'\n",
       "23. 'потребление_топлива_городской_цикл_л_100км'\n",
       "24. 'filename'\n",
       "25. 'sha_id'\n",
       "26. 'all_indexes'\n",
       "\n",
       "\n"
      ],
      "text/plain": [
       " [1] \"n\"                                         \n",
       " [2] \"index_name\"                                \n",
       " [3] \"purchase_number\"                           \n",
       " [4] \"done\"                                      \n",
       " [5] \"completed_car_purchase\"                    \n",
       " [6] \"price\"                                     \n",
       " [7] \"price_per_one\"                             \n",
       " [8] \"auction\"                                   \n",
       " [9] \"real_price\"                                \n",
       "[10] \"numb_bidders\"                              \n",
       "[11] \"колич_авто_в_закупке\"                      \n",
       "[12] \"коробка_передач\"                           \n",
       "[13] \"марка\"                                     \n",
       "[14] \"модель\"                                    \n",
       "[15] \"привод\"                                    \n",
       "[16] \"ширина\"                                    \n",
       "[17] \"объем_двигателя_куб_см\"                    \n",
       "[18] \"длина\"                                     \n",
       "[19] \"максимальная_скорость\"                     \n",
       "[20] \"масса_авто_снаряженная\"                    \n",
       "[21] \"год_выпуска\"                               \n",
       "[22] \"мощность_л_с\"                              \n",
       "[23] \"потребление_топлива_городской_цикл_л_100км\"\n",
       "[24] \"filename\"                                  \n",
       "[25] \"sha_id\"                                    \n",
       "[26] \"all_indexes\"                               "
      ]
     },
     "metadata": {},
     "output_type": "display_data"
    }
   ],
   "source": [
    "goszak_df  %>%  colnames()"
   ]
  },
  {
   "cell_type": "code",
   "execution_count": 197,
   "metadata": {
    "ExecuteTime": {
     "end_time": "2019-09-29T14:18:35.848707Z",
     "start_time": "2019-09-29T14:18:35.833Z"
    }
   },
   "outputs": [
    {
     "data": {
      "text/html": [
       "<ol class=list-inline>\n",
       "\t<li>1879</li>\n",
       "\t<li>26</li>\n",
       "</ol>\n"
      ],
      "text/latex": [
       "\\begin{enumerate*}\n",
       "\\item 1879\n",
       "\\item 26\n",
       "\\end{enumerate*}\n"
      ],
      "text/markdown": [
       "1. 1879\n",
       "2. 26\n",
       "\n",
       "\n"
      ],
      "text/plain": [
       "[1] 1879   26"
      ]
     },
     "metadata": {},
     "output_type": "display_data"
    }
   ],
   "source": [
    "goszak_df   %>%  dim()"
   ]
  },
  {
   "cell_type": "code",
   "execution_count": 198,
   "metadata": {
    "ExecuteTime": {
     "end_time": "2019-09-29T14:18:38.039439Z",
     "start_time": "2019-09-29T14:18:38.013Z"
    }
   },
   "outputs": [],
   "source": [
    "goszak_df  <-  goszak_df  %>%  distinct(purchase_number, price, колич_авто_в_закупке, коробка_передач, марка, модель, привод, ширина, объем_двигателя_куб_см, длина, максимальная_скорость, масса_авто_снаряженная, год_выпуска, мощность_л_с, потребление_топлива_городской_цикл_л_100км,  .keep_all= TRUE)  "
   ]
  },
  {
   "cell_type": "code",
   "execution_count": 199,
   "metadata": {
    "ExecuteTime": {
     "end_time": "2019-09-29T14:18:46.921871Z",
     "start_time": "2019-09-29T14:18:46.892Z"
    }
   },
   "outputs": [
    {
     "data": {
      "text/html": [
       "<ol class=list-inline>\n",
       "\t<li>1480</li>\n",
       "\t<li>26</li>\n",
       "</ol>\n"
      ],
      "text/latex": [
       "\\begin{enumerate*}\n",
       "\\item 1480\n",
       "\\item 26\n",
       "\\end{enumerate*}\n"
      ],
      "text/markdown": [
       "1. 1480\n",
       "2. 26\n",
       "\n",
       "\n"
      ],
      "text/plain": [
       "[1] 1480   26"
      ]
     },
     "metadata": {},
     "output_type": "display_data"
    }
   ],
   "source": [
    "goszak_df  %>%  dim()"
   ]
  },
  {
   "cell_type": "code",
   "execution_count": 200,
   "metadata": {
    "ExecuteTime": {
     "end_time": "2019-09-29T14:19:00.453700Z",
     "start_time": "2019-09-29T14:19:00.419Z"
    }
   },
   "outputs": [],
   "source": [
    "dupies  <-  goszak_df %>% get_dupes(purchase_number) "
   ]
  },
  {
   "cell_type": "code",
   "execution_count": 201,
   "metadata": {
    "ExecuteTime": {
     "end_time": "2019-09-29T14:19:04.970752Z",
     "start_time": "2019-09-29T14:19:04.705Z"
    }
   },
   "outputs": [],
   "source": [
    "# dupies[dupies$purchase_number == unique(dupies$purchase_number)[1],][1,] %?% dupies[dupies$purchase_number == unique(dupies$purchase_number)[1],][1,]"
   ]
  },
  {
   "cell_type": "code",
   "execution_count": 202,
   "metadata": {
    "ExecuteTime": {
     "end_time": "2019-09-29T14:19:26.452160Z",
     "start_time": "2019-09-29T14:19:26.426Z"
    }
   },
   "outputs": [
    {
     "data": {
      "text/html": [
       "<ol class=list-inline>\n",
       "\t<li>'0101300001817000016'</li>\n",
       "\t<li>'2'</li>\n",
       "\t<li>'2071'</li>\n",
       "\t<li>'2074'</li>\n",
       "\t<li>NA</li>\n",
       "\t<li>'1.0'</li>\n",
       "\t<li>'648235'</li>\n",
       "\t<li>NA</li>\n",
       "\t<li>'1'</li>\n",
       "\t<li>NA</li>\n",
       "\t<li>NA</li>\n",
       "\t<li>NA</li>\n",
       "\t<li>'механическая'</li>\n",
       "\t<li>NA</li>\n",
       "\t<li>NA</li>\n",
       "\t<li>'передний'</li>\n",
       "\t<li>NA</li>\n",
       "\t<li>NA</li>\n",
       "\t<li>NA</li>\n",
       "\t<li>NA</li>\n",
       "\t<li>NA</li>\n",
       "\t<li>NA</li>\n",
       "\t<li>NA</li>\n",
       "\t<li>NA</li>\n",
       "\t<li>'b44e54651bca7254e5a3c32b8742678300b0d5b7dcda064b2514cd501e69848a.doc'</li>\n",
       "\t<li>'b44e54651bca7254e5a3c32b8742678300b0d5b7dcda064b2514cd501e69848a'</li>\n",
       "\t<li>'2074, 2273'</li>\n",
       "</ol>\n"
      ],
      "text/latex": [
       "\\begin{enumerate*}\n",
       "\\item '0101300001817000016'\n",
       "\\item '2'\n",
       "\\item '2071'\n",
       "\\item '2074'\n",
       "\\item NA\n",
       "\\item '1.0'\n",
       "\\item '648235'\n",
       "\\item NA\n",
       "\\item '1'\n",
       "\\item NA\n",
       "\\item NA\n",
       "\\item NA\n",
       "\\item 'механическая'\n",
       "\\item NA\n",
       "\\item NA\n",
       "\\item 'передний'\n",
       "\\item NA\n",
       "\\item NA\n",
       "\\item NA\n",
       "\\item NA\n",
       "\\item NA\n",
       "\\item NA\n",
       "\\item NA\n",
       "\\item NA\n",
       "\\item 'b44e54651bca7254e5a3c32b8742678300b0d5b7dcda064b2514cd501e69848a.doc'\n",
       "\\item 'b44e54651bca7254e5a3c32b8742678300b0d5b7dcda064b2514cd501e69848a'\n",
       "\\item '2074, 2273'\n",
       "\\end{enumerate*}\n"
      ],
      "text/markdown": [
       "1. '0101300001817000016'\n",
       "2. '2'\n",
       "3. '2071'\n",
       "4. '2074'\n",
       "5. NA\n",
       "6. '1.0'\n",
       "7. '648235'\n",
       "8. NA\n",
       "9. '1'\n",
       "10. NA\n",
       "11. NA\n",
       "12. NA\n",
       "13. 'механическая'\n",
       "14. NA\n",
       "15. NA\n",
       "16. 'передний'\n",
       "17. NA\n",
       "18. NA\n",
       "19. NA\n",
       "20. NA\n",
       "21. NA\n",
       "22. NA\n",
       "23. NA\n",
       "24. NA\n",
       "25. 'b44e54651bca7254e5a3c32b8742678300b0d5b7dcda064b2514cd501e69848a.doc'\n",
       "26. 'b44e54651bca7254e5a3c32b8742678300b0d5b7dcda064b2514cd501e69848a'\n",
       "27. '2074, 2273'\n",
       "\n",
       "\n"
      ],
      "text/plain": [
       " [1] \"0101300001817000016\"                                                 \n",
       " [2] \"2\"                                                                   \n",
       " [3] \"2071\"                                                                \n",
       " [4] \"2074\"                                                                \n",
       " [5] NA                                                                    \n",
       " [6] \"1.0\"                                                                 \n",
       " [7] \"648235\"                                                              \n",
       " [8] NA                                                                    \n",
       " [9] \"1\"                                                                   \n",
       "[10] NA                                                                    \n",
       "[11] NA                                                                    \n",
       "[12] NA                                                                    \n",
       "[13] \"механическая\"                                                        \n",
       "[14] NA                                                                    \n",
       "[15] NA                                                                    \n",
       "[16] \"передний\"                                                            \n",
       "[17] NA                                                                    \n",
       "[18] NA                                                                    \n",
       "[19] NA                                                                    \n",
       "[20] NA                                                                    \n",
       "[21] NA                                                                    \n",
       "[22] NA                                                                    \n",
       "[23] NA                                                                    \n",
       "[24] NA                                                                    \n",
       "[25] \"b44e54651bca7254e5a3c32b8742678300b0d5b7dcda064b2514cd501e69848a.doc\"\n",
       "[26] \"b44e54651bca7254e5a3c32b8742678300b0d5b7dcda064b2514cd501e69848a\"    \n",
       "[27] \"2074, 2273\"                                                          "
      ]
     },
     "metadata": {},
     "output_type": "display_data"
    }
   ],
   "source": [
    "coalesce(unname(unlist(a)), unname(unlist(b)), unname(unlist(b)), unname(unlist(a)))"
   ]
  },
  {
   "cell_type": "code",
   "execution_count": 203,
   "metadata": {
    "ExecuteTime": {
     "end_time": "2019-09-29T14:19:29.293529Z",
     "start_time": "2019-09-29T14:19:29.271Z"
    }
   },
   "outputs": [],
   "source": [
    "# unique(dupies$purchase_number)"
   ]
  },
  {
   "cell_type": "code",
   "execution_count": 204,
   "metadata": {
    "ExecuteTime": {
     "end_time": "2019-09-29T14:19:37.676206Z",
     "start_time": "2019-09-29T14:19:37.657Z"
    }
   },
   "outputs": [
    {
     "data": {
      "text/html": [
       "2"
      ],
      "text/latex": [
       "2"
      ],
      "text/markdown": [
       "2"
      ],
      "text/plain": [
       "[1] 2"
      ]
     },
     "metadata": {},
     "output_type": "display_data"
    }
   ],
   "source": [
    "bb = goszak_df[goszak_df$purchase_number ==  unique(dupies$purchase_number)[1], ]  %>%  dim\n",
    "bb[1]"
   ]
  },
  {
   "cell_type": "code",
   "execution_count": 209,
   "metadata": {
    "ExecuteTime": {
     "end_time": "2019-09-29T14:29:57.785358Z",
     "start_time": "2019-09-29T14:29:57.649Z"
    }
   },
   "outputs": [],
   "source": [
    "dims = c()\n",
    "coalesed  <-  list()\n",
    "coun  <- 0\n",
    "\n",
    "for (i in unique(dupies$purchase_number)){\n",
    "    \n",
    "    coun  <- coun + 1\n",
    "    \n",
    "    bb = goszak_df[goszak_df$purchase_number ==  i, ]  %>%  dim\n",
    "    \n",
    "    bb = bb[1]\n",
    "    \n",
    "    if (bb==2){\n",
    "        \n",
    "        coalesed[[coun]]  <-  coalesce(unname(unlist(goszak_df[goszak_df$purchase_number ==  i, ][1,])),\n",
    "         unname(unlist(goszak_df[goszak_df$purchase_number ==  i, ][2,]))\n",
    "        )\n",
    "    }\n",
    "\n",
    "    if (bb==3){\n",
    "        \n",
    "        coalesed[[coun]]  <-  coalesce(unname(unlist(goszak_df[goszak_df$purchase_number ==  i, ][1,])),\n",
    "         unname(unlist(goszak_df[goszak_df$purchase_number ==  i, ][2,])),\n",
    "         unname(unlist(goszak_df[goszak_df$purchase_number ==  i, ][3,]))\n",
    "         \n",
    "        )\n",
    "    }\n",
    "        \n",
    "    \n",
    "    \n",
    "    if (bb==4){\n",
    "        \n",
    "        coalesed[[coun]]  <-  coalesce(unname(unlist(goszak_df[goszak_df$purchase_number ==  i, ][1,])),\n",
    "         unname(unlist(goszak_df[goszak_df$purchase_number ==  i, ][2,])),\n",
    "         unname(unlist(goszak_df[goszak_df$purchase_number ==  i, ][3,])),\n",
    "         unname(unlist(goszak_df[goszak_df$purchase_number ==  i, ][4,]))\n",
    "        )\n",
    "    }\n",
    "    \n",
    "    \n",
    "    \n",
    "    if (bb==5){\n",
    "        \n",
    "        coalesed[[coun]]  <-  coalesce(unname(unlist(goszak_df[goszak_df$purchase_number ==  i, ][1,])),\n",
    "         unname(unlist(goszak_df[goszak_df$purchase_number ==  i, ][2,])),\n",
    "         unname(unlist(goszak_df[goszak_df$purchase_number ==  i, ][3,])),\n",
    "         unname(unlist(goszak_df[goszak_df$purchase_number ==  i, ][4,])),\n",
    "         unname(unlist(goszak_df[goszak_df$purchase_number ==  i, ][5,]))\n",
    "         \n",
    "        )\n",
    "    }\n",
    "    \n",
    "    dims = c(dims, bb)\n",
    "    \n",
    "}"
   ]
  },
  {
   "cell_type": "code",
   "execution_count": 217,
   "metadata": {
    "ExecuteTime": {
     "end_time": "2019-09-29T14:35:02.641916Z",
     "start_time": "2019-09-29T14:35:02.615Z"
    }
   },
   "outputs": [],
   "source": [
    "# data.frame(coalesed)\n",
    "\n",
    "df_coal <- data.frame(matrix(unlist(coalesed), nrow=length(coalesed), byrow=T))"
   ]
  },
  {
   "cell_type": "code",
   "execution_count": 219,
   "metadata": {
    "ExecuteTime": {
     "end_time": "2019-09-29T14:35:32.444829Z",
     "start_time": "2019-09-29T14:35:32.424Z"
    }
   },
   "outputs": [],
   "source": [
    "colnames(df_coal)  <-  colnames(goszak_df)"
   ]
  },
  {
   "cell_type": "code",
   "execution_count": 228,
   "metadata": {
    "ExecuteTime": {
     "end_time": "2019-09-29T14:40:01.327094Z",
     "start_time": "2019-09-29T14:40:01.300Z"
    }
   },
   "outputs": [
    {
     "data": {
      "text/html": [
       "<ol class=list-inline>\n",
       "\t<li>1480</li>\n",
       "\t<li>26</li>\n",
       "</ol>\n"
      ],
      "text/latex": [
       "\\begin{enumerate*}\n",
       "\\item 1480\n",
       "\\item 26\n",
       "\\end{enumerate*}\n"
      ],
      "text/markdown": [
       "1. 1480\n",
       "2. 26\n",
       "\n",
       "\n"
      ],
      "text/plain": [
       "[1] 1480   26"
      ]
     },
     "metadata": {},
     "output_type": "display_data"
    },
    {
     "data": {
      "text/html": [
       "<ol class=list-inline>\n",
       "\t<li>1081</li>\n",
       "\t<li>26</li>\n",
       "</ol>\n"
      ],
      "text/latex": [
       "\\begin{enumerate*}\n",
       "\\item 1081\n",
       "\\item 26\n",
       "\\end{enumerate*}\n"
      ],
      "text/markdown": [
       "1. 1081\n",
       "2. 26\n",
       "\n",
       "\n"
      ],
      "text/plain": [
       "[1] 1081   26"
      ]
     },
     "metadata": {},
     "output_type": "display_data"
    }
   ],
   "source": [
    "goszak_df  %>% dim()\n",
    "goszak_df[not(goszak_df$purchase_number %in% unique(dupies$purchase_number)),]  %>%  dim()"
   ]
  },
  {
   "cell_type": "code",
   "execution_count": 229,
   "metadata": {
    "ExecuteTime": {
     "end_time": "2019-09-29T14:40:56.234653Z",
     "start_time": "2019-09-29T14:40:56.215Z"
    }
   },
   "outputs": [],
   "source": [
    "goszak_df = goszak_df[not(goszak_df$purchase_number %in% unique(dupies$purchase_number)),] "
   ]
  },
  {
   "cell_type": "code",
   "execution_count": 233,
   "metadata": {
    "ExecuteTime": {
     "end_time": "2019-09-29T14:41:35.993151Z",
     "start_time": "2019-09-29T14:41:35.951Z"
    }
   },
   "outputs": [],
   "source": [
    "goszak_df = rbind(goszak_df,df_coal)  "
   ]
  },
  {
   "cell_type": "code",
   "execution_count": 235,
   "metadata": {
    "ExecuteTime": {
     "end_time": "2019-09-29T14:42:14.580147Z",
     "start_time": "2019-09-29T14:42:14.560Z"
    }
   },
   "outputs": [],
   "source": [
    "# goszak_df  %>%  get_dupes(purchase_number) "
   ]
  },
  {
   "cell_type": "code",
   "execution_count": 213,
   "metadata": {
    "ExecuteTime": {
     "end_time": "2019-09-29T14:30:49.650989Z",
     "start_time": "2019-09-29T14:30:49.623Z"
    }
   },
   "outputs": [
    {
     "data": {
      "text/html": [
       "<ol class=list-inline>\n",
       "\t<li>399</li>\n",
       "\t<li>27</li>\n",
       "</ol>\n"
      ],
      "text/latex": [
       "\\begin{enumerate*}\n",
       "\\item 399\n",
       "\\item 27\n",
       "\\end{enumerate*}\n"
      ],
      "text/markdown": [
       "1. 399\n",
       "2. 27\n",
       "\n",
       "\n"
      ],
      "text/plain": [
       "[1] 399  27"
      ]
     },
     "metadata": {},
     "output_type": "display_data"
    },
    {
     "data": {
      "text/html": [
       "185"
      ],
      "text/latex": [
       "185"
      ],
      "text/markdown": [
       "185"
      ],
      "text/plain": [
       "[1] 185"
      ]
     },
     "metadata": {},
     "output_type": "display_data"
    }
   ],
   "source": [
    "dupies  %>%  dim()\n",
    "coalesed  %>%  length()"
   ]
  },
  {
   "cell_type": "code",
   "execution_count": 240,
   "metadata": {
    "ExecuteTime": {
     "end_time": "2019-09-29T14:45:06.002515Z",
     "start_time": "2019-09-29T14:45:05.993Z"
    }
   },
   "outputs": [],
   "source": [
    "goszak_df = goszak_df[order(as.numeric(goszak_df$index_name)), ]"
   ]
  },
  {
   "cell_type": "code",
   "execution_count": 241,
   "metadata": {
    "ExecuteTime": {
     "end_time": "2019-09-29T14:46:46.423705Z",
     "start_time": "2019-09-29T14:46:38.642Z"
    }
   },
   "outputs": [],
   "source": [
    "write.xlsx(goszak_df, 'goszak_df_cars_no_duplicates.xlsx')"
   ]
  },
  {
   "cell_type": "code",
   "execution_count": 242,
   "metadata": {
    "ExecuteTime": {
     "end_time": "2019-09-29T14:48:06.036419Z",
     "start_time": "2019-09-29T14:48:06.008Z"
    }
   },
   "outputs": [],
   "source": [
    "write.csv(goszak_df, 'goszak_df_cars_no_duplicates.csv')"
   ]
  },
  {
   "cell_type": "code",
   "execution_count": 205,
   "metadata": {
    "ExecuteTime": {
     "end_time": "2019-09-29T14:25:20.306064Z",
     "start_time": "2019-09-29T14:25:20.285Z"
    }
   },
   "outputs": [],
   "source": [
    "# unique(dupies$purchase_number)[which(dims == 5)]"
   ]
  },
  {
   "cell_type": "code",
   "execution_count": 170,
   "metadata": {
    "ExecuteTime": {
     "end_time": "2019-09-29T14:16:03.949787Z",
     "start_time": "2019-09-29T14:16:03.906Z"
    }
   },
   "outputs": [
    {
     "data": {
      "text/html": [
       "<table>\n",
       "<thead><tr><th scope=col>n</th><th scope=col>index_name</th><th scope=col>purchase_number</th><th scope=col>done</th><th scope=col>completed_car_purchase</th><th scope=col>price</th><th scope=col>price_per_one</th><th scope=col>auction</th><th scope=col>real_price</th><th scope=col>numb_bidders</th><th scope=col>⋯</th><th scope=col>объем_двигателя_куб_см</th><th scope=col>длина</th><th scope=col>максимальная_скорость</th><th scope=col>масса_авто_снаряженная</th><th scope=col>год_выпуска</th><th scope=col>мощность_л_с</th><th scope=col>потребление_топлива_городской_цикл_л_100км</th><th scope=col>filename</th><th scope=col>sha_id</th><th scope=col>all_indexes</th></tr></thead>\n",
       "<tbody>\n",
       "\t<tr><td>23702                                                                </td><td>1219                                                                 </td><td>0818300001917000007                                                  </td><td>NA                                                                   </td><td>1.0                                                                  </td><td>448900                                                               </td><td>448900                                                               </td><td>1                                                                    </td><td>NA                                                                   </td><td>NA                                                                   </td><td>⋯                                                                    </td><td>NA                                                                   </td><td>NA                                                                   </td><td>NA                                                                   </td><td>NA                                                                   </td><td>NA                                                                   </td><td>NA                                                                   </td><td>NA                                                                   </td><td>fa23113b6880af026ffdb83a8997fbe29ef4bcc39e6d2ade1a76ae2da433ee25.docx</td><td>fa23113b6880af026ffdb83a8997fbe29ef4bcc39e6d2ade1a76ae2da433ee25     </td><td>756, 879, 910, 933, 989, 1021, 1049, 1118, 1121, 1190, 1196, 1219    </td></tr>\n",
       "</tbody>\n",
       "</table>\n"
      ],
      "text/latex": [
       "\\begin{tabular}{r|llllllllllllllllllllllllll}\n",
       " n & index\\_name & purchase\\_number & done & completed\\_car\\_purchase & price & price\\_per\\_one & auction & real\\_price & numb\\_bidders & ⋯ & объем\\_двигателя\\_куб\\_см & длина & максимальная\\_скорость & масса\\_авто\\_снаряженная & год\\_выпуска & мощность\\_л\\_с & потребление\\_топлива\\_городской\\_цикл\\_л\\_100км & filename & sha\\_id & all\\_indexes\\\\\n",
       "\\hline\n",
       "\t 23702                                                                 & 1219                                                                  & 0818300001917000007                                                   & NA                                                                    & 1.0                                                                   & 448900                                                                & 448900                                                                & 1                                                                     & NA                                                                    & NA                                                                    & ⋯                                                                     & NA                                                                    & NA                                                                    & NA                                                                    & NA                                                                    & NA                                                                    & NA                                                                    & NA                                                                    & fa23113b6880af026ffdb83a8997fbe29ef4bcc39e6d2ade1a76ae2da433ee25.docx & fa23113b6880af026ffdb83a8997fbe29ef4bcc39e6d2ade1a76ae2da433ee25      & 756, 879, 910, 933, 989, 1021, 1049, 1118, 1121, 1190, 1196, 1219    \\\\\n",
       "\\end{tabular}\n"
      ],
      "text/markdown": [
       "\n",
       "n | index_name | purchase_number | done | completed_car_purchase | price | price_per_one | auction | real_price | numb_bidders | ⋯ | объем_двигателя_куб_см | длина | максимальная_скорость | масса_авто_снаряженная | год_выпуска | мощность_л_с | потребление_топлива_городской_цикл_л_100км | filename | sha_id | all_indexes | \n",
       "|---|\n",
       "| 23702                                                                 | 1219                                                                  | 0818300001917000007                                                   | NA                                                                    | 1.0                                                                   | 448900                                                                | 448900                                                                | 1                                                                     | NA                                                                    | NA                                                                    | ⋯                                                                     | NA                                                                    | NA                                                                    | NA                                                                    | NA                                                                    | NA                                                                    | NA                                                                    | NA                                                                    | fa23113b6880af026ffdb83a8997fbe29ef4bcc39e6d2ade1a76ae2da433ee25.docx | fa23113b6880af026ffdb83a8997fbe29ef4bcc39e6d2ade1a76ae2da433ee25      | 756, 879, 910, 933, 989, 1021, 1049, 1118, 1121, 1190, 1196, 1219     | \n",
       "\n",
       "\n"
      ],
      "text/plain": [
       "  n     index_name purchase_number     done completed_car_purchase price \n",
       "1 23702 1219       0818300001917000007 NA   1.0                    448900\n",
       "  price_per_one auction real_price numb_bidders ⋯ объем_двигателя_куб_см длина\n",
       "1 448900        1       NA         NA           ⋯ NA                     NA   \n",
       "  максимальная_скорость масса_авто_снаряженная год_выпуска мощность_л_с\n",
       "1 NA                    NA                     NA          NA          \n",
       "  потребление_топлива_городской_цикл_л_100км\n",
       "1 NA                                        \n",
       "  filename                                                             \n",
       "1 fa23113b6880af026ffdb83a8997fbe29ef4bcc39e6d2ade1a76ae2da433ee25.docx\n",
       "  sha_id                                                          \n",
       "1 fa23113b6880af026ffdb83a8997fbe29ef4bcc39e6d2ade1a76ae2da433ee25\n",
       "  all_indexes                                                      \n",
       "1 756, 879, 910, 933, 989, 1021, 1049, 1118, 1121, 1190, 1196, 1219"
      ]
     },
     "metadata": {},
     "output_type": "display_data"
    }
   ],
   "source": [
    "goszak_df[goszak_df$purchase_number ==  '0818300001917000007', ][5,]"
   ]
  },
  {
   "cell_type": "code",
   "execution_count": 206,
   "metadata": {
    "ExecuteTime": {
     "end_time": "2019-09-29T14:25:30.595412Z",
     "start_time": "2019-09-29T14:25:30.575Z"
    }
   },
   "outputs": [
    {
     "data": {
      "text/html": [
       "<ol class=list-inline>\n",
       "\t<li>'4383'</li>\n",
       "\t<li>'756'</li>\n",
       "\t<li>'0818300001917000007'</li>\n",
       "\t<li>NA</li>\n",
       "\t<li>'1.0'</li>\n",
       "\t<li>'448900'</li>\n",
       "\t<li>'448900'</li>\n",
       "\t<li>'1'</li>\n",
       "\t<li>NA</li>\n",
       "\t<li>NA</li>\n",
       "\t<li>'1'</li>\n",
       "\t<li>NA</li>\n",
       "\t<li>'vaz'</li>\n",
       "\t<li>'granta'</li>\n",
       "\t<li>'передний'</li>\n",
       "\t<li>'1700'</li>\n",
       "\t<li>'1596'</li>\n",
       "\t<li>'4260'</li>\n",
       "\t<li>'100'</li>\n",
       "\t<li>'1560'</li>\n",
       "\t<li>'2016'</li>\n",
       "\t<li>NA</li>\n",
       "\t<li>NA</li>\n",
       "\t<li>'68b915f38449e34a6584442230aea38d7e78f8eabb77375fdd5453a804a0978b.docx'</li>\n",
       "\t<li>'68b915f38449e34a6584442230aea38d7e78f8eabb77375fdd5453a804a0978b'</li>\n",
       "\t<li>'756, 879, 910, 933, 989, 1021, 1049, 1118, 1121, 1190, 1196, 1219'</li>\n",
       "</ol>\n"
      ],
      "text/latex": [
       "\\begin{enumerate*}\n",
       "\\item '4383'\n",
       "\\item '756'\n",
       "\\item '0818300001917000007'\n",
       "\\item NA\n",
       "\\item '1.0'\n",
       "\\item '448900'\n",
       "\\item '448900'\n",
       "\\item '1'\n",
       "\\item NA\n",
       "\\item NA\n",
       "\\item '1'\n",
       "\\item NA\n",
       "\\item 'vaz'\n",
       "\\item 'granta'\n",
       "\\item 'передний'\n",
       "\\item '1700'\n",
       "\\item '1596'\n",
       "\\item '4260'\n",
       "\\item '100'\n",
       "\\item '1560'\n",
       "\\item '2016'\n",
       "\\item NA\n",
       "\\item NA\n",
       "\\item '68b915f38449e34a6584442230aea38d7e78f8eabb77375fdd5453a804a0978b.docx'\n",
       "\\item '68b915f38449e34a6584442230aea38d7e78f8eabb77375fdd5453a804a0978b'\n",
       "\\item '756, 879, 910, 933, 989, 1021, 1049, 1118, 1121, 1190, 1196, 1219'\n",
       "\\end{enumerate*}\n"
      ],
      "text/markdown": [
       "1. '4383'\n",
       "2. '756'\n",
       "3. '0818300001917000007'\n",
       "4. NA\n",
       "5. '1.0'\n",
       "6. '448900'\n",
       "7. '448900'\n",
       "8. '1'\n",
       "9. NA\n",
       "10. NA\n",
       "11. '1'\n",
       "12. NA\n",
       "13. 'vaz'\n",
       "14. 'granta'\n",
       "15. 'передний'\n",
       "16. '1700'\n",
       "17. '1596'\n",
       "18. '4260'\n",
       "19. '100'\n",
       "20. '1560'\n",
       "21. '2016'\n",
       "22. NA\n",
       "23. NA\n",
       "24. '68b915f38449e34a6584442230aea38d7e78f8eabb77375fdd5453a804a0978b.docx'\n",
       "25. '68b915f38449e34a6584442230aea38d7e78f8eabb77375fdd5453a804a0978b'\n",
       "26. '756, 879, 910, 933, 989, 1021, 1049, 1118, 1121, 1190, 1196, 1219'\n",
       "\n",
       "\n"
      ],
      "text/plain": [
       " [1] \"4383\"                                                                 \n",
       " [2] \"756\"                                                                  \n",
       " [3] \"0818300001917000007\"                                                  \n",
       " [4] NA                                                                     \n",
       " [5] \"1.0\"                                                                  \n",
       " [6] \"448900\"                                                               \n",
       " [7] \"448900\"                                                               \n",
       " [8] \"1\"                                                                    \n",
       " [9] NA                                                                     \n",
       "[10] NA                                                                     \n",
       "[11] \"1\"                                                                    \n",
       "[12] NA                                                                     \n",
       "[13] \"vaz\"                                                                  \n",
       "[14] \"granta\"                                                               \n",
       "[15] \"передний\"                                                             \n",
       "[16] \"1700\"                                                                 \n",
       "[17] \"1596\"                                                                 \n",
       "[18] \"4260\"                                                                 \n",
       "[19] \"100\"                                                                  \n",
       "[20] \"1560\"                                                                 \n",
       "[21] \"2016\"                                                                 \n",
       "[22] NA                                                                     \n",
       "[23] NA                                                                     \n",
       "[24] \"68b915f38449e34a6584442230aea38d7e78f8eabb77375fdd5453a804a0978b.docx\"\n",
       "[25] \"68b915f38449e34a6584442230aea38d7e78f8eabb77375fdd5453a804a0978b\"     \n",
       "[26] \"756, 879, 910, 933, 989, 1021, 1049, 1118, 1121, 1190, 1196, 1219\"    "
      ]
     },
     "metadata": {},
     "output_type": "display_data"
    }
   ],
   "source": [
    "coalesce(unname(unlist(goszak_df[goszak_df$purchase_number ==  '0818300001917000007', ][1,])),\n",
    "         unname(unlist(goszak_df[goszak_df$purchase_number ==  '0818300001917000007', ][2,])),\n",
    "         unname(unlist(goszak_df[goszak_df$purchase_number ==  '0818300001917000007', ][3,])),\n",
    "         unname(unlist(goszak_df[goszak_df$purchase_number ==  '0818300001917000007', ][4,])),\n",
    "         unname(unlist(goszak_df[goszak_df$purchase_number ==  '0818300001917000007', ][5,]))\n",
    "         \n",
    "        )"
   ]
  }
 ],
 "metadata": {
  "hide_input": false,
  "kernelspec": {
   "display_name": "R 4.0.2",
   "language": "R",
   "name": "ir"
  },
  "language_info": {
   "codemirror_mode": "r",
   "file_extension": ".r",
   "mimetype": "text/x-r-source",
   "name": "R",
   "pygments_lexer": "r",
   "version": "4.0.4"
  },
  "latex_envs": {
   "LaTeX_envs_menu_present": true,
   "autoclose": true,
   "autocomplete": true,
   "bibliofile": "biblio.bib",
   "cite_by": "apalike",
   "current_citInitial": 1,
   "eqLabelWithNumbers": true,
   "eqNumInitial": 1,
   "hotkeys": {
    "equation": "Ctrl-E",
    "itemize": "Ctrl-I"
   },
   "labels_anchors": false,
   "latex_user_defs": false,
   "report_style_numbering": false,
   "user_envs_cfg": false
  },
  "toc": {
   "base_numbering": 1,
   "nav_menu": {},
   "number_sections": true,
   "sideBar": true,
   "skip_h1_title": false,
   "title_cell": "Table of Contents",
   "title_sidebar": "Contents",
   "toc_cell": false,
   "toc_position": {},
   "toc_section_display": true,
   "toc_window_display": false
  },
  "varInspector": {
   "cols": {
    "lenName": 16,
    "lenType": 16,
    "lenVar": 40
   },
   "kernels_config": {
    "python": {
     "delete_cmd_postfix": "",
     "delete_cmd_prefix": "del ",
     "library": "var_list.py",
     "varRefreshCmd": "print(var_dic_list())"
    },
    "r": {
     "delete_cmd_postfix": ") ",
     "delete_cmd_prefix": "rm(",
     "library": "var_list.r",
     "varRefreshCmd": "cat(var_dic_list()) "
    }
   },
   "types_to_exclude": [
    "module",
    "function",
    "builtin_function_or_method",
    "instance",
    "_Feature"
   ],
   "window_display": false
  }
 },
 "nbformat": 4,
 "nbformat_minor": 2
}
