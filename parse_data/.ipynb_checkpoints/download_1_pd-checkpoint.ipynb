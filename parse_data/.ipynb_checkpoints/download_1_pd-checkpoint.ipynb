{
 "cells": [
  {
   "cell_type": "code",
   "execution_count": 199,
   "metadata": {
    "ExecuteTime": {
     "end_time": "2019-10-01T14:27:52.494432Z",
     "start_time": "2019-10-01T14:27:52.490531Z"
    }
   },
   "outputs": [],
   "source": [
    "import pandas as pd"
   ]
  },
  {
   "cell_type": "code",
   "execution_count": 4,
   "metadata": {
    "ExecuteTime": {
     "end_time": "2019-09-26T08:03:03.178071Z",
     "start_time": "2019-09-26T08:03:03.018328Z"
    }
   },
   "outputs": [],
   "source": [
    "df_auc = pd.read_csv('check_selen.csv', index_col=0)"
   ]
  },
  {
   "cell_type": "code",
   "execution_count": 11,
   "metadata": {
    "ExecuteTime": {
     "end_time": "2019-09-26T08:05:19.036428Z",
     "start_time": "2019-09-26T08:05:19.030077Z"
    }
   },
   "outputs": [
    {
     "data": {
      "text/plain": [
       "'Электронный аукцион                                                                                                                                                                                                                                                                                                                                                                                                                                                                                                                                                                                                                                                                                                                                                                                                Процедура завершена /                                                                                                                                                                                                                                                            44-ФЗ                                                                                                                                                                                                                                                                                                                                                                                                Начальная цена                                                                                1\\xa0613\\xa0000                                        ,00                                    Российский рубль'"
      ]
     },
     "execution_count": 11,
     "metadata": {},
     "output_type": "execute_result"
    }
   ],
   "source": [
    "df_auc.iloc[0,0]"
   ]
  },
  {
   "cell_type": "code",
   "execution_count": 13,
   "metadata": {
    "ExecuteTime": {
     "end_time": "2019-09-26T08:06:16.763638Z",
     "start_time": "2019-09-26T08:06:16.756728Z"
    }
   },
   "outputs": [],
   "source": [
    "df_auc['auc'] = ['Электронный аукцион' in i for i in df_auc.iloc[:,0]]"
   ]
  },
  {
   "cell_type": "code",
   "execution_count": 14,
   "metadata": {
    "ExecuteTime": {
     "end_time": "2019-09-26T08:06:38.616116Z",
     "start_time": "2019-09-26T08:06:38.595193Z"
    }
   },
   "outputs": [
    {
     "data": {
      "text/html": [
       "<div>\n",
       "<style scoped>\n",
       "    .dataframe tbody tr th:only-of-type {\n",
       "        vertical-align: middle;\n",
       "    }\n",
       "\n",
       "    .dataframe tbody tr th {\n",
       "        vertical-align: top;\n",
       "    }\n",
       "\n",
       "    .dataframe thead th {\n",
       "        text-align: right;\n",
       "    }\n",
       "</style>\n",
       "<table border=\"1\" class=\"dataframe\">\n",
       "  <thead>\n",
       "    <tr style=\"text-align: right;\">\n",
       "      <th></th>\n",
       "      <th>V1</th>\n",
       "      <th>V2</th>\n",
       "      <th>V3</th>\n",
       "      <th>auc</th>\n",
       "    </tr>\n",
       "  </thead>\n",
       "  <tbody>\n",
       "  </tbody>\n",
       "</table>\n",
       "</div>"
      ],
      "text/plain": [
       "Empty DataFrame\n",
       "Columns: [V1, V2, V3, auc]\n",
       "Index: []"
      ]
     },
     "execution_count": 14,
     "metadata": {},
     "output_type": "execute_result"
    }
   ],
   "source": [
    "df_auc[df_auc['auc'] != True]\n"
   ]
  },
  {
   "cell_type": "code",
   "execution_count": 15,
   "metadata": {
    "ExecuteTime": {
     "end_time": "2019-09-26T08:06:59.000501Z",
     "start_time": "2019-09-26T08:06:58.960090Z"
    }
   },
   "outputs": [],
   "source": [
    "df_auc['zav'] = ['Процедура завершена' in i for i in df_auc.iloc[:,0]]"
   ]
  },
  {
   "cell_type": "code",
   "execution_count": 21,
   "metadata": {
    "ExecuteTime": {
     "end_time": "2019-09-26T08:08:14.826450Z",
     "start_time": "2019-09-26T08:08:14.760333Z"
    }
   },
   "outputs": [
    {
     "data": {
      "text/html": [
       "<div>\n",
       "<style scoped>\n",
       "    .dataframe tbody tr th:only-of-type {\n",
       "        vertical-align: middle;\n",
       "    }\n",
       "\n",
       "    .dataframe tbody tr th {\n",
       "        vertical-align: top;\n",
       "    }\n",
       "\n",
       "    .dataframe thead th {\n",
       "        text-align: right;\n",
       "    }\n",
       "</style>\n",
       "<table border=\"1\" class=\"dataframe\">\n",
       "  <thead>\n",
       "    <tr style=\"text-align: right;\">\n",
       "      <th></th>\n",
       "      <th>V1</th>\n",
       "      <th>V2</th>\n",
       "      <th>V3</th>\n",
       "      <th>auc</th>\n",
       "      <th>zav</th>\n",
       "    </tr>\n",
       "  </thead>\n",
       "  <tbody>\n",
       "    <tr>\n",
       "      <td>71</td>\n",
       "      <td>Электронный аукцион                           ...</td>\n",
       "      <td>№ 0119300026016000033                         ...</td>\n",
       "      <td>Размещено: 29.12.2016                         ...</td>\n",
       "      <td>True</td>\n",
       "      <td>False</td>\n",
       "    </tr>\n",
       "    <tr>\n",
       "      <td>80</td>\n",
       "      <td>Электронный аукцион                           ...</td>\n",
       "      <td>№ 0869200000216001863                         ...</td>\n",
       "      <td>Размещено: 13.12.2016                         ...</td>\n",
       "      <td>True</td>\n",
       "      <td>False</td>\n",
       "    </tr>\n",
       "    <tr>\n",
       "      <td>84</td>\n",
       "      <td>Электронный аукцион                           ...</td>\n",
       "      <td>№ 0332300152417000002                         ...</td>\n",
       "      <td>Размещено: 03.02.2017                         ...</td>\n",
       "      <td>True</td>\n",
       "      <td>False</td>\n",
       "    </tr>\n",
       "    <tr>\n",
       "      <td>86</td>\n",
       "      <td>Электронный аукцион                           ...</td>\n",
       "      <td>№ 0132300002817000002                         ...</td>\n",
       "      <td>Размещено: 13.02.2017                         ...</td>\n",
       "      <td>True</td>\n",
       "      <td>False</td>\n",
       "    </tr>\n",
       "    <tr>\n",
       "      <td>108</td>\n",
       "      <td>Электронный аукцион                           ...</td>\n",
       "      <td>№ 0144300004017000002                         ...</td>\n",
       "      <td>Размещено: 26.01.2017                         ...</td>\n",
       "      <td>True</td>\n",
       "      <td>False</td>\n",
       "    </tr>\n",
       "    <tr>\n",
       "      <td>...</td>\n",
       "      <td>...</td>\n",
       "      <td>...</td>\n",
       "      <td>...</td>\n",
       "      <td>...</td>\n",
       "      <td>...</td>\n",
       "    </tr>\n",
       "    <tr>\n",
       "      <td>2454</td>\n",
       "      <td>Электронный аукцион                           ...</td>\n",
       "      <td>№ 0573400000117000483                         ...</td>\n",
       "      <td>Размещено: 31.05.2017                         ...</td>\n",
       "      <td>True</td>\n",
       "      <td>False</td>\n",
       "    </tr>\n",
       "    <tr>\n",
       "      <td>2459</td>\n",
       "      <td>Электронный аукцион                           ...</td>\n",
       "      <td>№ 0358300238217000123                         ...</td>\n",
       "      <td>Размещено: 13.06.2017                         ...</td>\n",
       "      <td>True</td>\n",
       "      <td>False</td>\n",
       "    </tr>\n",
       "    <tr>\n",
       "      <td>2463</td>\n",
       "      <td>Электронный аукцион                           ...</td>\n",
       "      <td>№ 0373200307317000214                         ...</td>\n",
       "      <td>Размещено: 16.05.2017                         ...</td>\n",
       "      <td>True</td>\n",
       "      <td>False</td>\n",
       "    </tr>\n",
       "    <tr>\n",
       "      <td>2470</td>\n",
       "      <td>Электронный аукцион                           ...</td>\n",
       "      <td>№ 0136200003617003243                         ...</td>\n",
       "      <td>Размещено: 18.05.2017                         ...</td>\n",
       "      <td>True</td>\n",
       "      <td>False</td>\n",
       "    </tr>\n",
       "    <tr>\n",
       "      <td>2494</td>\n",
       "      <td>Электронный аукцион                           ...</td>\n",
       "      <td>№ 0136300015117000080                         ...</td>\n",
       "      <td>Размещено: 20.06.2017                         ...</td>\n",
       "      <td>True</td>\n",
       "      <td>False</td>\n",
       "    </tr>\n",
       "  </tbody>\n",
       "</table>\n",
       "<p>128 rows × 5 columns</p>\n",
       "</div>"
      ],
      "text/plain": [
       "                                                     V1  \\\n",
       "71    Электронный аукцион                           ...   \n",
       "80    Электронный аукцион                           ...   \n",
       "84    Электронный аукцион                           ...   \n",
       "86    Электронный аукцион                           ...   \n",
       "108   Электронный аукцион                           ...   \n",
       "...                                                 ...   \n",
       "2454  Электронный аукцион                           ...   \n",
       "2459  Электронный аукцион                           ...   \n",
       "2463  Электронный аукцион                           ...   \n",
       "2470  Электронный аукцион                           ...   \n",
       "2494  Электронный аукцион                           ...   \n",
       "\n",
       "                                                     V2  \\\n",
       "71    № 0119300026016000033                         ...   \n",
       "80    № 0869200000216001863                         ...   \n",
       "84    № 0332300152417000002                         ...   \n",
       "86    № 0132300002817000002                         ...   \n",
       "108   № 0144300004017000002                         ...   \n",
       "...                                                 ...   \n",
       "2454  № 0573400000117000483                         ...   \n",
       "2459  № 0358300238217000123                         ...   \n",
       "2463  № 0373200307317000214                         ...   \n",
       "2470  № 0136200003617003243                         ...   \n",
       "2494  № 0136300015117000080                         ...   \n",
       "\n",
       "                                                     V3   auc    zav  \n",
       "71    Размещено: 29.12.2016                         ...  True  False  \n",
       "80    Размещено: 13.12.2016                         ...  True  False  \n",
       "84    Размещено: 03.02.2017                         ...  True  False  \n",
       "86    Размещено: 13.02.2017                         ...  True  False  \n",
       "108   Размещено: 26.01.2017                         ...  True  False  \n",
       "...                                                 ...   ...    ...  \n",
       "2454  Размещено: 31.05.2017                         ...  True  False  \n",
       "2459  Размещено: 13.06.2017                         ...  True  False  \n",
       "2463  Размещено: 16.05.2017                         ...  True  False  \n",
       "2470  Размещено: 18.05.2017                         ...  True  False  \n",
       "2494  Размещено: 20.06.2017                         ...  True  False  \n",
       "\n",
       "[128 rows x 5 columns]"
      ]
     },
     "execution_count": 21,
     "metadata": {},
     "output_type": "execute_result"
    }
   ],
   "source": [
    "df_auc[df_auc['zav'] != True]"
   ]
  },
  {
   "cell_type": "code",
   "execution_count": 121,
   "metadata": {
    "ExecuteTime": {
     "end_time": "2019-09-26T08:46:15.531087Z",
     "start_time": "2019-09-26T08:46:15.474295Z"
    }
   },
   "outputs": [],
   "source": []
  },
  {
   "cell_type": "code",
   "execution_count": 182,
   "metadata": {
    "ExecuteTime": {
     "end_time": "2019-09-26T09:06:42.304716Z",
     "start_time": "2019-09-26T09:06:42.136110Z"
    }
   },
   "outputs": [],
   "source": [
    "df_auc['auto1'] = [(('автомобил' in i) or ('Автомобил' in i) or ('легково' in i)  ) for i in df_auc.iloc[:,1]]\n",
    "df_auc['auto2'] = [('услу' in i) for i in df_auc.iloc[:,1]]\n",
    "df_auc['auto3'] = [(('автобус' in i) or ('Автобус' in i) or ('Микроавтобус' in i) or ('микроавтобус' in i)\n",
    "                    or ('Самосвалов' in i) or ('самосвал' in i)  or ('тягач' in i)   \n",
    "                    or ('фургон' in i) or ('грузопассажир' in i) \n",
    "                    or ('осуществлять перевозку' in i) \n",
    "                    or ('снегоболотоход' in i)\n",
    "                    or ('осуществлять перевозку' in i) \n",
    "                    or ('специализированной техники' in i)\n",
    "                    or ('УАЗ' in i)\n",
    "                    or ('ГАЗ' in i)\n",
    "                    or ('авобуса' in i)\n",
    "                    or ('Газели' in i)\n",
    "                    or ('ГАЗели' in i)\n",
    "                    or ('экскаватора' in i)\n",
    "                    or ('эвакуатора' in i)\n",
    "                    or ('СТЕНДА' in i)\n",
    "                    or ('трактора' in i)\n",
    "                    or ('дезинфекционного пункта' in i)) for i in df_auc.iloc[:,1]]\n",
    "df_auc['auto4'] = [(('транспортных средств' in i) or ('транспортного средства' in i)\n",
    "                   or ('искровым зажиганием' in i)\n",
    "                   or ('автотранспорт' in i)\n",
    "                   or ('автомашин' in i)\n",
    "                   or ('Средства транспортные' in i)\n",
    "                   or ('транспортные средства' in i)\n",
    "                   or ('Транспортное средство' in i)\n",
    "                    or ('движимого имущества' in i)                    \n",
    "                   ) for i in df_auc.iloc[:,1]]\n"
   ]
  },
  {
   "cell_type": "code",
   "execution_count": 183,
   "metadata": {
    "ExecuteTime": {
     "end_time": "2019-09-26T09:06:42.389535Z",
     "start_time": "2019-09-26T09:06:42.384656Z"
    }
   },
   "outputs": [],
   "source": [
    "df_auc['auto'] = df_auc['auto1'] & ~df_auc['auto2']  & ~df_auc['auto3'] "
   ]
  },
  {
   "cell_type": "code",
   "execution_count": 184,
   "metadata": {
    "ExecuteTime": {
     "end_time": "2019-09-26T09:06:42.665034Z",
     "start_time": "2019-09-26T09:06:42.660212Z"
    }
   },
   "outputs": [],
   "source": [
    "df_auc['auto4'] = df_auc['auto4'].replace(True, np.nan).replace(False, 1)"
   ]
  },
  {
   "cell_type": "code",
   "execution_count": 185,
   "metadata": {
    "ExecuteTime": {
     "end_time": "2019-09-26T09:06:43.294055Z",
     "start_time": "2019-09-26T09:06:43.284122Z"
    }
   },
   "outputs": [],
   "source": [
    "df_auc['auto'] = df_auc['auto'] * df_auc['auto4']"
   ]
  },
  {
   "cell_type": "code",
   "execution_count": 189,
   "metadata": {
    "ExecuteTime": {
     "end_time": "2019-09-26T09:09:10.995473Z",
     "start_time": "2019-09-26T09:09:10.993382Z"
    }
   },
   "outputs": [],
   "source": [
    "# df_auc['auto_zav'] = df_auc['auto1'] & ~df_auc['auto2']  & ~df_auc['auto3'] &   df_auc['auto3']"
   ]
  },
  {
   "cell_type": "code",
   "execution_count": 195,
   "metadata": {
    "ExecuteTime": {
     "end_time": "2019-09-26T09:12:06.442245Z",
     "start_time": "2019-09-26T09:12:06.426241Z"
    }
   },
   "outputs": [
    {
     "data": {
      "text/plain": [
       "Int64Index([ 206,  368,  488, 1092, 1346, 1411, 1523, 1545, 1999, 2026, 2085,\n",
       "            2144, 2224, 2238, 2347, 2396, 2441],\n",
       "           dtype='int64')"
      ]
     },
     "execution_count": 195,
     "metadata": {},
     "output_type": "execute_result"
    }
   ],
   "source": [
    "df_auc[(df_auc['auto'].isna()) & (df_auc['zav']==False)].index"
   ]
  },
  {
   "cell_type": "code",
   "execution_count": 196,
   "metadata": {
    "ExecuteTime": {
     "end_time": "2019-09-26T09:12:19.773289Z",
     "start_time": "2019-09-26T09:12:19.765434Z"
    },
    "scrolled": true
   },
   "outputs": [],
   "source": [
    "df_auc.loc[df_auc[(df_auc['auto'].isna()) & (df_auc['zav']==False)].index,'auto'] = False"
   ]
  },
  {
   "cell_type": "code",
   "execution_count": 197,
   "metadata": {
    "ExecuteTime": {
     "end_time": "2019-09-26T09:12:21.724883Z",
     "start_time": "2019-09-26T09:12:21.719470Z"
    }
   },
   "outputs": [
    {
     "data": {
      "text/plain": [
       "Series([], Name: auto, dtype: object)"
      ]
     },
     "execution_count": 197,
     "metadata": {},
     "output_type": "execute_result"
    }
   ],
   "source": [
    "df_auc[(df_auc['auto'].isna()) & (df_auc['zav']==False)].loc[:,'auto']"
   ]
  },
  {
   "cell_type": "code",
   "execution_count": 198,
   "metadata": {
    "ExecuteTime": {
     "end_time": "2019-09-26T09:13:23.105298Z",
     "start_time": "2019-09-26T09:13:22.948756Z"
    }
   },
   "outputs": [],
   "source": [
    "df_auc.to_csv('1_auction_dummy.csv')"
   ]
  },
  {
   "cell_type": "code",
   "execution_count": 149,
   "metadata": {
    "ExecuteTime": {
     "end_time": "2019-09-26T08:52:25.885275Z",
     "start_time": "2019-09-26T08:52:25.879234Z"
    }
   },
   "outputs": [
    {
     "data": {
      "text/plain": [
       "(5, 10)"
      ]
     },
     "execution_count": 149,
     "metadata": {},
     "output_type": "execute_result"
    }
   ],
   "source": [
    "df_auc[(df_auc['auto'] != True) & (df_auc['auto3'] != True) &  (df_auc['auto2'] != True) &  (df_auc['auto4'] != True) ].shape"
   ]
  },
  {
   "cell_type": "code",
   "execution_count": 61,
   "metadata": {
    "ExecuteTime": {
     "end_time": "2019-09-26T08:26:01.577509Z",
     "start_time": "2019-09-26T08:26:01.559559Z"
    }
   },
   "outputs": [
    {
     "data": {
      "text/plain": [
       "1        True\n",
       "2       False\n",
       "3       False\n",
       "4       False\n",
       "5       False\n",
       "        ...  \n",
       "2494    False\n",
       "2495    False\n",
       "2496    False\n",
       "2497    False\n",
       "2498     True\n",
       "Length: 2498, dtype: bool"
      ]
     },
     "execution_count": 61,
     "metadata": {},
     "output_type": "execute_result"
    }
   ],
   "source": [
    "(df_auc['auto'] != True) & (df_auc['auto3'] == True)"
   ]
  },
  {
   "cell_type": "code",
   "execution_count": 210,
   "metadata": {
    "ExecuteTime": {
     "end_time": "2019-10-01T14:29:14.075878Z",
     "start_time": "2019-10-01T14:29:13.978232Z"
    }
   },
   "outputs": [],
   "source": [
    "df_auc = pd.read_csv('1_auction_dummy.csv', index_col=0)"
   ]
  },
  {
   "cell_type": "code",
   "execution_count": 220,
   "metadata": {
    "ExecuteTime": {
     "end_time": "2019-10-01T14:31:01.459191Z",
     "start_time": "2019-10-01T14:31:01.451860Z"
    }
   },
   "outputs": [
    {
     "data": {
      "text/plain": [
       "(2498, 10)"
      ]
     },
     "execution_count": 220,
     "metadata": {},
     "output_type": "execute_result"
    }
   ],
   "source": [
    "df_auc.shape"
   ]
  },
  {
   "cell_type": "code",
   "execution_count": 221,
   "metadata": {
    "ExecuteTime": {
     "end_time": "2019-10-01T14:31:21.790171Z",
     "start_time": "2019-10-01T14:31:21.777954Z"
    }
   },
   "outputs": [
    {
     "data": {
      "text/plain": [
       "array([  71,   80,   84,   86,  108,  109,  111,  113,  115,  120,  151,\n",
       "        154,  181,  187,  192,  201,  206,  207,  224,  229,  263,  273,\n",
       "        297,  334,  348,  368,  403,  408,  429,  454,  477,  488,  643,\n",
       "        644,  696,  752,  857,  873,  899,  961,  966,  991, 1040, 1054,\n",
       "       1055, 1057, 1064, 1080, 1092, 1115, 1122, 1125, 1128, 1195, 1346,\n",
       "       1389, 1401, 1411, 1416, 1471, 1495, 1517, 1523, 1533, 1545, 1572,\n",
       "       1579, 1628, 1645, 1649, 1673, 1692, 1693, 1719, 1736, 1738, 1853,\n",
       "       1867, 1885, 1940, 1961, 1981, 1991, 1992, 1999, 2026, 2035, 2062,\n",
       "       2068, 2071, 2076, 2081, 2085, 2088, 2111, 2112, 2119, 2121, 2144,\n",
       "       2193, 2196, 2224, 2232, 2238, 2243, 2247, 2249, 2252, 2257, 2284,\n",
       "       2291, 2295, 2314, 2321, 2339, 2340, 2347, 2379, 2396, 2397, 2402,\n",
       "       2404, 2441, 2454, 2459, 2463, 2470, 2494])"
      ]
     },
     "execution_count": 221,
     "metadata": {},
     "output_type": "execute_result"
    }
   ],
   "source": [
    "df_auc[df_auc['zav']==False].index.values"
   ]
  },
  {
   "cell_type": "code",
   "execution_count": null,
   "metadata": {},
   "outputs": [],
   "source": []
  }
 ],
 "metadata": {
  "hide_input": false,
  "kernelspec": {
   "display_name": "Python 3",
   "language": "python",
   "name": "python3"
  },
  "language_info": {
   "codemirror_mode": {
    "name": "ipython",
    "version": 3
   },
   "file_extension": ".py",
   "mimetype": "text/x-python",
   "name": "python",
   "nbconvert_exporter": "python",
   "pygments_lexer": "ipython3",
   "version": "3.9.5"
  },
  "latex_envs": {
   "LaTeX_envs_menu_present": true,
   "autoclose": true,
   "autocomplete": true,
   "bibliofile": "biblio.bib",
   "cite_by": "apalike",
   "current_citInitial": 1,
   "eqLabelWithNumbers": true,
   "eqNumInitial": 1,
   "hotkeys": {
    "equation": "Ctrl-E",
    "itemize": "Ctrl-I"
   },
   "labels_anchors": false,
   "latex_user_defs": false,
   "report_style_numbering": false,
   "user_envs_cfg": false
  },
  "toc": {
   "base_numbering": 1,
   "nav_menu": {},
   "number_sections": true,
   "sideBar": true,
   "skip_h1_title": false,
   "title_cell": "Table of Contents",
   "title_sidebar": "Contents",
   "toc_cell": false,
   "toc_position": {},
   "toc_section_display": true,
   "toc_window_display": false
  },
  "varInspector": {
   "cols": {
    "lenName": 16,
    "lenType": 16,
    "lenVar": 40
   },
   "kernels_config": {
    "python": {
     "delete_cmd_postfix": "",
     "delete_cmd_prefix": "del ",
     "library": "var_list.py",
     "varRefreshCmd": "print(var_dic_list())"
    },
    "r": {
     "delete_cmd_postfix": ") ",
     "delete_cmd_prefix": "rm(",
     "library": "var_list.r",
     "varRefreshCmd": "cat(var_dic_list()) "
    }
   },
   "types_to_exclude": [
    "module",
    "function",
    "builtin_function_or_method",
    "instance",
    "_Feature"
   ],
   "window_display": false
  }
 },
 "nbformat": 4,
 "nbformat_minor": 2
}
