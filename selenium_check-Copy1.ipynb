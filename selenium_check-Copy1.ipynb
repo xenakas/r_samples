{
 "cells": [
  {
   "cell_type": "markdown",
   "metadata": {},
   "source": [
    "### RSelenium Intro\n",
    "\n",
    "- [RSelenium Docker](https://rpubs.com/johndharrison/RSelenium-Docker)\n",
    "\n",
    "- [RSelenium Tutorial: A Tutorial to Basic Web Scraping With RSelenium](https://thatdatatho.com/2019/01/22/tutorial-web-scraping-rselenium/)\n",
    "\n",
    "- [How to drive a Web browser with R ](https://www.computerworld.com/article/2971265/how-to-drive-a-web-browser-with-r-and-rselenium.html#RSeleniumChart)"
   ]
  },
  {
   "cell_type": "code",
   "execution_count": 1,
   "metadata": {
    "ExecuteTime": {
     "end_time": "2021-11-22T14:10:34.054660Z",
     "start_time": "2021-11-22T14:10:33.852Z"
    }
   },
   "outputs": [],
   "source": [
    "library('RSelenium')"
   ]
  },
  {
   "cell_type": "code",
   "execution_count": null,
   "metadata": {
    "ExecuteTime": {
     "end_time": "2021-11-22T14:10:36.610668Z",
     "start_time": "2021-11-22T14:10:36.550Z"
    }
   },
   "outputs": [],
   "source": [
    "remDr <- remoteDriver(port = 4445L)\n",
    "remDr$open()"
   ]
  },
  {
   "cell_type": "code",
   "execution_count": 40,
   "metadata": {
    "ExecuteTime": {
     "end_time": "2019-09-24T13:25:55.829883Z",
     "start_time": "2019-09-24T13:25:54.487Z"
    }
   },
   "outputs": [
    {
     "data": {
      "text/html": [
       "<ol>\n",
       "\t<li>'Google'</li>\n",
       "</ol>\n"
      ],
      "text/latex": [
       "\\begin{enumerate}\n",
       "\\item 'Google'\n",
       "\\end{enumerate}\n"
      ],
      "text/markdown": [
       "1. 'Google'\n",
       "\n",
       "\n"
      ],
      "text/plain": [
       "[[1]]\n",
       "[1] \"Google\"\n"
      ]
     },
     "metadata": {},
     "output_type": "display_data"
    }
   ],
   "source": [
    "remDr$navigate(\"http://www.google.com/ncr\")\n",
    "remDr$getTitle()"
   ]
  },
  {
   "cell_type": "code",
   "execution_count": 41,
   "metadata": {
    "ExecuteTime": {
     "end_time": "2019-09-24T13:25:58.098208Z",
     "start_time": "2019-09-24T13:25:58.082Z"
    }
   },
   "outputs": [],
   "source": [
    "remDr <- remoteDriver(\n",
    "#   remoteServerAddr = \"192.168.99.100\",\n",
    "  port = 4445\n",
    ")"
   ]
  },
  {
   "cell_type": "code",
   "execution_count": 42,
   "metadata": {
    "ExecuteTime": {
     "end_time": "2019-09-24T13:26:01.430666Z",
     "start_time": "2019-09-24T13:25:59.958Z"
    }
   },
   "outputs": [],
   "source": [
    "remDr$open(silent = TRUE)"
   ]
  },
  {
   "cell_type": "code",
   "execution_count": 44,
   "metadata": {
    "ExecuteTime": {
     "end_time": "2019-09-24T13:26:11.092145Z",
     "start_time": "2019-09-24T13:26:09.339Z"
    }
   },
   "outputs": [
    {
     "data": {
      "text/html": [
       "<ol>\n",
       "\t<li>'Google'</li>\n",
       "</ol>\n"
      ],
      "text/latex": [
       "\\begin{enumerate}\n",
       "\\item 'Google'\n",
       "\\end{enumerate}\n"
      ],
      "text/markdown": [
       "1. 'Google'\n",
       "\n",
       "\n"
      ],
      "text/plain": [
       "[[1]]\n",
       "[1] \"Google\"\n"
      ]
     },
     "metadata": {},
     "output_type": "display_data"
    }
   ],
   "source": [
    "remDr$navigate(\"http://www.google.com/ncr\")\n",
    "remDr$getTitle()"
   ]
  },
  {
   "cell_type": "code",
   "execution_count": 45,
   "metadata": {
    "ExecuteTime": {
     "end_time": "2019-09-24T13:26:11.739225Z",
     "start_time": "2019-09-24T13:26:11.621Z"
    }
   },
   "outputs": [],
   "source": [
    "remDr$screenshot(display = TRUE)"
   ]
  },
  {
   "cell_type": "code",
   "execution_count": 46,
   "metadata": {
    "ExecuteTime": {
     "end_time": "2019-09-24T13:26:28.589295Z",
     "start_time": "2019-09-24T13:26:15.287Z"
    }
   },
   "outputs": [
    {
     "data": {
      "text/html": [
       "<ol>\n",
       "\t<li>'BBC - Homepage'</li>\n",
       "</ol>\n"
      ],
      "text/latex": [
       "\\begin{enumerate}\n",
       "\\item 'BBC - Homepage'\n",
       "\\end{enumerate}\n"
      ],
      "text/markdown": [
       "1. 'BBC - Homepage'\n",
       "\n",
       "\n"
      ],
      "text/plain": [
       "[[1]]\n",
       "[1] \"BBC - Homepage\"\n"
      ]
     },
     "metadata": {},
     "output_type": "display_data"
    }
   ],
   "source": [
    "remDr$navigate(\"http://www.bbc.com\")\n",
    "remDr$getTitle()\n"
   ]
  },
  {
   "cell_type": "code",
   "execution_count": null,
   "metadata": {
    "ExecuteTime": {
     "end_time": "2019-09-24T13:26:28.617762Z",
     "start_time": "2019-09-24T13:26:16.198Z"
    }
   },
   "outputs": [],
   "source": [
    "remDr$close()\n"
   ]
  },
  {
   "cell_type": "code",
   "execution_count": 68,
   "metadata": {
    "ExecuteTime": {
     "end_time": "2019-09-24T13:49:10.016097Z",
     "start_time": "2019-09-24T13:49:09.980Z"
    }
   },
   "outputs": [
    {
     "name": "stderr",
     "output_type": "stream",
     "text": [
      "Warning message:\n",
      "“vignette ‘RSelenium-docker’ not found”"
     ]
    }
   ],
   "source": [
    "vignette(\"RSelenium-docker\", package = \"RSelenium\")"
   ]
  },
  {
   "cell_type": "code",
   "execution_count": 69,
   "metadata": {
    "ExecuteTime": {
     "end_time": "2019-09-24T13:55:33.483470Z",
     "start_time": "2019-09-24T13:55:33.356Z"
    }
   },
   "outputs": [
    {
     "data": {
      "text/html": [
       "<dl>\n",
       "\t<dt>$build</dt>\n",
       "\t\t<dd><dl>\n",
       "\t<dt>$version</dt>\n",
       "\t\t<dd>'2.53.1'</dd>\n",
       "\t<dt>$revision</dt>\n",
       "\t\t<dd>'a36b8b1'</dd>\n",
       "\t<dt>$time</dt>\n",
       "\t\t<dd>'2016-06-30 17:37:03'</dd>\n",
       "</dl>\n",
       "</dd>\n",
       "\t<dt>$os</dt>\n",
       "\t\t<dd><dl>\n",
       "\t<dt>$name</dt>\n",
       "\t\t<dd>'Linux'</dd>\n",
       "\t<dt>$arch</dt>\n",
       "\t\t<dd>'amd64'</dd>\n",
       "\t<dt>$version</dt>\n",
       "\t\t<dd>'4.15.0-1050-oem'</dd>\n",
       "</dl>\n",
       "</dd>\n",
       "\t<dt>$java</dt>\n",
       "\t\t<dd><strong>$version</strong> = '1.8.0_91'</dd>\n",
       "</dl>\n"
      ],
      "text/latex": [
       "\\begin{description}\n",
       "\\item[\\$build] \\begin{description}\n",
       "\\item[\\$version] '2.53.1'\n",
       "\\item[\\$revision] 'a36b8b1'\n",
       "\\item[\\$time] '2016-06-30 17:37:03'\n",
       "\\end{description}\n",
       "\n",
       "\\item[\\$os] \\begin{description}\n",
       "\\item[\\$name] 'Linux'\n",
       "\\item[\\$arch] 'amd64'\n",
       "\\item[\\$version] '4.15.0-1050-oem'\n",
       "\\end{description}\n",
       "\n",
       "\\item[\\$java] \\textbf{\\$version} = '1.8.0\\_91'\n",
       "\\end{description}\n"
      ],
      "text/markdown": [
       "$build\n",
       ":   $version\n",
       ":   '2.53.1'\n",
       "$revision\n",
       ":   'a36b8b1'\n",
       "$time\n",
       ":   '2016-06-30 17:37:03'\n",
       "\n",
       "\n",
       "\n",
       "$os\n",
       ":   $name\n",
       ":   'Linux'\n",
       "$arch\n",
       ":   'amd64'\n",
       "$version\n",
       ":   '4.15.0-1050-oem'\n",
       "\n",
       "\n",
       "\n",
       "$java\n",
       ":   **$version** = '1.8.0_91'\n",
       "\n",
       "\n"
      ],
      "text/plain": [
       "$build\n",
       "$build$version\n",
       "[1] \"2.53.1\"\n",
       "\n",
       "$build$revision\n",
       "[1] \"a36b8b1\"\n",
       "\n",
       "$build$time\n",
       "[1] \"2016-06-30 17:37:03\"\n",
       "\n",
       "\n",
       "$os\n",
       "$os$name\n",
       "[1] \"Linux\"\n",
       "\n",
       "$os$arch\n",
       "[1] \"amd64\"\n",
       "\n",
       "$os$version\n",
       "[1] \"4.15.0-1050-oem\"\n",
       "\n",
       "\n",
       "$java\n",
       "$java$version\n",
       "[1] \"1.8.0_91\"\n",
       "\n"
      ]
     },
     "metadata": {},
     "output_type": "display_data"
    }
   ],
   "source": [
    "remDr$getStatus()\n"
   ]
  },
  {
   "cell_type": "code",
   "execution_count": 94,
   "metadata": {
    "ExecuteTime": {
     "end_time": "2019-09-24T14:13:34.479277Z",
     "start_time": "2019-09-24T14:13:33.544Z"
    }
   },
   "outputs": [
    {
     "data": {
      "text/html": [
       "<ol>\n",
       "\t<li>'https://www.google.com/'</li>\n",
       "</ol>\n"
      ],
      "text/latex": [
       "\\begin{enumerate}\n",
       "\\item 'https://www.google.com/'\n",
       "\\end{enumerate}\n"
      ],
      "text/markdown": [
       "1. 'https://www.google.com/'\n",
       "\n",
       "\n"
      ],
      "text/plain": [
       "[[1]]\n",
       "[1] \"https://www.google.com/\"\n"
      ]
     },
     "metadata": {},
     "output_type": "display_data"
    }
   ],
   "source": [
    "remDr$navigate(\"http://www.google.com/ncr\")\n",
    "remDr$getCurrentUrl()\n",
    "remDr$screenshot(display = TRUE)"
   ]
  },
  {
   "cell_type": "code",
   "execution_count": 83,
   "metadata": {
    "ExecuteTime": {
     "end_time": "2019-09-24T14:11:55.561362Z",
     "start_time": "2019-09-24T14:11:53.025Z"
    }
   },
   "outputs": [
    {
     "data": {
      "text/html": [
       "<ol>\n",
       "\t<li>'https://www.bbc.com/'</li>\n",
       "</ol>\n"
      ],
      "text/latex": [
       "\\begin{enumerate}\n",
       "\\item 'https://www.bbc.com/'\n",
       "\\end{enumerate}\n"
      ],
      "text/markdown": [
       "1. 'https://www.bbc.com/'\n",
       "\n",
       "\n"
      ],
      "text/plain": [
       "[[1]]\n",
       "[1] \"https://www.bbc.com/\"\n"
      ]
     },
     "metadata": {},
     "output_type": "display_data"
    }
   ],
   "source": [
    "remDr$navigate(\"http://www.bbc.co.uk\")\n",
    "remDr$getCurrentUrl()\n"
   ]
  },
  {
   "cell_type": "code",
   "execution_count": 95,
   "metadata": {
    "ExecuteTime": {
     "end_time": "2019-09-24T14:13:50.496704Z",
     "start_time": "2019-09-24T14:13:47.069Z"
    }
   },
   "outputs": [
    {
     "data": {
      "text/html": [
       "<ol>\n",
       "\t<li>'https://www.bbc.com/'</li>\n",
       "</ol>\n"
      ],
      "text/latex": [
       "\\begin{enumerate}\n",
       "\\item 'https://www.bbc.com/'\n",
       "\\end{enumerate}\n"
      ],
      "text/markdown": [
       "1. 'https://www.bbc.com/'\n",
       "\n",
       "\n"
      ],
      "text/plain": [
       "[[1]]\n",
       "[1] \"https://www.bbc.com/\"\n"
      ]
     },
     "metadata": {},
     "output_type": "display_data"
    }
   ],
   "source": [
    "remDr$goBack()\n",
    "remDr$getCurrentUrl()\n",
    "remDr$screenshot(display = TRUE)"
   ]
  },
  {
   "cell_type": "code",
   "execution_count": 96,
   "metadata": {
    "ExecuteTime": {
     "end_time": "2019-09-24T14:14:06.161004Z",
     "start_time": "2019-09-24T14:14:04.504Z"
    }
   },
   "outputs": [
    {
     "data": {
      "text/html": [
       "<ol>\n",
       "\t<li>'https://www.bbc.com/'</li>\n",
       "</ol>\n"
      ],
      "text/latex": [
       "\\begin{enumerate}\n",
       "\\item 'https://www.bbc.com/'\n",
       "\\end{enumerate}\n"
      ],
      "text/markdown": [
       "1. 'https://www.bbc.com/'\n",
       "\n",
       "\n"
      ],
      "text/plain": [
       "[[1]]\n",
       "[1] \"https://www.bbc.com/\"\n"
      ]
     },
     "metadata": {},
     "output_type": "display_data"
    }
   ],
   "source": [
    "remDr$goForward()\n",
    "remDr$getCurrentUrl()\n",
    "remDr$screenshot(display = TRUE)"
   ]
  },
  {
   "cell_type": "code",
   "execution_count": 93,
   "metadata": {
    "ExecuteTime": {
     "end_time": "2019-09-24T14:13:01.062085Z",
     "start_time": "2019-09-24T14:12:58.393Z"
    }
   },
   "outputs": [],
   "source": [
    "remDr$refresh()"
   ]
  },
  {
   "cell_type": "code",
   "execution_count": 97,
   "metadata": {
    "ExecuteTime": {
     "end_time": "2019-09-24T14:14:36.357272Z",
     "start_time": "2019-09-24T14:14:35.295Z"
    }
   },
   "outputs": [],
   "source": [
    "remDr$navigate(\"http://www.google.com/ncr\")\n",
    "webElem <- remDr$findElement(using = 'name', value = \"q\")"
   ]
  },
  {
   "cell_type": "code",
   "execution_count": 98,
   "metadata": {
    "ExecuteTime": {
     "end_time": "2019-09-24T14:14:59.036418Z",
     "start_time": "2019-09-24T14:14:59.005Z"
    }
   },
   "outputs": [
    {
     "data": {
      "text/html": [
       "<ol>\n",
       "\t<li>'q'</li>\n",
       "</ol>\n"
      ],
      "text/latex": [
       "\\begin{enumerate}\n",
       "\\item 'q'\n",
       "\\end{enumerate}\n"
      ],
      "text/markdown": [
       "1. 'q'\n",
       "\n",
       "\n"
      ],
      "text/plain": [
       "[[1]]\n",
       "[1] \"q\"\n"
      ]
     },
     "metadata": {},
     "output_type": "display_data"
    }
   ],
   "source": [
    "webElem$getElementAttribute(\"name\")"
   ]
  },
  {
   "cell_type": "code",
   "execution_count": 99,
   "metadata": {
    "ExecuteTime": {
     "end_time": "2019-09-24T14:15:05.307518Z",
     "start_time": "2019-09-24T14:15:05.284Z"
    }
   },
   "outputs": [
    {
     "data": {
      "text/html": [
       "<ol>\n",
       "\t<li>'gLFyf gsfi'</li>\n",
       "</ol>\n"
      ],
      "text/latex": [
       "\\begin{enumerate}\n",
       "\\item 'gLFyf gsfi'\n",
       "\\end{enumerate}\n"
      ],
      "text/markdown": [
       "1. 'gLFyf gsfi'\n",
       "\n",
       "\n"
      ],
      "text/plain": [
       "[[1]]\n",
       "[1] \"gLFyf gsfi\"\n"
      ]
     },
     "metadata": {},
     "output_type": "display_data"
    }
   ],
   "source": [
    "webElem$getElementAttribute(\"class\")"
   ]
  },
  {
   "cell_type": "code",
   "execution_count": 100,
   "metadata": {
    "ExecuteTime": {
     "end_time": "2019-09-24T14:15:12.670338Z",
     "start_time": "2019-09-24T14:15:12.648Z"
    }
   },
   "outputs": [
    {
     "data": {
      "text/html": [
       "<ol>\n",
       "\t<li>''</li>\n",
       "</ol>\n"
      ],
      "text/latex": [
       "\\begin{enumerate}\n",
       "\\item ''\n",
       "\\end{enumerate}\n"
      ],
      "text/markdown": [
       "1. ''\n",
       "\n",
       "\n"
      ],
      "text/plain": [
       "[[1]]\n",
       "[1] \"\"\n"
      ]
     },
     "metadata": {},
     "output_type": "display_data"
    }
   ],
   "source": [
    "webElem$getElementAttribute(\"id\")"
   ]
  },
  {
   "cell_type": "code",
   "execution_count": 103,
   "metadata": {
    "ExecuteTime": {
     "end_time": "2019-09-24T14:17:22.047642Z",
     "start_time": "2019-09-24T14:17:21.478Z"
    }
   },
   "outputs": [],
   "source": [
    "remDr$navigate(\"http://www.google.com/ncr\")\n",
    "webElem <- remDr$findElement(using = 'class', \"gsfi\")\n"
   ]
  },
  {
   "cell_type": "code",
   "execution_count": 104,
   "metadata": {
    "ExecuteTime": {
     "end_time": "2019-09-24T14:17:29.677862Z",
     "start_time": "2019-09-24T14:17:29.651Z"
    }
   },
   "outputs": [
    {
     "data": {
      "text/html": [
       "<ol>\n",
       "\t<li>'vdLsw gsfi'</li>\n",
       "</ol>\n"
      ],
      "text/latex": [
       "\\begin{enumerate}\n",
       "\\item 'vdLsw gsfi'\n",
       "\\end{enumerate}\n"
      ],
      "text/markdown": [
       "1. 'vdLsw gsfi'\n",
       "\n",
       "\n"
      ],
      "text/plain": [
       "[[1]]\n",
       "[1] \"vdLsw gsfi\"\n"
      ]
     },
     "metadata": {},
     "output_type": "display_data"
    }
   ],
   "source": [
    "webElem$getElementAttribute(\"class\")"
   ]
  },
  {
   "cell_type": "code",
   "execution_count": 106,
   "metadata": {
    "ExecuteTime": {
     "end_time": "2019-09-24T14:17:57.823505Z",
     "start_time": "2019-09-24T14:17:57.796Z"
    }
   },
   "outputs": [
    {
     "data": {
      "text/html": [
       "<ol>\n",
       "</ol>\n"
      ],
      "text/latex": [
       "\\begin{enumerate}\n",
       "\\end{enumerate}\n"
      ],
      "text/markdown": [
       "\n",
       "\n"
      ],
      "text/plain": [
       "list()"
      ]
     },
     "metadata": {},
     "output_type": "display_data"
    }
   ],
   "source": [
    "webElem$getElementAttribute(\"type\")"
   ]
  },
  {
   "cell_type": "code",
   "execution_count": 108,
   "metadata": {
    "ExecuteTime": {
     "end_time": "2019-09-24T14:18:37.116063Z",
     "start_time": "2019-09-24T14:18:37.080Z"
    }
   },
   "outputs": [],
   "source": [
    "webElem <- remDr$findElement(using = 'css', \"input[name='q']\")\n",
    "webElem2 <- remDr$findElement(using = 'css', \"[name='q']\")\n"
   ]
  },
  {
   "cell_type": "code",
   "execution_count": 109,
   "metadata": {
    "ExecuteTime": {
     "end_time": "2019-09-24T14:18:46.789105Z",
     "start_time": "2019-09-24T14:18:46.767Z"
    }
   },
   "outputs": [
    {
     "data": {
      "text/html": [
       "<ol>\n",
       "\t<li>TRUE</li>\n",
       "</ol>\n"
      ],
      "text/latex": [
       "\\begin{enumerate}\n",
       "\\item TRUE\n",
       "\\end{enumerate}\n"
      ],
      "text/markdown": [
       "1. TRUE\n",
       "\n",
       "\n"
      ],
      "text/plain": [
       "[[1]]\n",
       "[1] TRUE\n"
      ]
     },
     "metadata": {},
     "output_type": "display_data"
    }
   ],
   "source": [
    "webElem$compareElements(webElem2)"
   ]
  },
  {
   "cell_type": "code",
   "execution_count": 111,
   "metadata": {
    "ExecuteTime": {
     "end_time": "2019-09-24T14:19:33.407295Z",
     "start_time": "2019-09-24T14:19:33.380Z"
    }
   },
   "outputs": [
    {
     "data": {
      "text/html": [
       "<ol>\n",
       "\t<li>'q'</li>\n",
       "</ol>\n"
      ],
      "text/latex": [
       "\\begin{enumerate}\n",
       "\\item 'q'\n",
       "\\end{enumerate}\n"
      ],
      "text/markdown": [
       "1. 'q'\n",
       "\n",
       "\n"
      ],
      "text/plain": [
       "[[1]]\n",
       "[1] \"q\"\n"
      ]
     },
     "metadata": {},
     "output_type": "display_data"
    }
   ],
   "source": [
    "webElem$getElementAttribute(\"name\")"
   ]
  },
  {
   "cell_type": "markdown",
   "metadata": {},
   "source": [
    "### [RSelenium: Basics](http://rpubs.com/johndharrison/RSelenium-Basics)"
   ]
  },
  {
   "cell_type": "markdown",
   "metadata": {},
   "source": [
    "#### Sending text to elements\n"
   ]
  },
  {
   "cell_type": "code",
   "execution_count": 114,
   "metadata": {
    "ExecuteTime": {
     "end_time": "2019-09-24T14:22:07.698213Z",
     "start_time": "2019-09-24T14:22:06.738Z"
    }
   },
   "outputs": [],
   "source": [
    "remDr$navigate(\"http://www.google.com/ncr\")\n",
    "webElem <- remDr$findElement(using = \"css\", \"[name = 'q']\")\n",
    "webElem$sendKeysToElement(list(\"R Cran\"))\n"
   ]
  },
  {
   "cell_type": "markdown",
   "metadata": {},
   "source": [
    "#### Sending key presses to elements"
   ]
  },
  {
   "cell_type": "code",
   "execution_count": 120,
   "metadata": {
    "ExecuteTime": {
     "end_time": "2019-09-24T14:24:50.785242Z",
     "start_time": "2019-09-24T14:24:50.043Z"
    }
   },
   "outputs": [],
   "source": [
    "remDr$navigate(\"http://www.google.com/ncr\")\n",
    "webElem <- remDr$findElement(using = \"css\", \"[name = 'q']\")\n",
    "webElem$sendKeysToElement(list(\"сайт госзакупок\", \"\\uE007\"))"
   ]
  },
  {
   "cell_type": "code",
   "execution_count": 121,
   "metadata": {
    "ExecuteTime": {
     "end_time": "2019-09-24T14:24:53.773375Z",
     "start_time": "2019-09-24T14:24:53.578Z"
    }
   },
   "outputs": [],
   "source": [
    "remDr$screenshot(display = TRUE)"
   ]
  },
  {
   "cell_type": "code",
   "execution_count": 122,
   "metadata": {
    "ExecuteTime": {
     "end_time": "2019-09-24T14:27:10.396013Z",
     "start_time": "2019-09-24T14:27:09.669Z"
    }
   },
   "outputs": [],
   "source": [
    "remDr$navigate(\"http://www.google.com/ncr\")\n",
    "webElem <- remDr$findElement(using = \"css\", \"[name = 'q']\")\n",
    "webElem$sendKeysToElement(list(\"R Cran\", key = \"enter\"))"
   ]
  },
  {
   "cell_type": "code",
   "execution_count": 123,
   "metadata": {
    "ExecuteTime": {
     "end_time": "2019-09-24T14:27:13.278186Z",
     "start_time": "2019-09-24T14:27:13.081Z"
    }
   },
   "outputs": [],
   "source": [
    "remDr$screenshot(display = TRUE)"
   ]
  },
  {
   "cell_type": "code",
   "execution_count": 143,
   "metadata": {
    "ExecuteTime": {
     "end_time": "2019-09-24T14:34:33.154329Z",
     "start_time": "2019-09-24T14:34:32.974Z"
    }
   },
   "outputs": [],
   "source": [
    "webElems <- remDr$findElements(using = 'css selector', \"h3.LC20lb\")\n",
    "resHeaders <- unlist(lapply(webElems, function(x){x$getElementText()}))"
   ]
  },
  {
   "cell_type": "code",
   "execution_count": 144,
   "metadata": {
    "ExecuteTime": {
     "end_time": "2019-09-24T14:34:33.308516Z",
     "start_time": "2019-09-24T14:34:33.283Z"
    },
    "scrolled": true
   },
   "outputs": [
    {
     "data": {
      "text/html": [
       "<ol class=list-inline>\n",
       "\t<li>'The Comprehensive R Archive Network'</li>\n",
       "\t<li>'Contributed Packages - CRAN'</li>\n",
       "\t<li>'Building R for Windows - CRAN'</li>\n",
       "\t<li>'R for Mac OS X CRAN Archive'</li>\n",
       "\t<li>'R (programming language) - Wikipedia'</li>\n",
       "\t<li>'R (язык программирования) — Википедия'</li>\n",
       "\t<li>'Releasing a package · R packages'</li>\n",
       "</ol>\n"
      ],
      "text/latex": [
       "\\begin{enumerate*}\n",
       "\\item 'The Comprehensive R Archive Network'\n",
       "\\item 'Contributed Packages - CRAN'\n",
       "\\item 'Building R for Windows - CRAN'\n",
       "\\item 'R for Mac OS X CRAN Archive'\n",
       "\\item 'R (programming language) - Wikipedia'\n",
       "\\item 'R (язык программирования) — Википедия'\n",
       "\\item 'Releasing a package · R packages'\n",
       "\\end{enumerate*}\n"
      ],
      "text/markdown": [
       "1. 'The Comprehensive R Archive Network'\n",
       "2. 'Contributed Packages - CRAN'\n",
       "3. 'Building R for Windows - CRAN'\n",
       "4. 'R for Mac OS X CRAN Archive'\n",
       "5. 'R (programming language) - Wikipedia'\n",
       "6. 'R (язык программирования) — Википедия'\n",
       "7. 'Releasing a package · R packages'\n",
       "\n",
       "\n"
      ],
      "text/plain": [
       "[1] \"The Comprehensive R Archive Network\"  \n",
       "[2] \"Contributed Packages - CRAN\"          \n",
       "[3] \"Building R for Windows - CRAN\"        \n",
       "[4] \"R for Mac OS X CRAN Archive\"          \n",
       "[5] \"R (programming language) - Wikipedia\" \n",
       "[6] \"R (язык программирования) — Википедия\"\n",
       "[7] \"Releasing a package · R packages\"     "
      ]
     },
     "metadata": {},
     "output_type": "display_data"
    }
   ],
   "source": [
    "resHeaders"
   ]
  },
  {
   "cell_type": "code",
   "execution_count": 145,
   "metadata": {
    "ExecuteTime": {
     "end_time": "2019-09-24T14:34:44.211246Z",
     "start_time": "2019-09-24T14:34:44.116Z"
    }
   },
   "outputs": [],
   "source": [
    "webElem <- webElems[[which(resHeaders == 'The Comprehensive R Archive Network')]]\n",
    "webElem$clickElement()"
   ]
  },
  {
   "cell_type": "code",
   "execution_count": 146,
   "metadata": {
    "ExecuteTime": {
     "end_time": "2019-09-24T14:34:45.404633Z",
     "start_time": "2019-09-24T14:34:45.290Z"
    }
   },
   "outputs": [],
   "source": [
    "remDr$screenshot(display = TRUE)"
   ]
  },
  {
   "cell_type": "code",
   "execution_count": 147,
   "metadata": {
    "ExecuteTime": {
     "end_time": "2019-09-24T14:35:56.936477Z",
     "start_time": "2019-09-24T14:35:56.913Z"
    }
   },
   "outputs": [
    {
     "data": {
      "text/html": [
       "<ol>\n",
       "\t<li>'https://cran.r-project.org/'</li>\n",
       "</ol>\n"
      ],
      "text/latex": [
       "\\begin{enumerate}\n",
       "\\item 'https://cran.r-project.org/'\n",
       "\\end{enumerate}\n"
      ],
      "text/markdown": [
       "1. 'https://cran.r-project.org/'\n",
       "\n",
       "\n"
      ],
      "text/plain": [
       "[[1]]\n",
       "[1] \"https://cran.r-project.org/\"\n"
      ]
     },
     "metadata": {},
     "output_type": "display_data"
    }
   ],
   "source": [
    "remDr$getCurrentUrl()"
   ]
  },
  {
   "cell_type": "code",
   "execution_count": 148,
   "metadata": {
    "ExecuteTime": {
     "end_time": "2019-09-24T14:36:02.805241Z",
     "start_time": "2019-09-24T14:36:02.777Z"
    }
   },
   "outputs": [
    {
     "data": {
      "text/html": [
       "<ol>\n",
       "\t<li>'The Comprehensive R Archive Network'</li>\n",
       "</ol>\n"
      ],
      "text/latex": [
       "\\begin{enumerate}\n",
       "\\item 'The Comprehensive R Archive Network'\n",
       "\\end{enumerate}\n"
      ],
      "text/markdown": [
       "1. 'The Comprehensive R Archive Network'\n",
       "\n",
       "\n"
      ],
      "text/plain": [
       "[[1]]\n",
       "[1] \"The Comprehensive R Archive Network\"\n"
      ]
     },
     "metadata": {},
     "output_type": "display_data"
    }
   ],
   "source": [
    "remDr$getTitle()"
   ]
  },
  {
   "cell_type": "markdown",
   "metadata": {},
   "source": [
    "#### Injecting JavaScript synchronously"
   ]
  },
  {
   "cell_type": "code",
   "execution_count": 152,
   "metadata": {
    "ExecuteTime": {
     "end_time": "2019-09-24T14:38:40.947443Z",
     "start_time": "2019-09-24T14:38:40.296Z"
    }
   },
   "outputs": [],
   "source": [
    "remDr$navigate(\"http://www.google.com/ncr\")\n",
    "webElem <- remDr$findElement(\"css\", \"img#hplogo\")"
   ]
  },
  {
   "cell_type": "code",
   "execution_count": 160,
   "metadata": {
    "ExecuteTime": {
     "end_time": "2019-09-24T14:42:34.180181Z",
     "start_time": "2019-09-24T14:42:34.158Z"
    }
   },
   "outputs": [
    {
     "data": {
      "text/html": [
       "<ol>\n",
       "\t<li>FALSE</li>\n",
       "</ol>\n"
      ],
      "text/latex": [
       "\\begin{enumerate}\n",
       "\\item FALSE\n",
       "\\end{enumerate}\n"
      ],
      "text/markdown": [
       "1. FALSE\n",
       "\n",
       "\n"
      ],
      "text/plain": [
       "[[1]]\n",
       "[1] FALSE\n"
      ]
     },
     "metadata": {},
     "output_type": "display_data"
    }
   ],
   "source": [
    "script <- \"return document.getElementById('hplogo').hidden;\"\n",
    "remDr$executeScript(script, args = list('errorDetails'))"
   ]
  },
  {
   "cell_type": "code",
   "execution_count": 162,
   "metadata": {
    "ExecuteTime": {
     "end_time": "2019-09-24T14:43:22.570234Z",
     "start_time": "2019-09-24T14:43:22.530Z"
    }
   },
   "outputs": [
    {
     "data": {
      "text/html": [
       "<ol>\n",
       "\t<li>TRUE</li>\n",
       "</ol>\n"
      ],
      "text/latex": [
       "\\begin{enumerate}\n",
       "\\item TRUE\n",
       "\\end{enumerate}\n"
      ],
      "text/markdown": [
       "1. TRUE\n",
       "\n",
       "\n"
      ],
      "text/plain": [
       "[[1]]\n",
       "[1] TRUE\n"
      ]
     },
     "metadata": {},
     "output_type": "display_data"
    }
   ],
   "source": [
    "script <- \"document.getElementById('hplogo').hidden = true; \n",
    "             return document.getElementById('hplogo').hidden;\"\n",
    "remDr$executeScript(script, args = list('errorDetails'))"
   ]
  },
  {
   "cell_type": "code",
   "execution_count": 163,
   "metadata": {
    "ExecuteTime": {
     "end_time": "2019-09-24T14:44:02.270989Z",
     "start_time": "2019-09-24T14:44:02.190Z"
    }
   },
   "outputs": [],
   "source": [
    "remDr$screenshot(display = TRUE)"
   ]
  },
  {
   "cell_type": "code",
   "execution_count": 157,
   "metadata": {
    "ExecuteTime": {
     "end_time": "2019-09-24T14:40:13.746169Z",
     "start_time": "2019-09-24T14:40:13.730Z"
    }
   },
   "outputs": [
    {
     "data": {
      "text/html": [
       "<pre class=language-r><code>new(\"refMethodDef\", .Data = function (type = \"value\") \n",
       "{\n",
       "<span style=white-space:pre-wrap>    \"Return error details. Type can one of c(\\\"value\\\", \\\"class\\\",\\n        \\\"status\\\")\"</span>\n",
       "<span style=white-space:pre-wrap>    switch(type, value = value, class = statusclass, status = status)</span>\n",
       "}, mayCall = character(0), name = \"errorDetails\", refClassName = \"errorHandler\", \n",
       "<span style=white-space:pre-wrap>    superClassMethod = \"\")</span></code></pre>"
      ],
      "text/latex": [
       "\\begin{minted}{r}\n",
       "new(\"refMethodDef\", .Data = function (type = \"value\") \n",
       "\\{\n",
       "    \"Return error details. Type can one of c(\\textbackslash{}\"value\\textbackslash{}\", \\textbackslash{}\"class\\textbackslash{}\",\\textbackslash{}n        \\textbackslash{}\"status\\textbackslash{}\")\"\n",
       "    switch(type, value = value, class = statusclass, status = status)\n",
       "\\}, mayCall = character(0), name = \"errorDetails\", refClassName = \"errorHandler\", \n",
       "    superClassMethod = \"\")\n",
       "\\end{minted}"
      ],
      "text/markdown": [
       "```r\n",
       "new(\"refMethodDef\", .Data = function (type = \"value\") \n",
       "{\n",
       "    \"Return error details. Type can one of c(\\\"value\\\", \\\"class\\\",\\n        \\\"status\\\")\"\n",
       "    switch(type, value = value, class = statusclass, status = status)\n",
       "}, mayCall = character(0), name = \"errorDetails\", refClassName = \"errorHandler\", \n",
       "    superClassMethod = \"\")\n",
       "```"
      ],
      "text/plain": [
       "new(\"refMethodDef\", .Data = function (type = \"value\") \n",
       "{\n",
       "    \"Return error details. Type can one of c(\\\"value\\\", \\\"class\\\",\\n        \\\"status\\\")\"\n",
       "    switch(type, value = value, class = statusclass, status = status)\n",
       "}, mayCall = character(0), name = \"errorDetails\", refClassName = \"errorHandler\", \n",
       "    superClassMethod = \"\")\n",
       "<environment: 0x563bb7d80510>\n",
       "attr(,\"mayCall\")\n",
       "character(0)\n",
       "attr(,\"name\")\n",
       "[1] \"errorDetails\"\n",
       "attr(,\"refClassName\")\n",
       "[1] \"errorHandler\"\n",
       "attr(,\"superClassMethod\")\n",
       "[1] \"\"\n",
       "attr(,\"class\")\n",
       "[1] \"refMethodDef\"\n",
       "attr(,\"class\")attr(,\"package\")\n",
       "[1] \"methods\""
      ]
     },
     "metadata": {},
     "output_type": "display_data"
    }
   ],
   "source": [
    "remDr$errorDetails"
   ]
  },
  {
   "cell_type": "code",
   "execution_count": 158,
   "metadata": {
    "ExecuteTime": {
     "end_time": "2019-09-24T14:41:10.017546Z",
     "start_time": "2019-09-24T14:41:09.988Z"
    }
   },
   "outputs": [
    {
     "data": {
      "text/html": [
       "<ol>\n",
       "\t<li>FALSE</li>\n",
       "</ol>\n"
      ],
      "text/latex": [
       "\\begin{enumerate}\n",
       "\\item FALSE\n",
       "\\end{enumerate}\n"
      ],
      "text/markdown": [
       "1. FALSE\n",
       "\n",
       "\n"
      ],
      "text/plain": [
       "[[1]]\n",
       "[1] FALSE\n"
      ]
     },
     "metadata": {},
     "output_type": "display_data"
    }
   ],
   "source": [
    "script <-\"arguments[0].hidden = false; return arguments[0].hidden;\"\n",
    "remDr$executeScript(script, args = list(webElem))"
   ]
  },
  {
   "cell_type": "code",
   "execution_count": 165,
   "metadata": {
    "ExecuteTime": {
     "end_time": "2019-09-24T14:49:05.970360Z",
     "start_time": "2019-09-24T14:49:05.917Z"
    }
   },
   "outputs": [],
   "source": [
    "script <- \"return document.getElementsByName('q');\"\n",
    "test <- remDr$executeScript(script, args = list('errorDetails'))"
   ]
  },
  {
   "cell_type": "code",
   "execution_count": 168,
   "metadata": {
    "ExecuteTime": {
     "end_time": "2019-09-24T14:49:34.377575Z",
     "start_time": "2019-09-24T14:49:34.349Z"
    }
   },
   "outputs": [
    {
     "data": {
      "text/html": [
       "<strong>$ELEMENT</strong> = '22'"
      ],
      "text/latex": [
       "\\textbf{\\$ELEMENT} = '22'"
      ],
      "text/markdown": [
       "**$ELEMENT** = '22'"
      ],
      "text/plain": [
       "$ELEMENT\n",
       "[1] \"22\"\n"
      ]
     },
     "metadata": {},
     "output_type": "display_data"
    }
   ],
   "source": [
    "test[[1]]"
   ]
  },
  {
   "cell_type": "code",
   "execution_count": 169,
   "metadata": {
    "ExecuteTime": {
     "end_time": "2019-09-24T14:50:20.210566Z",
     "start_time": "2019-09-24T14:50:20.201Z"
    }
   },
   "outputs": [
    {
     "data": {
      "text/html": [
       "'list'"
      ],
      "text/latex": [
       "'list'"
      ],
      "text/markdown": [
       "'list'"
      ],
      "text/plain": [
       "[1] \"list\""
      ]
     },
     "metadata": {},
     "output_type": "display_data"
    }
   ],
   "source": [
    "class(test[[1]])"
   ]
  },
  {
   "cell_type": "code",
   "execution_count": 170,
   "metadata": {
    "ExecuteTime": {
     "end_time": "2019-09-24T14:50:23.562979Z",
     "start_time": "2019-09-24T14:50:23.554Z"
    }
   },
   "outputs": [
    {
     "ename": "ERROR",
     "evalue": "Error in eval(expr, envir, enclos): attempt to apply non-function\n",
     "output_type": "error",
     "traceback": [
      "Error in eval(expr, envir, enclos): attempt to apply non-function\nTraceback:\n"
     ]
    }
   ],
   "source": [
    "test[[1]]$highlightElement()"
   ]
  },
  {
   "cell_type": "code",
   "execution_count": 171,
   "metadata": {
    "ExecuteTime": {
     "end_time": "2019-09-24T14:52:11.217603Z",
     "start_time": "2019-09-24T14:52:10.322Z"
    }
   },
   "outputs": [],
   "source": [
    "remDr$navigate(\"http://www.google.com/ncr\")\n",
    "remDr$setAsyncScriptTimeout(10000)\n"
   ]
  },
  {
   "cell_type": "code",
   "execution_count": 176,
   "metadata": {
    "ExecuteTime": {
     "end_time": "2019-09-24T14:54:13.875303Z",
     "start_time": "2019-09-24T14:54:13.210Z"
    }
   },
   "outputs": [
    {
     "ename": "ERROR",
     "evalue": "Error in checkError(res): Undefined error in httr call. httr output: No method for S4 class:webElement\n",
     "output_type": "error",
     "traceback": [
      "Error in checkError(res): Undefined error in httr call. httr output: No method for S4 class:webElement\nTraceback:\n",
      "1. remDr$executeAsyncScript(script, args = list(webElem))",
      "2. queryRD(qpath, \"POST\", qdata = list(script = script, args = args))",
      "3. checkError(res)",
      "4. stop(err)"
     ]
    }
   ],
   "source": [
    "remDr$navigate(\"http://www.google.com/ncr\")\n",
    "webElem <- remDr$findElement(\"css\", \"img#hplogo\")\n",
    "script <- \"\n",
    "cb = arguments[arguments.length -1];\n",
    "webElem = arguments[0];\n",
    "setTimeout(function(){webElem.hidden = true; cb('DONE');},5000);\"\n",
    "remDr$executeAsyncScript(script, args = list(webElem))"
   ]
  },
  {
   "cell_type": "code",
   "execution_count": 173,
   "metadata": {
    "ExecuteTime": {
     "end_time": "2019-09-24T14:52:40.778357Z",
     "start_time": "2019-09-24T14:52:40.146Z"
    }
   },
   "outputs": [
    {
     "data": {
      "text/html": [
       "<ol>\n",
       "\t<li>'DONE'</li>\n",
       "</ol>\n"
      ],
      "text/latex": [
       "\\begin{enumerate}\n",
       "\\item 'DONE'\n",
       "\\end{enumerate}\n"
      ],
      "text/markdown": [
       "1. 'DONE'\n",
       "\n",
       "\n"
      ],
      "text/plain": [
       "[[1]]\n",
       "[1] \"DONE\"\n"
      ]
     },
     "metadata": {},
     "output_type": "display_data"
    }
   ],
   "source": [
    "remDr$navigate(\"http://www.google.com/ncr\")\n",
    "webElem <- remDr$findElement(\"css\", \"img#hplogo\")\n",
    "script <- \"\n",
    "webElem = arguments[0];\n",
    "setTimeout(function(){webElem.hidden = true;},5000);\n",
    "return 'DONE';\n",
    "\"\n",
    "remDr$executeScript(script, args = list(webElem))\n"
   ]
  },
  {
   "cell_type": "code",
   "execution_count": 174,
   "metadata": {
    "ExecuteTime": {
     "end_time": "2019-09-24T14:52:59.350424Z",
     "start_time": "2019-09-24T14:52:59.275Z"
    }
   },
   "outputs": [],
   "source": [
    "remDr$screenshot(display = TRUE)"
   ]
  },
  {
   "cell_type": "markdown",
   "metadata": {},
   "source": [
    "#### Frames in Selenium"
   ]
  },
  {
   "cell_type": "code",
   "execution_count": 187,
   "metadata": {
    "ExecuteTime": {
     "end_time": "2019-09-24T15:04:43.581101Z",
     "start_time": "2019-09-24T15:04:43.484Z"
    }
   },
   "outputs": [],
   "source": [
    "remDr$navigate(\"https://CRAN.r-project.org/\")"
   ]
  },
  {
   "cell_type": "code",
   "execution_count": 188,
   "metadata": {
    "ExecuteTime": {
     "end_time": "2019-09-24T15:04:43.773299Z",
     "start_time": "2019-09-24T15:04:43.732Z"
    }
   },
   "outputs": [
    {
     "data": {
      "text/plain": [
       "<!DOCTYPE html PUBLIC \"-//W3C//DTD HTML 4.01 Frameset//EN\" \"http://www.w3.org/TR/html4/frameset.dtd\">\n",
       "<html xmlns=\"http://www.w3.org/1999/xhtml\">\n",
       "<head>\n",
       "<title>The Comprehensive R Archive Network</title>\n",
       "<meta content=\"text/html; charset=utf-8\" http-equiv=\"content-type\">\n",
       "<link type=\"image/x-icon\" href=\"favicon.ico\" rel=\"icon\">\n",
       "<link type=\"image/x-icon\" href=\"favicon.ico\" rel=\"shortcut icon\">\n",
       "<link href=\"R.css\" type=\"text/css\" rel=\"stylesheet\">\n",
       "</head>\n",
       "<frameset style=\"border: none;\" cols=\"1*, 4*\">\n",
       "<frameset rows=\"120, 1*\">\n",
       "<frame frameborder=\"0\" name=\"logo\" src=\"logo.html\">\n",
       "<frame frameborder=\"0\" name=\"contents\" src=\"navbar.html\">\n",
       "</frameset>\n",
       "<frame frameborder=\"0\" name=\"banner\" src=\"banner.shtml\">\n",
       "<noframes>\n",
       "&lt;h1&gt;The Comprehensive R Archive Network&lt;/h1&gt;\n",
       "\n",
       "Your browser seems not to support frames,\n",
       "here is the &lt;A href=\"navbar.html\"&gt;contents page&lt;/A&gt; of CRAN.\n",
       "</noframes>\n",
       "</frameset>\n",
       "</html>\n",
       " "
      ]
     },
     "metadata": {},
     "output_type": "display_data"
    }
   ],
   "source": [
    "XML::htmlParse(remDr$getPageSource()[[1]])"
   ]
  },
  {
   "cell_type": "code",
   "execution_count": 189,
   "metadata": {
    "ExecuteTime": {
     "end_time": "2019-09-24T15:04:44.470006Z",
     "start_time": "2019-09-24T15:04:44.334Z"
    }
   },
   "outputs": [],
   "source": [
    "remDr$screenshot(display = TRUE)"
   ]
  },
  {
   "cell_type": "code",
   "execution_count": 180,
   "metadata": {
    "ExecuteTime": {
     "end_time": "2019-09-24T15:02:37.831026Z",
     "start_time": "2019-09-24T15:02:37.680Z"
    }
   },
   "outputs": [],
   "source": [
    "remDr$maxWindowSize()\n",
    "remDr$screenshot(display = TRUE)\n",
    "\n"
   ]
  },
  {
   "cell_type": "code",
   "execution_count": 190,
   "metadata": {
    "ExecuteTime": {
     "end_time": "2019-09-24T15:04:55.932429Z",
     "start_time": "2019-09-24T15:04:55.904Z"
    }
   },
   "outputs": [],
   "source": [
    "webElems <- remDr$findElements(using = \"tag name\", \"frame\")\n",
    "# webElems <- remDr$findElements(value = \"//frame\") # using xpath\n",
    "# webElems <- remDr$findElements(\"css\", value = \"frame\") # using css"
   ]
  },
  {
   "cell_type": "code",
   "execution_count": 191,
   "metadata": {
    "ExecuteTime": {
     "end_time": "2019-09-24T15:04:56.284962Z",
     "start_time": "2019-09-24T15:04:56.200Z"
    }
   },
   "outputs": [
    {
     "data": {
      "text/html": [
       "<ol>\n",
       "\t<li>'https://cran.r-project.org/logo.html'</li>\n",
       "\t<li>'https://cran.r-project.org/navbar.html'</li>\n",
       "\t<li>'https://cran.r-project.org/banner.shtml'</li>\n",
       "</ol>\n"
      ],
      "text/latex": [
       "\\begin{enumerate}\n",
       "\\item 'https://cran.r-project.org/logo.html'\n",
       "\\item 'https://cran.r-project.org/navbar.html'\n",
       "\\item 'https://cran.r-project.org/banner.shtml'\n",
       "\\end{enumerate}\n"
      ],
      "text/markdown": [
       "1. 'https://cran.r-project.org/logo.html'\n",
       "2. 'https://cran.r-project.org/navbar.html'\n",
       "3. 'https://cran.r-project.org/banner.shtml'\n",
       "\n",
       "\n"
      ],
      "text/plain": [
       "[[1]]\n",
       "[1] \"https://cran.r-project.org/logo.html\"\n",
       "\n",
       "[[2]]\n",
       "[1] \"https://cran.r-project.org/navbar.html\"\n",
       "\n",
       "[[3]]\n",
       "[1] \"https://cran.r-project.org/banner.shtml\"\n"
      ]
     },
     "metadata": {},
     "output_type": "display_data"
    }
   ],
   "source": [
    "sapply(webElems, function(x){x$getElementAttribute(\"src\")})"
   ]
  },
  {
   "cell_type": "code",
   "execution_count": 192,
   "metadata": {
    "ExecuteTime": {
     "end_time": "2019-09-24T15:04:56.818955Z",
     "start_time": "2019-09-24T15:04:56.779Z"
    }
   },
   "outputs": [],
   "source": [
    "remDr$switchToFrame(webElems[[2]])"
   ]
  },
  {
   "cell_type": "code",
   "execution_count": null,
   "metadata": {},
   "outputs": [],
   "source": []
  },
  {
   "cell_type": "code",
   "execution_count": 193,
   "metadata": {
    "ExecuteTime": {
     "end_time": "2019-09-24T15:04:57.381200Z",
     "start_time": "2019-09-24T15:04:57.249Z"
    }
   },
   "outputs": [],
   "source": [
    "remDr$screenshot(display = TRUE)"
   ]
  },
  {
   "cell_type": "code",
   "execution_count": 194,
   "metadata": {
    "ExecuteTime": {
     "end_time": "2019-09-24T15:05:01.575255Z",
     "start_time": "2019-09-24T15:05:01.529Z"
    }
   },
   "outputs": [
    {
     "data": {
      "text/plain": [
       "<!DOCTYPE html PUBLIC \"-//W3C//DTD HTML 4.01 Transitional//EN\" \"http://www.w3.org/TR/html4/loose.dtd\">\n",
       "<html xmlns=\"http://www.w3.org/1999/xhtml\">\n",
       "<head>\n",
       "<title>R Contents</title>\n",
       "<meta content=\"text/html; charset=utf-8\" http-equiv=\"content-type\">\n",
       "<link href=\"R.css\" type=\"text/css\" rel=\"stylesheet\">\n",
       "</head>\n",
       "<body>\n",
       "\n",
       "<em class=\"navigation\">CRAN</em><br><a target=\"banner\" href=\"mirrors.html\">Mirrors</a><br><a target=\"banner\" href=\"//www.R-project.org/news.html\">What's new?</a><br><a target=\"banner\" href=\"web/views/\">Task Views</a><br><a target=\"banner\" href=\"search.html\">Search</a><br><!--<a href=\"pkg_submit.html\" target=\"_top\">Submit</a><BR>--><p>\n",
       "<em class=\"navigation\">About R</em><br><a target=\"_top\" href=\"//www.R-project.org/\">R Homepage</a><br><a target=\"_top\" href=\"http://journal.R-project.org/\">The R Journal</a>\n",
       "\n",
       "</p>\n",
       "<p>\n",
       "<em class=\"navigation\">Software</em><br><a target=\"banner\" href=\"sources.html\">R Sources</a><br><a target=\"banner\" href=\"bin/\">R Binaries</a><br><a target=\"banner\" href=\"web/packages/index.html\">Packages</a><br><a target=\"banner\" href=\"other-software.html\">Other</a>\n",
       "\n",
       "</p>\n",
       "<p>\n",
       "<em class=\"navigation\">Documentation</em><br><a target=\"banner\" href=\"manuals.html\">Manuals</a><br><a target=\"banner\" href=\"faqs.html\">FAQs</a><br><a target=\"banner\" href=\"other-docs.html\">Contributed</a><br></p>\n",
       "</body>\n",
       "</html>\n",
       " "
      ]
     },
     "metadata": {},
     "output_type": "display_data"
    }
   ],
   "source": [
    "XML::htmlParse(remDr$getPageSource()[[1]])"
   ]
  },
  {
   "cell_type": "code",
   "execution_count": 195,
   "metadata": {
    "ExecuteTime": {
     "end_time": "2019-09-24T15:05:29.663613Z",
     "start_time": "2019-09-24T15:05:29.433Z"
    }
   },
   "outputs": [
    {
     "data": {
      "text/html": [
       "<ol>\n",
       "\t<li>'https://cran.r-project.org/R.css'</li>\n",
       "\t<li>'https://cran.r-project.org/mirrors.html'</li>\n",
       "\t<li>'https://www.r-project.org/news.html'</li>\n",
       "\t<li>'https://cran.r-project.org/web/views/'</li>\n",
       "\t<li>'https://cran.r-project.org/search.html'</li>\n",
       "\t<li>'https://www.r-project.org/'</li>\n",
       "\t<li>'http://journal.r-project.org/'</li>\n",
       "\t<li>'https://cran.r-project.org/sources.html'</li>\n",
       "\t<li>'https://cran.r-project.org/bin/'</li>\n",
       "\t<li>'https://cran.r-project.org/web/packages/index.html'</li>\n",
       "\t<li>'https://cran.r-project.org/other-software.html'</li>\n",
       "\t<li>'https://cran.r-project.org/manuals.html'</li>\n",
       "\t<li>'https://cran.r-project.org/faqs.html'</li>\n",
       "\t<li>'https://cran.r-project.org/other-docs.html'</li>\n",
       "</ol>\n"
      ],
      "text/latex": [
       "\\begin{enumerate}\n",
       "\\item 'https://cran.r-project.org/R.css'\n",
       "\\item 'https://cran.r-project.org/mirrors.html'\n",
       "\\item 'https://www.r-project.org/news.html'\n",
       "\\item 'https://cran.r-project.org/web/views/'\n",
       "\\item 'https://cran.r-project.org/search.html'\n",
       "\\item 'https://www.r-project.org/'\n",
       "\\item 'http://journal.r-project.org/'\n",
       "\\item 'https://cran.r-project.org/sources.html'\n",
       "\\item 'https://cran.r-project.org/bin/'\n",
       "\\item 'https://cran.r-project.org/web/packages/index.html'\n",
       "\\item 'https://cran.r-project.org/other-software.html'\n",
       "\\item 'https://cran.r-project.org/manuals.html'\n",
       "\\item 'https://cran.r-project.org/faqs.html'\n",
       "\\item 'https://cran.r-project.org/other-docs.html'\n",
       "\\end{enumerate}\n"
      ],
      "text/markdown": [
       "1. 'https://cran.r-project.org/R.css'\n",
       "2. 'https://cran.r-project.org/mirrors.html'\n",
       "3. 'https://www.r-project.org/news.html'\n",
       "4. 'https://cran.r-project.org/web/views/'\n",
       "5. 'https://cran.r-project.org/search.html'\n",
       "6. 'https://www.r-project.org/'\n",
       "7. 'http://journal.r-project.org/'\n",
       "8. 'https://cran.r-project.org/sources.html'\n",
       "9. 'https://cran.r-project.org/bin/'\n",
       "10. 'https://cran.r-project.org/web/packages/index.html'\n",
       "11. 'https://cran.r-project.org/other-software.html'\n",
       "12. 'https://cran.r-project.org/manuals.html'\n",
       "13. 'https://cran.r-project.org/faqs.html'\n",
       "14. 'https://cran.r-project.org/other-docs.html'\n",
       "\n",
       "\n"
      ],
      "text/plain": [
       "[[1]]\n",
       "[1] \"https://cran.r-project.org/R.css\"\n",
       "\n",
       "[[2]]\n",
       "[1] \"https://cran.r-project.org/mirrors.html\"\n",
       "\n",
       "[[3]]\n",
       "[1] \"https://www.r-project.org/news.html\"\n",
       "\n",
       "[[4]]\n",
       "[1] \"https://cran.r-project.org/web/views/\"\n",
       "\n",
       "[[5]]\n",
       "[1] \"https://cran.r-project.org/search.html\"\n",
       "\n",
       "[[6]]\n",
       "[1] \"https://www.r-project.org/\"\n",
       "\n",
       "[[7]]\n",
       "[1] \"http://journal.r-project.org/\"\n",
       "\n",
       "[[8]]\n",
       "[1] \"https://cran.r-project.org/sources.html\"\n",
       "\n",
       "[[9]]\n",
       "[1] \"https://cran.r-project.org/bin/\"\n",
       "\n",
       "[[10]]\n",
       "[1] \"https://cran.r-project.org/web/packages/index.html\"\n",
       "\n",
       "[[11]]\n",
       "[1] \"https://cran.r-project.org/other-software.html\"\n",
       "\n",
       "[[12]]\n",
       "[1] \"https://cran.r-project.org/manuals.html\"\n",
       "\n",
       "[[13]]\n",
       "[1] \"https://cran.r-project.org/faqs.html\"\n",
       "\n",
       "[[14]]\n",
       "[1] \"https://cran.r-project.org/other-docs.html\"\n"
      ]
     },
     "metadata": {},
     "output_type": "display_data"
    }
   ],
   "source": [
    "webElems <- remDr$findElements(\"css\", \"[href]\")\n",
    "sapply(webElems, function(x){x$getElementAttribute(\"href\")})"
   ]
  },
  {
   "cell_type": "code",
   "execution_count": 196,
   "metadata": {
    "ExecuteTime": {
     "end_time": "2019-09-24T15:05:46.180061Z",
     "start_time": "2019-09-24T15:05:46.021Z"
    }
   },
   "outputs": [
    {
     "data": {
      "text/html": [
       "<ol class=list-inline>\n",
       "\t<li>'https://cran.r-project.org/R.css'</li>\n",
       "\t<li>'https://cran.r-project.org/mirrors.html'</li>\n",
       "\t<li>'https://www.r-project.org/news.html'</li>\n",
       "\t<li>'https://cran.r-project.org/web/views/'</li>\n",
       "\t<li>'https://cran.r-project.org/search.html'</li>\n",
       "\t<li>'https://www.r-project.org/'</li>\n",
       "\t<li>'http://journal.r-project.org/'</li>\n",
       "\t<li>'https://cran.r-project.org/sources.html'</li>\n",
       "\t<li>'https://cran.r-project.org/bin/'</li>\n",
       "\t<li>'https://cran.r-project.org/web/packages/index.html'</li>\n",
       "\t<li>'https://cran.r-project.org/other-software.html'</li>\n",
       "\t<li>'https://cran.r-project.org/manuals.html'</li>\n",
       "\t<li>'https://cran.r-project.org/faqs.html'</li>\n",
       "\t<li>'https://cran.r-project.org/other-docs.html'</li>\n",
       "</ol>\n"
      ],
      "text/latex": [
       "\\begin{enumerate*}\n",
       "\\item 'https://cran.r-project.org/R.css'\n",
       "\\item 'https://cran.r-project.org/mirrors.html'\n",
       "\\item 'https://www.r-project.org/news.html'\n",
       "\\item 'https://cran.r-project.org/web/views/'\n",
       "\\item 'https://cran.r-project.org/search.html'\n",
       "\\item 'https://www.r-project.org/'\n",
       "\\item 'http://journal.r-project.org/'\n",
       "\\item 'https://cran.r-project.org/sources.html'\n",
       "\\item 'https://cran.r-project.org/bin/'\n",
       "\\item 'https://cran.r-project.org/web/packages/index.html'\n",
       "\\item 'https://cran.r-project.org/other-software.html'\n",
       "\\item 'https://cran.r-project.org/manuals.html'\n",
       "\\item 'https://cran.r-project.org/faqs.html'\n",
       "\\item 'https://cran.r-project.org/other-docs.html'\n",
       "\\end{enumerate*}\n"
      ],
      "text/markdown": [
       "1. 'https://cran.r-project.org/R.css'\n",
       "2. 'https://cran.r-project.org/mirrors.html'\n",
       "3. 'https://www.r-project.org/news.html'\n",
       "4. 'https://cran.r-project.org/web/views/'\n",
       "5. 'https://cran.r-project.org/search.html'\n",
       "6. 'https://www.r-project.org/'\n",
       "7. 'http://journal.r-project.org/'\n",
       "8. 'https://cran.r-project.org/sources.html'\n",
       "9. 'https://cran.r-project.org/bin/'\n",
       "10. 'https://cran.r-project.org/web/packages/index.html'\n",
       "11. 'https://cran.r-project.org/other-software.html'\n",
       "12. 'https://cran.r-project.org/manuals.html'\n",
       "13. 'https://cran.r-project.org/faqs.html'\n",
       "14. 'https://cran.r-project.org/other-docs.html'\n",
       "\n",
       "\n"
      ],
      "text/plain": [
       " [1] \"https://cran.r-project.org/R.css\"                  \n",
       " [2] \"https://cran.r-project.org/mirrors.html\"           \n",
       " [3] \"https://www.r-project.org/news.html\"               \n",
       " [4] \"https://cran.r-project.org/web/views/\"             \n",
       " [5] \"https://cran.r-project.org/search.html\"            \n",
       " [6] \"https://www.r-project.org/\"                        \n",
       " [7] \"http://journal.r-project.org/\"                     \n",
       " [8] \"https://cran.r-project.org/sources.html\"           \n",
       " [9] \"https://cran.r-project.org/bin/\"                   \n",
       "[10] \"https://cran.r-project.org/web/packages/index.html\"\n",
       "[11] \"https://cran.r-project.org/other-software.html\"    \n",
       "[12] \"https://cran.r-project.org/manuals.html\"           \n",
       "[13] \"https://cran.r-project.org/faqs.html\"              \n",
       "[14] \"https://cran.r-project.org/other-docs.html\"        "
      ]
     },
     "metadata": {},
     "output_type": "display_data"
    }
   ],
   "source": [
    "unlist(sapply(webElems, function(x){x$getElementAttribute(\"href\")}))"
   ]
  },
  {
   "cell_type": "code",
   "execution_count": 200,
   "metadata": {
    "ExecuteTime": {
     "end_time": "2019-09-24T15:12:12.833804Z",
     "start_time": "2019-09-24T15:12:12.770Z"
    }
   },
   "outputs": [
    {
     "data": {
      "text/plain": [
       "<!DOCTYPE html PUBLIC \"-//W3C//DTD HTML 4.01 Frameset//EN\" \"http://www.w3.org/TR/html4/frameset.dtd\">\n",
       "<html xmlns=\"http://www.w3.org/1999/xhtml\">\n",
       "<head>\n",
       "<title>The Comprehensive R Archive Network</title>\n",
       "<meta content=\"text/html; charset=utf-8\" http-equiv=\"content-type\">\n",
       "<link type=\"image/x-icon\" href=\"favicon.ico\" rel=\"icon\">\n",
       "<link type=\"image/x-icon\" href=\"favicon.ico\" rel=\"shortcut icon\">\n",
       "<link href=\"R.css\" type=\"text/css\" rel=\"stylesheet\">\n",
       "</head>\n",
       "<frameset style=\"border: none;\" cols=\"1*, 4*\">\n",
       "<frameset rows=\"120, 1*\">\n",
       "<frame frameborder=\"0\" name=\"logo\" src=\"logo.html\">\n",
       "<frame frameborder=\"0\" name=\"contents\" src=\"navbar.html\">\n",
       "</frameset>\n",
       "<frame frameborder=\"0\" name=\"banner\" src=\"banner.shtml\">\n",
       "<noframes>\n",
       "&lt;h1&gt;The Comprehensive R Archive Network&lt;/h1&gt;\n",
       "\n",
       "Your browser seems not to support frames,\n",
       "here is the &lt;A href=\"navbar.html\"&gt;contents page&lt;/A&gt; of CRAN.\n",
       "</noframes>\n",
       "</frameset>\n",
       "<body><canvas id=\"fxdriver-screenshot-canvas\" style=\"display: none;\" width=\"1224\" height=\"847\"></canvas></body>\n",
       "</html>\n",
       " "
      ]
     },
     "metadata": {},
     "output_type": "display_data"
    }
   ],
   "source": [
    "remDr$switchToFrame(NULL) # NULLto move back to the default view.\n",
    "XML::htmlParse(remDr$getPageSource()[[1]])"
   ]
  },
  {
   "cell_type": "code",
   "execution_count": 201,
   "metadata": {
    "ExecuteTime": {
     "end_time": "2019-09-24T15:12:35.156125Z",
     "start_time": "2019-09-24T15:12:35.112Z"
    }
   },
   "outputs": [
    {
     "data": {
      "text/plain": [
       "<!DOCTYPE html PUBLIC \"-//IETF//DTD HTML//EN\">\n",
       "<html xmlns=\"http://www.w3.org/1999/xhtml\">\n",
       "<head>\n",
       "<title>The Comprehensive R Archive Network</title>\n",
       "<link href=\"R.css\" type=\"text/css\" rel=\"stylesheet\">\n",
       "</head>\n",
       "<body>\n",
       "\n",
       "<h1>The Comprehensive R Archive Network</h1>\n",
       "\n",
       "<div align=\"center\">\n",
       "<table border=\"1\" width=\"80%\"><tbody>\n",
       "<tr>\n",
       "<td>\n",
       "<h3>Download and Install R</h3>\n",
       "      Precompiled binary distributions of the base system and\n",
       "      contributed packages, <strong>Windows and\n",
       "      Mac</strong> users most likely want one of these versions of R:\n",
       "\t<ul>\n",
       "<li><a href=\"bin/linux/\">Download R for Linux</a></li>\n",
       "\t  <li>\n",
       "<a href=\"bin/macosx/\">Download R for (Mac) OS X</a>\n",
       "\t  </li>\n",
       "<li><a href=\"bin/windows/\">Download R for Windows</a></li>\n",
       "\t</ul>\n",
       "    R is part of many Linux distributions, you should check with your Linux package management system in addition to the link above.\n",
       "    </td>\n",
       "  </tr>\n",
       "<tr>\n",
       "<td>\n",
       "<h3>Source Code for all Platforms</h3>\n",
       "      Windows and Mac users most likely want to download the\n",
       "      precompiled binaries listed in the upper box, not the source\n",
       "      code. The sources have to be compiled before you can use\n",
       "      them. If you do not know what this means, you probably do not\n",
       "      want to do it!\n",
       "\t<ul>\n",
       "<li>The latest release (2019-07-05, Action of the Toes)\n",
       "\t      <a href=\"src/base/R-3/R-3.6.1.tar.gz\">R-3.6.1.tar.gz</a>, read\n",
       "\t      <a href=\"doc/manuals/r-release/NEWS.html\">what's new</a> in the latest\n",
       "\t      version.<p>\n",
       " \t  </p>\n",
       "</li>\n",
       "<li>Sources of\n",
       "\t  <a href=\"src/base-prerelease/\">R alpha and beta releases</a>\n",
       "\t  (daily snapshots, created only in time periods before a planned release).</li>\n",
       "\t  <p>\n",
       "\t  </p>\n",
       "<li>Daily snapshots of current patched and development\n",
       "              versions are \n",
       "\t      <a target=\"_blank\" href=\"https://stat.ethz.ch/R/daily\">available\n",
       "here</a>. Please read about <a href=\"doc/manuals/r-devel/NEWS.html\">new features and bug\n",
       "fixes</a> before filing corresponding feature requests or bug reports.</li>\n",
       "<p>\n",
       "\t  </p>\n",
       "<li>Source code of \n",
       "\t  older versions of R is <a href=\"src/base/\">available here</a>.<p>\n",
       "\t  \t  </p>\n",
       "</li>\n",
       "<li>Contributed extension\n",
       "\t  <a href=\"web/packages/index.html\">packages</a>\n",
       "\n",
       "\t</li>\n",
       "</ul>\n",
       "</td>\n",
       "  </tr>\n",
       "<tr>\n",
       "<td>\n",
       "<h3>Questions About R</h3>\n",
       "      <ul><li>\n",
       "      If you have questions about R like how to download and install\n",
       "      the software, or what the license terms are,\n",
       "      please read our <a href=\"faqs.html\">answers to frequently asked\n",
       "      questions</a> before you send an email.\n",
       "\t</li></ul>\n",
       "</td>\n",
       "  </tr>\n",
       "</tbody></table>\n",
       "</div>\n",
       "\n",
       "<h2>What are R and CRAN?</h2>\n",
       "\n",
       "<p> R is âGNU Sâ, a freely available language and environment for\n",
       "statistical computing and graphics which provides a wide variety of\n",
       "statistical and graphical techniques: linear and nonlinear modelling,\n",
       "statistical tests, time series analysis, classification, clustering,\n",
       "etc. Please consult the <a target=\"_top\" href=\"https://www.R-project.org/\">R project homepage</a> for further information.\n",
       "</p>\n",
       "\n",
       "<p> CRAN is a network of ftp and web servers around the world that\n",
       "store identical, up-to-date, versions of code and documentation for\n",
       "R. Please use the CRAN <a href=\"mirrors.html\">mirror</a> nearest to you to minimize network\n",
       "load.\n",
       "</p>\n",
       "\n",
       "<h2 id=\"submitting\">Submitting to CRAN </h2>\n",
       "\n",
       "<!--<p> \n",
       " <font color=\"#FF0000\">CRAN submission will be offline from Aug 09, 2019 to Aug 18, 2019\n",
       " (CRAN team vacation and maintainance work)</font>.\n",
       " </p>-->\n",
       "\n",
       "<!--<p> \n",
       " <font color=\"#FF0000\">Note that submission is possible but submissions will not be auto-processed from Feb 22 to Feb 24, 2019\n",
       " due to infrastructure work.</font>.\n",
       " </p>-->\n",
       "\n",
       "\n",
       "<p>\n",
       "To âsubmitâ a package to CRAN,\n",
       "check that your submission meets the\n",
       "<a href=\"https://CRAN.R-project.org/web/packages/policies.html\">CRAN\n",
       "  Repository Policy</a> and then use the\n",
       "<!--<a href=\"submit.html.vacation\">-->\n",
       "<a href=\"https://xmpalantir.wu.ac.at/cransubmit/\">\n",
       "web form</a>.\n",
       "</p>\n",
       "\n",
       "<p>\n",
       "If this fails, upload to\n",
       "<a target=\"_blank\" href=\"ftp://CRAN.R-project.org/incoming/\">ftp://CRAN.R-project.org/incoming/</a>\n",
       "and send an email to\n",
       "<a href=\"mailto:CRAN-submissions@R-project.org\">CRAN-submissions@R-project.org</a> following the policy.\n",
       "Please do not attach submissions to emails, because this will clutter up\n",
       "the mailboxes of half a dozen people.\n",
       "</p>\n",
       "\n",
       "<p>\n",
       "Note that we generally do not accept submissions of precompiled\n",
       "binaries due to security reasons. All binary distribution listed above\n",
       "are compiled by selected maintainers, who are in charge for all\n",
       "binaries of their platform, respectively.\n",
       "</p>\n",
       "\n",
       "<p>\n",
       "</p>\n",
       "<hr>\n",
       "<p>\n",
       "For queries about this web site, please contact \n",
       "<a href=\"mailto:cran-sysadmin@r-project.org\">the webmaster</a>.\n",
       "</p>\n",
       "<!--#if expr=\"$CRAN_HOST\" -->\n",
       "  <!--#echo  encoding=\"none\" var=\"CRAN_HOST\"--><br><!--#endif -->\n",
       "</body>\n",
       "</html>\n",
       " "
      ]
     },
     "metadata": {},
     "output_type": "display_data"
    }
   ],
   "source": [
    "remDr$switchToFrame(\"banner\")\n",
    "XML::htmlParse(remDr$getPageSource()[[1]])"
   ]
  },
  {
   "cell_type": "markdown",
   "metadata": {},
   "source": [
    "#### Windows in Selenium"
   ]
  },
  {
   "cell_type": "code",
   "execution_count": 227,
   "metadata": {
    "ExecuteTime": {
     "end_time": "2019-09-25T09:09:19.121609Z",
     "start_time": "2019-09-25T09:09:18.123Z"
    }
   },
   "outputs": [
    {
     "data": {
      "text/html": [
       "<ol>\n",
       "\t<li>'Download R for Linux'</li>\n",
       "\t<li>'Download R for (Mac) OS X'</li>\n",
       "\t<li>'Download R for Windows'</li>\n",
       "</ol>\n"
      ],
      "text/latex": [
       "\\begin{enumerate}\n",
       "\\item 'Download R for Linux'\n",
       "\\item 'Download R for (Mac) OS X'\n",
       "\\item 'Download R for Windows'\n",
       "\\end{enumerate}\n"
      ],
      "text/markdown": [
       "1. 'Download R for Linux'\n",
       "2. 'Download R for (Mac) OS X'\n",
       "3. 'Download R for Windows'\n",
       "\n",
       "\n"
      ],
      "text/plain": [
       "[[1]]\n",
       "[1] \"Download R for Linux\"\n",
       "\n",
       "[[2]]\n",
       "[1] \"Download R for (Mac) OS X\"\n",
       "\n",
       "[[3]]\n",
       "[1] \"Download R for Windows\"\n"
      ]
     },
     "metadata": {},
     "output_type": "display_data"
    }
   ],
   "source": [
    "remDr$navigate(\"https://cran.r-project.org/\")\n",
    "remDr$switchToFrame(\"banner\")\n",
    "webElems <- remDr$findElements(\"partial link text\", \"Download R\")\n",
    "sapply(webElems, function(x) x$getElementText())"
   ]
  },
  {
   "cell_type": "code",
   "execution_count": 228,
   "metadata": {
    "ExecuteTime": {
     "end_time": "2019-09-25T09:09:21.720342Z",
     "start_time": "2019-09-25T09:09:21.673Z"
    }
   },
   "outputs": [
    {
     "data": {
      "text/html": [
       "<dl>\n",
       "\t<dt>$x</dt>\n",
       "\t\t<dd>131</dd>\n",
       "\t<dt>$y</dt>\n",
       "\t\t<dd>151</dd>\n",
       "</dl>\n"
      ],
      "text/latex": [
       "\\begin{description}\n",
       "\\item[\\$x] 131\n",
       "\\item[\\$y] 151\n",
       "\\end{description}\n"
      ],
      "text/markdown": [
       "$x\n",
       ":   131\n",
       "$y\n",
       ":   151\n",
       "\n",
       "\n"
      ],
      "text/plain": [
       "$x\n",
       "[1] 131\n",
       "\n",
       "$y\n",
       "[1] 151\n"
      ]
     },
     "metadata": {},
     "output_type": "display_data"
    }
   ],
   "source": [
    "loc <- webElems[[1]]$getElementLocation()\n",
    "loc[c('x','y')]"
   ]
  },
  {
   "cell_type": "code",
   "execution_count": 229,
   "metadata": {
    "ExecuteTime": {
     "end_time": "2019-09-25T09:09:22.724813Z",
     "start_time": "2019-09-25T09:09:22.694Z"
    }
   },
   "outputs": [
    {
     "data": {
      "text/html": [
       "<dl>\n",
       "\t<dt>$x</dt>\n",
       "\t\t<dd>131</dd>\n",
       "\t<dt>$y</dt>\n",
       "\t\t<dd>151</dd>\n",
       "\t<dt>$hCode</dt>\n",
       "\t\t<dd>1048</dd>\n",
       "\t<dt>$class</dt>\n",
       "\t\t<dd>'org.openqa.selenium.Point'</dd>\n",
       "</dl>\n"
      ],
      "text/latex": [
       "\\begin{description}\n",
       "\\item[\\$x] 131\n",
       "\\item[\\$y] 151\n",
       "\\item[\\$hCode] 1048\n",
       "\\item[\\$class] 'org.openqa.selenium.Point'\n",
       "\\end{description}\n"
      ],
      "text/markdown": [
       "$x\n",
       ":   131\n",
       "$y\n",
       ":   151\n",
       "$hCode\n",
       ":   1048\n",
       "$class\n",
       ":   'org.openqa.selenium.Point'\n",
       "\n",
       "\n"
      ],
      "text/plain": [
       "$x\n",
       "[1] 131\n",
       "\n",
       "$y\n",
       "[1] 151\n",
       "\n",
       "$hCode\n",
       "[1] 1048\n",
       "\n",
       "$class\n",
       "[1] \"org.openqa.selenium.Point\"\n"
      ]
     },
     "metadata": {},
     "output_type": "display_data"
    }
   ],
   "source": [
    "loc"
   ]
  },
  {
   "cell_type": "code",
   "execution_count": 230,
   "metadata": {
    "ExecuteTime": {
     "end_time": "2019-09-25T09:09:24.761064Z",
     "start_time": "2019-09-25T09:09:24.512Z"
    }
   },
   "outputs": [],
   "source": [
    "remDr$mouseMoveToLocation(webElement = webElems[[1]]) # move mouse to the element we selected\n",
    "remDr$click(2) # 2 indicates click the right mouse button\n",
    "remDr$sendKeysToActiveElement(\n",
    "  list(key = 'down_arrow', key = 'down_arrow', key = 'enter')\n",
    ")\n"
   ]
  },
  {
   "cell_type": "code",
   "execution_count": 217,
   "metadata": {
    "ExecuteTime": {
     "end_time": "2019-09-24T15:20:22.659709Z",
     "start_time": "2019-09-24T15:20:22.556Z"
    }
   },
   "outputs": [],
   "source": [
    "remDr$screenshot(display = TRUE)"
   ]
  },
  {
   "cell_type": "code",
   "execution_count": 231,
   "metadata": {
    "ExecuteTime": {
     "end_time": "2019-09-25T09:09:29.469061Z",
     "start_time": "2019-09-25T09:09:29.431Z"
    }
   },
   "outputs": [
    {
     "data": {
      "text/html": [
       "<ol>\n",
       "\t<li>'{fe387a1d-08ce-48b6-907c-eacd99058aa9}'</li>\n",
       "</ol>\n"
      ],
      "text/latex": [
       "\\begin{enumerate}\n",
       "\\item '\\{fe387a1d-08ce-48b6-907c-eacd99058aa9\\}'\n",
       "\\end{enumerate}\n"
      ],
      "text/markdown": [
       "1. '{fe387a1d-08ce-48b6-907c-eacd99058aa9}'\n",
       "\n",
       "\n"
      ],
      "text/plain": [
       "[[1]]\n",
       "[1] \"{fe387a1d-08ce-48b6-907c-eacd99058aa9}\"\n"
      ]
     },
     "metadata": {},
     "output_type": "display_data"
    }
   ],
   "source": [
    "remDr$getCurrentWindowHandle()"
   ]
  },
  {
   "cell_type": "code",
   "execution_count": 232,
   "metadata": {
    "ExecuteTime": {
     "end_time": "2019-09-25T09:09:30.102069Z",
     "start_time": "2019-09-25T09:09:30.077Z"
    }
   },
   "outputs": [
    {
     "data": {
      "text/html": [
       "<ol>\n",
       "\t<li>'{fe387a1d-08ce-48b6-907c-eacd99058aa9}'</li>\n",
       "\t<li>'{019df0c7-1d60-47c4-a62b-58f4a0972ab0}'</li>\n",
       "</ol>\n"
      ],
      "text/latex": [
       "\\begin{enumerate}\n",
       "\\item '\\{fe387a1d-08ce-48b6-907c-eacd99058aa9\\}'\n",
       "\\item '\\{019df0c7-1d60-47c4-a62b-58f4a0972ab0\\}'\n",
       "\\end{enumerate}\n"
      ],
      "text/markdown": [
       "1. '{fe387a1d-08ce-48b6-907c-eacd99058aa9}'\n",
       "2. '{019df0c7-1d60-47c4-a62b-58f4a0972ab0}'\n",
       "\n",
       "\n"
      ],
      "text/plain": [
       "[[1]]\n",
       "[1] \"{fe387a1d-08ce-48b6-907c-eacd99058aa9}\"\n",
       "\n",
       "[[2]]\n",
       "[1] \"{019df0c7-1d60-47c4-a62b-58f4a0972ab0}\"\n"
      ]
     },
     "metadata": {},
     "output_type": "display_data"
    }
   ],
   "source": [
    "remDr$getWindowHandles()"
   ]
  },
  {
   "cell_type": "code",
   "execution_count": 233,
   "metadata": {
    "ExecuteTime": {
     "end_time": "2019-09-25T09:09:31.619871Z",
     "start_time": "2019-09-25T09:09:31.593Z"
    }
   },
   "outputs": [
    {
     "data": {
      "text/html": [
       "<ol>\n",
       "\t<li>'The Comprehensive R Archive Network'</li>\n",
       "</ol>\n"
      ],
      "text/latex": [
       "\\begin{enumerate}\n",
       "\\item 'The Comprehensive R Archive Network'\n",
       "\\end{enumerate}\n"
      ],
      "text/markdown": [
       "1. 'The Comprehensive R Archive Network'\n",
       "\n",
       "\n"
      ],
      "text/plain": [
       "[[1]]\n",
       "[1] \"The Comprehensive R Archive Network\"\n"
      ]
     },
     "metadata": {},
     "output_type": "display_data"
    }
   ],
   "source": [
    "remDr$getTitle()"
   ]
  },
  {
   "cell_type": "code",
   "execution_count": 234,
   "metadata": {
    "ExecuteTime": {
     "end_time": "2019-09-25T09:09:33.267844Z",
     "start_time": "2019-09-25T09:09:33.223Z"
    }
   },
   "outputs": [
    {
     "data": {
      "text/html": [
       "<ol>\n",
       "\t<li>'{fe387a1d-08ce-48b6-907c-eacd99058aa9}'</li>\n",
       "</ol>\n"
      ],
      "text/latex": [
       "\\begin{enumerate}\n",
       "\\item '\\{fe387a1d-08ce-48b6-907c-eacd99058aa9\\}'\n",
       "\\end{enumerate}\n"
      ],
      "text/markdown": [
       "1. '{fe387a1d-08ce-48b6-907c-eacd99058aa9}'\n",
       "\n",
       "\n"
      ],
      "text/plain": [
       "[[1]]\n",
       "[1] \"{fe387a1d-08ce-48b6-907c-eacd99058aa9}\"\n"
      ]
     },
     "metadata": {},
     "output_type": "display_data"
    }
   ],
   "source": [
    "currWin <- remDr$getCurrentWindowHandle()\n",
    "currWin"
   ]
  },
  {
   "cell_type": "code",
   "execution_count": 235,
   "metadata": {
    "ExecuteTime": {
     "end_time": "2019-09-25T09:09:34.366496Z",
     "start_time": "2019-09-25T09:09:34.324Z"
    }
   },
   "outputs": [
    {
     "data": {
      "text/html": [
       "<ol class=list-inline>\n",
       "\t<li>'{fe387a1d-08ce-48b6-907c-eacd99058aa9}'</li>\n",
       "\t<li>'{019df0c7-1d60-47c4-a62b-58f4a0972ab0}'</li>\n",
       "</ol>\n"
      ],
      "text/latex": [
       "\\begin{enumerate*}\n",
       "\\item '\\{fe387a1d-08ce-48b6-907c-eacd99058aa9\\}'\n",
       "\\item '\\{019df0c7-1d60-47c4-a62b-58f4a0972ab0\\}'\n",
       "\\end{enumerate*}\n"
      ],
      "text/markdown": [
       "1. '{fe387a1d-08ce-48b6-907c-eacd99058aa9}'\n",
       "2. '{019df0c7-1d60-47c4-a62b-58f4a0972ab0}'\n",
       "\n",
       "\n"
      ],
      "text/plain": [
       "[1] \"{fe387a1d-08ce-48b6-907c-eacd99058aa9}\"\n",
       "[2] \"{019df0c7-1d60-47c4-a62b-58f4a0972ab0}\""
      ]
     },
     "metadata": {},
     "output_type": "display_data"
    }
   ],
   "source": [
    "allWins <- unlist(remDr$getWindowHandles())\n",
    "allWins"
   ]
  },
  {
   "cell_type": "code",
   "execution_count": 236,
   "metadata": {
    "ExecuteTime": {
     "end_time": "2019-09-25T09:09:35.199406Z",
     "start_time": "2019-09-25T09:09:35.172Z"
    }
   },
   "outputs": [
    {
     "data": {
      "text/html": [
       "'{019df0c7-1d60-47c4-a62b-58f4a0972ab0}'"
      ],
      "text/latex": [
       "'\\{019df0c7-1d60-47c4-a62b-58f4a0972ab0\\}'"
      ],
      "text/markdown": [
       "'{019df0c7-1d60-47c4-a62b-58f4a0972ab0}'"
      ],
      "text/plain": [
       "[1] \"{019df0c7-1d60-47c4-a62b-58f4a0972ab0}\""
      ]
     },
     "metadata": {},
     "output_type": "display_data"
    }
   ],
   "source": [
    "otherWindow <- allWins[!allWins %in% currWin[[1]]]\n",
    "otherWindow"
   ]
  },
  {
   "cell_type": "code",
   "execution_count": 237,
   "metadata": {
    "ExecuteTime": {
     "end_time": "2019-09-25T09:09:36.612708Z",
     "start_time": "2019-09-25T09:09:36.573Z"
    }
   },
   "outputs": [
    {
     "data": {
      "text/html": [
       "<ol>\n",
       "\t<li>'Index of /bin/linux'</li>\n",
       "</ol>\n"
      ],
      "text/latex": [
       "\\begin{enumerate}\n",
       "\\item 'Index of /bin/linux'\n",
       "\\end{enumerate}\n"
      ],
      "text/markdown": [
       "1. 'Index of /bin/linux'\n",
       "\n",
       "\n"
      ],
      "text/plain": [
       "[[1]]\n",
       "[1] \"Index of /bin/linux\"\n"
      ]
     },
     "metadata": {},
     "output_type": "display_data"
    }
   ],
   "source": [
    "remDr$switchToWindow(otherWindow)\n",
    "remDr$getTitle()"
   ]
  },
  {
   "cell_type": "markdown",
   "metadata": {},
   "source": [
    "### [Connect VNC](http://ropensci.github.io/RSelenium/articles/docker.html)\n",
    "\n",
    "sudo docker run -d -p 4445:4444 -p 5901:5900 selenium/standalone-firefox-debug:2.53.0\n",
    "\n",
    "sudo docker ps \n",
    "\n",
    "Now open Vinagre and input the correct ip/port (127.0.0.1:5901 in this case):\n",
    "\n",
    "remDr$close()\n",
    "\n",
    "sudo docker stop $(sudo docker ps -q)"
   ]
  },
  {
   "cell_type": "markdown",
   "metadata": {},
   "source": [
    "It’s important to be watching TightVNC as you use the …$\\$ $highlightElement() in-between your …$\\$ $findElement() and …$\\$ $switchToFrame()/…$\\$ $clickElement() commands so that you actually know your selecting the appropriate things!\n",
    "\n"
   ]
  },
  {
   "cell_type": "code",
   "execution_count": null,
   "metadata": {
    "ExecuteTime": {
     "end_time": "2019-09-24T15:26:34.908418Z",
     "start_time": "2019-09-24T15:26:33.227Z"
    }
   },
   "outputs": [],
   "source": [
    "library(RSelenium)\n",
    "remDr <- remoteDriver(\n",
    "  remoteServerAddr = \"localhost\",\n",
    "  port = 4445L\n",
    ")"
   ]
  },
  {
   "cell_type": "code",
   "execution_count": 223,
   "metadata": {
    "ExecuteTime": {
     "end_time": "2019-09-24T15:28:06.060512Z",
     "start_time": "2019-09-24T15:27:36.302Z"
    }
   },
   "outputs": [
    {
     "data": {
      "text/html": [
       "<ol>\n",
       "\t<li>'Puzzled Pint :: standings'</li>\n",
       "</ol>\n"
      ],
      "text/latex": [
       "\\begin{enumerate}\n",
       "\\item 'Puzzled Pint :: standings'\n",
       "\\end{enumerate}\n"
      ],
      "text/markdown": [
       "1. 'Puzzled Pint :: standings'\n",
       "\n",
       "\n"
      ],
      "text/plain": [
       "[[1]]\n",
       "[1] \"Puzzled Pint :: standings\"\n"
      ]
     },
     "metadata": {},
     "output_type": "display_data"
    }
   ],
   "source": [
    "# navigate to the website of interest\n",
    "remDr$navigate(\"http://www.puzzledpint.com/standings/\")\n",
    "# confirm you got there\n",
    "remDr$getTitle()"
   ]
  },
  {
   "cell_type": "code",
   "execution_count": 224,
   "metadata": {
    "ExecuteTime": {
     "end_time": "2019-09-24T15:28:12.436702Z",
     "start_time": "2019-09-24T15:28:09.907Z"
    }
   },
   "outputs": [],
   "source": [
    "remDr$screenshot(display = TRUE)"
   ]
  },
  {
   "cell_type": "code",
   "execution_count": 2,
   "metadata": {
    "ExecuteTime": {
     "end_time": "2019-09-25T09:19:57.859879Z",
     "start_time": "2019-09-25T09:19:48.537Z"
    }
   },
   "outputs": [
    {
     "data": {
      "text/html": [
       "<ol>\n",
       "\t<li>'Google'</li>\n",
       "</ol>\n"
      ],
      "text/latex": [
       "\\begin{enumerate}\n",
       "\\item 'Google'\n",
       "\\end{enumerate}\n"
      ],
      "text/markdown": [
       "1. 'Google'\n",
       "\n",
       "\n"
      ],
      "text/plain": [
       "[[1]]\n",
       "[1] \"Google\"\n"
      ]
     },
     "metadata": {},
     "output_type": "display_data"
    }
   ],
   "source": [
    "library(RSelenium)\n",
    "remDr <- remoteDriver(port = 4445L)\n",
    "remDr$open(silent = TRUE)\n",
    "remDr$navigate(\"http://www.google.com/ncr\")\n",
    "remDr$getTitle()"
   ]
  },
  {
   "cell_type": "markdown",
   "metadata": {},
   "source": [
    "Selector Gadget\n",
    "\n",
    "- https://selectorgadget.com/\n",
    "- https://cran.r-project.org/web/packages/rvest/vignettes/selectorgadget.html"
   ]
  },
  {
   "cell_type": "code",
   "execution_count": 3,
   "metadata": {
    "ExecuteTime": {
     "end_time": "2019-09-25T10:02:06.020667Z",
     "start_time": "2019-09-25T10:02:04.436Z"
    }
   },
   "outputs": [
    {
     "name": "stderr",
     "output_type": "stream",
     "text": [
      "Loading required package: xml2\n"
     ]
    }
   ],
   "source": [
    "library(rvest)\n",
    "#> Loading required package: xml2\n",
    "html <- read_html(\"http://zakupki.gov.ru/epz/main/public/home.html\")\n",
    "cast <- html_nodes(html, \".news__text_small\")"
   ]
  },
  {
   "cell_type": "code",
   "execution_count": 4,
   "metadata": {
    "ExecuteTime": {
     "end_time": "2019-09-25T10:02:11.641112Z",
     "start_time": "2019-09-25T10:02:11.625Z"
    }
   },
   "outputs": [
    {
     "data": {
      "text/html": [
       "3"
      ],
      "text/latex": [
       "3"
      ],
      "text/markdown": [
       "3"
      ],
      "text/plain": [
       "[1] 3"
      ]
     },
     "metadata": {},
     "output_type": "display_data"
    },
    {
     "data": {
      "text/plain": [
       "{xml_nodeset (2)}\n",
       "[1] <p class=\"news__text news__text_small\" onclick=\"location='/epz/main/publi ...\n",
       "[2] <p class=\"news__text news__text_small\" onclick=\"location='/epz/main/publi ..."
      ]
     },
     "metadata": {},
     "output_type": "display_data"
    }
   ],
   "source": [
    "length(cast)\n",
    "#> [1] 0\n",
    "cast[1:2]\n",
    "#> {xml_nodeset (0)}"
   ]
  },
  {
   "cell_type": "code",
   "execution_count": 12,
   "metadata": {
    "ExecuteTime": {
     "end_time": "2019-09-25T10:03:10.495208Z",
     "start_time": "2019-09-25T10:03:10.467Z"
    }
   },
   "outputs": [
    {
     "data": {
      "text/html": [
       "<ol class=list-inline>\n",
       "\t<li><span style=white-space:pre-wrap>'\\n\\n                                        Информация об обновлении версии программного обеспечения\\n                                    '</span></li>\n",
       "\t<li><span style=white-space:pre-wrap>'\\n\\n                                        Информация о проведении обновления ЕИС\\n                                    '</span></li>\n",
       "\t<li><span style=white-space:pre-wrap>'\\n\\n                                        Технические работы на портале esia.gosuslugi.ru\\n                                    '</span></li>\n",
       "</ol>\n"
      ],
      "text/latex": [
       "\\begin{enumerate*}\n",
       "\\item '\\textbackslash{}n\\textbackslash{}n                                        Информация об обновлении версии программного обеспечения\\textbackslash{}n                                    '\n",
       "\\item '\\textbackslash{}n\\textbackslash{}n                                        Информация о проведении обновления ЕИС\\textbackslash{}n                                    '\n",
       "\\item '\\textbackslash{}n\\textbackslash{}n                                        Технические работы на портале esia.gosuslugi.ru\\textbackslash{}n                                    '\n",
       "\\end{enumerate*}\n"
      ],
      "text/markdown": [
       "1. <span style=white-space:pre-wrap>'\\n\\n                                        Информация об обновлении версии программного обеспечения\\n                                    '</span>\n",
       "2. <span style=white-space:pre-wrap>'\\n\\n                                        Информация о проведении обновления ЕИС\\n                                    '</span>\n",
       "3. <span style=white-space:pre-wrap>'\\n\\n                                        Технические работы на портале esia.gosuslugi.ru\\n                                    '</span>\n",
       "\n",
       "\n"
      ],
      "text/plain": [
       "[1] \"\\n\\n                                        Информация об обновлении версии программного обеспечения\\n                                    \"\n",
       "[2] \"\\n\\n                                        Информация о проведении обновления ЕИС\\n                                    \"                  \n",
       "[3] \"\\n\\n                                        Технические работы на портале esia.gosuslugi.ru\\n                                    \"         "
      ]
     },
     "metadata": {},
     "output_type": "display_data"
    }
   ],
   "source": [
    "html_text(cast)"
   ]
  },
  {
   "cell_type": "code",
   "execution_count": 16,
   "metadata": {
    "ExecuteTime": {
     "end_time": "2019-09-25T10:11:09.889695Z",
     "start_time": "2019-09-25T10:11:09.872Z"
    }
   },
   "outputs": [],
   "source": [
    "library(robotstxt)"
   ]
  },
  {
   "cell_type": "code",
   "execution_count": 17,
   "metadata": {
    "ExecuteTime": {
     "end_time": "2019-09-25T10:11:10.196263Z",
     "start_time": "2019-09-25T10:11:10.079Z"
    }
   },
   "outputs": [
    {
     "name": "stderr",
     "output_type": "stream",
     "text": [
      " zakupki.gov.ru                      No encoding supplied: defaulting to UTF-8.\n",
      "\n",
      "\n"
     ]
    },
    {
     "data": {
      "text/html": [
       "TRUE"
      ],
      "text/latex": [
       "TRUE"
      ],
      "text/markdown": [
       "TRUE"
      ],
      "text/plain": [
       "[1] TRUE"
      ]
     },
     "metadata": {},
     "output_type": "display_data"
    }
   ],
   "source": [
    "paths_allowed(\"http://zakupki.gov.ru/epz/main/public/home.html\")"
   ]
  },
  {
   "cell_type": "markdown",
   "metadata": {},
   "source": [
    "#### Frames\n",
    "\n",
    "Sometimes websites can be composed using frames. These are in effect seperate webpages which are brought together in a frameset. We will need to jump back-and-forth between these frames"
   ]
  },
  {
   "cell_type": "code",
   "execution_count": 39,
   "metadata": {
    "ExecuteTime": {
     "end_time": "2019-09-25T10:33:57.917279Z",
     "start_time": "2019-09-25T10:33:57.903Z"
    }
   },
   "outputs": [],
   "source": [
    "library(RSelenium)\n",
    "library(XML)\n",
    "library(janitor) \n",
    "library(lubridate)\n",
    "library(magrittr)\n",
    "library(dplyr)"
   ]
  },
  {
   "cell_type": "markdown",
   "metadata": {},
   "source": [
    "- [janitor example](https://medium.com/@verajosemanuel/janitor-a-good-r-package-for-data-cleaning-f3c733632ad9)\n",
    "- [pipe types](https://mattkcole.com/2017/07/02/pipes/)\n",
    "    - Standard pipe: %>%  == take df, then do something \n",
    "        - trees %>% dplyr::filter(Girth > 9) == trees[trees \\$ Girth > 9]\n",
    "    - Tree pipe: %T>% == The tree pipe is very similar to the standard pipe, however, it returns the left input instead of the operated value. \n",
    "        - 1:10 %>% mean() => 5.5\n",
    "        - 1:10 %T>% mean() => [1,...,10]\n",
    "        - For example, say we are wrangling data, want to plot it, but also would like to visualize it\n",
    "    - Exposition pipe: %$\\$ $%\n",
    "        - boxplot(mtcars$\\$ $hp) == mtcars %$\\$ $%  boxplot(hp) == mtcars %>%         dplyr::select(hp) %>%      boxplot()\n",
    "    - Compound assignment pipe: %<>%\n",
    "        - The compound assignment pipe rewrites the left hand object with the output of the function to the right.\n",
    "    \n",
    "\n",
    "\n",
    "    "
   ]
  },
  {
   "cell_type": "code",
   "execution_count": 23,
   "metadata": {
    "ExecuteTime": {
     "end_time": "2019-09-25T10:15:08.739014Z",
     "start_time": "2019-09-25T10:15:08.724Z"
    }
   },
   "outputs": [],
   "source": [
    "remDr <- remoteDriver(\n",
    "  port = 4445L\n",
    ")"
   ]
  },
  {
   "cell_type": "code",
   "execution_count": 24,
   "metadata": {
    "ExecuteTime": {
     "end_time": "2019-09-25T10:15:14.472285Z",
     "start_time": "2019-09-25T10:15:09.156Z"
    }
   },
   "outputs": [
    {
     "name": "stdout",
     "output_type": "stream",
     "text": [
      "[1] \"Connecting to remote server\"\n",
      "$applicationCacheEnabled\n",
      "[1] TRUE\n",
      "\n",
      "$rotatable\n",
      "[1] FALSE\n",
      "\n",
      "$handlesAlerts\n",
      "[1] TRUE\n",
      "\n",
      "$databaseEnabled\n",
      "[1] TRUE\n",
      "\n",
      "$version\n",
      "[1] \"45.0.2\"\n",
      "\n",
      "$platform\n",
      "[1] \"LINUX\"\n",
      "\n",
      "$nativeEvents\n",
      "[1] FALSE\n",
      "\n",
      "$acceptSslCerts\n",
      "[1] TRUE\n",
      "\n",
      "$webdriver.remote.sessionid\n",
      "[1] \"ba967c30-8a07-41dd-8dff-aa6bb380d201\"\n",
      "\n",
      "$webStorageEnabled\n",
      "[1] TRUE\n",
      "\n",
      "$locationContextEnabled\n",
      "[1] TRUE\n",
      "\n",
      "$browserName\n",
      "[1] \"firefox\"\n",
      "\n",
      "$takesScreenshot\n",
      "[1] TRUE\n",
      "\n",
      "$javascriptEnabled\n",
      "[1] TRUE\n",
      "\n",
      "$cssSelectorsEnabled\n",
      "[1] TRUE\n",
      "\n",
      "$id\n",
      "[1] \"ba967c30-8a07-41dd-8dff-aa6bb380d201\"\n",
      "\n"
     ]
    }
   ],
   "source": [
    "remDr$open()# Now open TightVNC to follow along with Selenium driving the browser. Set 192.168.99.100:5901 and password: secret# navigate to the main page\n",
    "remDr$navigate(\"https://docs.google.com/spreadsheets/d/1o1PlLIQS8v-XSuEz1eqZB80kcJk9xg5lsbueB7mTg1U/pub?output=html&widget=true#gid=690408156\")# https://docs.google.com/spreadsheets/d/1o1PlLIQS8v-XSuEz1eqZB80kcJk9xg5lsbueB7mTg1U/pub?output=html&widget=true#gid=552987877# look for table element"
   ]
  },
  {
   "cell_type": "code",
   "execution_count": 25,
   "metadata": {
    "ExecuteTime": {
     "end_time": "2019-09-25T10:15:31.980456Z",
     "start_time": "2019-09-25T10:15:31.912Z"
    }
   },
   "outputs": [],
   "source": [
    "tableElem <- remDr$findElement(using = \"id\", \"pageswitcher-content\")# switch to table"
   ]
  },
  {
   "cell_type": "code",
   "execution_count": 26,
   "metadata": {
    "ExecuteTime": {
     "end_time": "2019-09-25T10:15:41.642518Z",
     "start_time": "2019-09-25T10:15:41.613Z"
    }
   },
   "outputs": [],
   "source": [
    "remDr$switchToFrame(tableElem)"
   ]
  },
  {
   "cell_type": "code",
   "execution_count": 30,
   "metadata": {
    "ExecuteTime": {
     "end_time": "2019-09-25T10:16:50.163202Z",
     "start_time": "2019-09-25T10:16:50.080Z"
    }
   },
   "outputs": [
    {
     "data": {
      "text/html": [
       "<strong>$`NULL`</strong> = <table>\n",
       "<thead><tr><th scope=col></th><th scope=col></th><th scope=col></th><th scope=col></th><th scope=col></th><th scope=col></th><th scope=col></th></tr></thead>\n",
       "<tbody>\n",
       "\t<tr><td>1                             </td><td>Team Name                     </td><td>Team Size                     </td><td>Start Time                    </td><td>End Time                      </td><td>Total Time                    </td><td>Puzzles Solved                </td></tr>\n",
       "\t<tr><td>                              </td><td>                              </td><td>                              </td><td>                              </td><td>                              </td><td>                              </td><td>                              </td></tr>\n",
       "\t<tr><td>2                             </td><td>B.R.O.O.K.                    </td><td>4                             </td><td>7:50                          </td><td>8:57                          </td><td>1:07                          </td><td>5                             </td></tr>\n",
       "\t<tr><td>3                             </td><td>Motivated                     </td><td>3                             </td><td>6:46                          </td><td>7:56                          </td><td>1:10                          </td><td>5                             </td></tr>\n",
       "\t<tr><td>4                             </td><td>Tortoise tortes               </td><td>4                             </td><td>6:25                          </td><td>7:52                          </td><td>1:27                          </td><td>5                             </td></tr>\n",
       "\t<tr><td>5                             </td><td>Eat the Puzzle                </td><td>5                             </td><td>6:12                          </td><td>7:40                          </td><td>1:28                          </td><td>5                             </td></tr>\n",
       "\t<tr><td>6                             </td><td>DEMOTIVATED                   </td><td>3                             </td><td>6:30                          </td><td>8:00                          </td><td>1:30                          </td><td>5                             </td></tr>\n",
       "\t<tr><td>7                             </td><td>PLUSCOOL                      </td><td>4                             </td><td>6:40                          </td><td>8:15                          </td><td>1:35                          </td><td>5                             </td></tr>\n",
       "\t<tr><td>8                             </td><td>Mulholland Drives a Gyrocopter</td><td>4                             </td><td>7:10                          </td><td>8:52                          </td><td>1:42                          </td><td>5                             </td></tr>\n",
       "\t<tr><td>9                             </td><td>Squid Squad                   </td><td>2                             </td><td>7:17                          </td><td>9:47                          </td><td>2:30                          </td><td>5                             </td></tr>\n",
       "\t<tr><td>10                            </td><td>Flying Timers                 </td><td>2                             </td><td>6:10                          </td><td>8:40                          </td><td>2:30                          </td><td>5                             </td></tr>\n",
       "\t<tr><td>11                            </td><td>EARFAN DES NEIGES             </td><td>6                             </td><td>6:35                          </td><td>9:15                          </td><td>2:40                          </td><td>5                             </td></tr>\n",
       "\t<tr><td>12                            </td><td>D+D+L+G                       </td><td>4                             </td><td>6:38                          </td><td>9:33                          </td><td>2:55                          </td><td>5                             </td></tr>\n",
       "\t<tr><td>13                            </td><td>Squirrels Approaching         </td><td>4                             </td><td>7:00                          </td><td>8:07                          </td><td>1:07                          </td><td>4                             </td></tr>\n",
       "\t<tr><td>14                            </td><td>The house elves               </td><td>2                             </td><td>7:30                          </td><td>8:45                          </td><td>1:15                          </td><td>4                             </td></tr>\n",
       "</tbody>\n",
       "</table>\n"
      ],
      "text/latex": [
       "\\textbf{\\$`NULL`} = \\begin{tabular}{r|lllllll}\n",
       "  &  &  &  &  &  & \\\\\n",
       "\\hline\n",
       "\t 1                              & Team Name                      & Team Size                      & Start Time                     & End Time                       & Total Time                     & Puzzles Solved                \\\\\n",
       "\t                                &                                &                                &                                &                                &                                &                               \\\\\n",
       "\t 2                              & B.R.O.O.K.                     & 4                              & 7:50                           & 8:57                           & 1:07                           & 5                             \\\\\n",
       "\t 3                              & Motivated                      & 3                              & 6:46                           & 7:56                           & 1:10                           & 5                             \\\\\n",
       "\t 4                              & Tortoise tortes                & 4                              & 6:25                           & 7:52                           & 1:27                           & 5                             \\\\\n",
       "\t 5                              & Eat the Puzzle                 & 5                              & 6:12                           & 7:40                           & 1:28                           & 5                             \\\\\n",
       "\t 6                              & DEMOTIVATED                    & 3                              & 6:30                           & 8:00                           & 1:30                           & 5                             \\\\\n",
       "\t 7                              & PLUSCOOL                       & 4                              & 6:40                           & 8:15                           & 1:35                           & 5                             \\\\\n",
       "\t 8                              & Mulholland Drives a Gyrocopter & 4                              & 7:10                           & 8:52                           & 1:42                           & 5                             \\\\\n",
       "\t 9                              & Squid Squad                    & 2                              & 7:17                           & 9:47                           & 2:30                           & 5                             \\\\\n",
       "\t 10                             & Flying Timers                  & 2                              & 6:10                           & 8:40                           & 2:30                           & 5                             \\\\\n",
       "\t 11                             & EARFAN DES NEIGES              & 6                              & 6:35                           & 9:15                           & 2:40                           & 5                             \\\\\n",
       "\t 12                             & D+D+L+G                        & 4                              & 6:38                           & 9:33                           & 2:55                           & 5                             \\\\\n",
       "\t 13                             & Squirrels Approaching          & 4                              & 7:00                           & 8:07                           & 1:07                           & 4                             \\\\\n",
       "\t 14                             & The house elves                & 2                              & 7:30                           & 8:45                           & 1:15                           & 4                             \\\\\n",
       "\\end{tabular}\n"
      ],
      "text/markdown": [
       "**$`NULL`** = \n",
       " |  |  |  |  |  |  | \n",
       "|---|---|---|---|---|---|---|---|---|---|---|---|---|---|---|\n",
       "| 1                              | Team Name                      | Team Size                      | Start Time                     | End Time                       | Total Time                     | Puzzles Solved                 | \n",
       "|                                |                                |                                |                                |                                |                                |                                | \n",
       "| 2                              | B.R.O.O.K.                     | 4                              | 7:50                           | 8:57                           | 1:07                           | 5                              | \n",
       "| 3                              | Motivated                      | 3                              | 6:46                           | 7:56                           | 1:10                           | 5                              | \n",
       "| 4                              | Tortoise tortes                | 4                              | 6:25                           | 7:52                           | 1:27                           | 5                              | \n",
       "| 5                              | Eat the Puzzle                 | 5                              | 6:12                           | 7:40                           | 1:28                           | 5                              | \n",
       "| 6                              | DEMOTIVATED                    | 3                              | 6:30                           | 8:00                           | 1:30                           | 5                              | \n",
       "| 7                              | PLUSCOOL                       | 4                              | 6:40                           | 8:15                           | 1:35                           | 5                              | \n",
       "| 8                              | Mulholland Drives a Gyrocopter | 4                              | 7:10                           | 8:52                           | 1:42                           | 5                              | \n",
       "| 9                              | Squid Squad                    | 2                              | 7:17                           | 9:47                           | 2:30                           | 5                              | \n",
       "| 10                             | Flying Timers                  | 2                              | 6:10                           | 8:40                           | 2:30                           | 5                              | \n",
       "| 11                             | EARFAN DES NEIGES              | 6                              | 6:35                           | 9:15                           | 2:40                           | 5                              | \n",
       "| 12                             | D+D+L+G                        | 4                              | 6:38                           | 9:33                           | 2:55                           | 5                              | \n",
       "| 13                             | Squirrels Approaching          | 4                              | 7:00                           | 8:07                           | 1:07                           | 4                              | \n",
       "| 14                             | The house elves                | 2                              | 7:30                           | 8:45                           | 1:15                           | 4                              | \n",
       "\n",
       "\n"
      ],
      "text/plain": [
       "$`NULL`\n",
       "                                                                             \n",
       "1   1                      Team Name Team Size Start Time End Time Total Time\n",
       "2                                                                            \n",
       "3   2                     B.R.O.O.K.         4       7:50     8:57       1:07\n",
       "4   3                      Motivated         3       6:46     7:56       1:10\n",
       "5   4                Tortoise tortes         4       6:25     7:52       1:27\n",
       "6   5                 Eat the Puzzle         5       6:12     7:40       1:28\n",
       "7   6                    DEMOTIVATED         3       6:30     8:00       1:30\n",
       "8   7                       PLUSCOOL         4       6:40     8:15       1:35\n",
       "9   8 Mulholland Drives a Gyrocopter         4       7:10     8:52       1:42\n",
       "10  9                    Squid Squad         2       7:17     9:47       2:30\n",
       "11 10                  Flying Timers         2       6:10     8:40       2:30\n",
       "12 11              EARFAN DES NEIGES         6       6:35     9:15       2:40\n",
       "13 12                        D+D+L+G         4       6:38     9:33       2:55\n",
       "14 13          Squirrels Approaching         4       7:00     8:07       1:07\n",
       "15 14                The house elves         2       7:30     8:45       1:15\n",
       "                 \n",
       "1  Puzzles Solved\n",
       "2                \n",
       "3               5\n",
       "4               5\n",
       "5               5\n",
       "6               5\n",
       "7               5\n",
       "8               5\n",
       "9               5\n",
       "10              5\n",
       "11              5\n",
       "12              5\n",
       "13              5\n",
       "14              4\n",
       "15              4\n"
      ]
     },
     "metadata": {},
     "output_type": "display_data"
    }
   ],
   "source": [
    "# parse html\n",
    "doc <- htmlParse(remDr$getPageSource()[[1]])\n",
    "table_tmp <- readHTMLTable(doc)\n",
    "table_tmp"
   ]
  },
  {
   "cell_type": "code",
   "execution_count": 31,
   "metadata": {
    "ExecuteTime": {
     "end_time": "2019-09-25T10:16:52.586650Z",
     "start_time": "2019-09-25T10:16:52.557Z"
    }
   },
   "outputs": [],
   "source": [
    "table_tmp <- table_tmp[[1]][-2,-1]\n",
    "table_tmp <- table_tmp[-1,]\n",
    "colnames(table_tmp) <- c(\"team_name\", \"team_size\", \"start_time\", \"end_time\", \"total_time\", \"puzzels_solved\")\n",
    "table_tmp$city <- rep(\"montreal\", nrow(table_tmp))\n",
    "table_tmp$date <- rep(Sys.Date()-5, nrow(table_tmp))"
   ]
  },
  {
   "cell_type": "code",
   "execution_count": 32,
   "metadata": {
    "ExecuteTime": {
     "end_time": "2019-09-25T10:16:54.170631Z",
     "start_time": "2019-09-25T10:16:54.154Z"
    }
   },
   "outputs": [
    {
     "data": {
      "text/html": [
       "<table>\n",
       "<thead><tr><th></th><th scope=col>team_name</th><th scope=col>team_size</th><th scope=col>start_time</th><th scope=col>end_time</th><th scope=col>total_time</th><th scope=col>puzzels_solved</th><th scope=col>city</th><th scope=col>date</th></tr></thead>\n",
       "<tbody>\n",
       "\t<tr><th scope=row>3</th><td>B.R.O.O.K.                    </td><td>4                             </td><td>7:50                          </td><td>8:57                          </td><td>1:07                          </td><td>5                             </td><td>montreal                      </td><td>2019-09-20                    </td></tr>\n",
       "\t<tr><th scope=row>4</th><td>Motivated                     </td><td>3                             </td><td>6:46                          </td><td>7:56                          </td><td>1:10                          </td><td>5                             </td><td>montreal                      </td><td>2019-09-20                    </td></tr>\n",
       "\t<tr><th scope=row>5</th><td>Tortoise tortes               </td><td>4                             </td><td>6:25                          </td><td>7:52                          </td><td>1:27                          </td><td>5                             </td><td>montreal                      </td><td>2019-09-20                    </td></tr>\n",
       "\t<tr><th scope=row>6</th><td>Eat the Puzzle                </td><td>5                             </td><td>6:12                          </td><td>7:40                          </td><td>1:28                          </td><td>5                             </td><td>montreal                      </td><td>2019-09-20                    </td></tr>\n",
       "\t<tr><th scope=row>7</th><td>DEMOTIVATED                   </td><td>3                             </td><td>6:30                          </td><td>8:00                          </td><td>1:30                          </td><td>5                             </td><td>montreal                      </td><td>2019-09-20                    </td></tr>\n",
       "\t<tr><th scope=row>8</th><td>PLUSCOOL                      </td><td>4                             </td><td>6:40                          </td><td>8:15                          </td><td>1:35                          </td><td>5                             </td><td>montreal                      </td><td>2019-09-20                    </td></tr>\n",
       "\t<tr><th scope=row>9</th><td>Mulholland Drives a Gyrocopter</td><td>4                             </td><td>7:10                          </td><td>8:52                          </td><td>1:42                          </td><td>5                             </td><td>montreal                      </td><td>2019-09-20                    </td></tr>\n",
       "\t<tr><th scope=row>10</th><td>Squid Squad                   </td><td>2                             </td><td>7:17                          </td><td>9:47                          </td><td>2:30                          </td><td>5                             </td><td>montreal                      </td><td>2019-09-20                    </td></tr>\n",
       "\t<tr><th scope=row>11</th><td>Flying Timers                 </td><td>2                             </td><td>6:10                          </td><td>8:40                          </td><td>2:30                          </td><td>5                             </td><td>montreal                      </td><td>2019-09-20                    </td></tr>\n",
       "\t<tr><th scope=row>12</th><td>EARFAN DES NEIGES             </td><td>6                             </td><td>6:35                          </td><td>9:15                          </td><td>2:40                          </td><td>5                             </td><td>montreal                      </td><td>2019-09-20                    </td></tr>\n",
       "\t<tr><th scope=row>13</th><td>D+D+L+G                       </td><td>4                             </td><td>6:38                          </td><td>9:33                          </td><td>2:55                          </td><td>5                             </td><td>montreal                      </td><td>2019-09-20                    </td></tr>\n",
       "\t<tr><th scope=row>14</th><td>Squirrels Approaching         </td><td>4                             </td><td>7:00                          </td><td>8:07                          </td><td>1:07                          </td><td>4                             </td><td>montreal                      </td><td>2019-09-20                    </td></tr>\n",
       "\t<tr><th scope=row>15</th><td>The house elves               </td><td>2                             </td><td>7:30                          </td><td>8:45                          </td><td>1:15                          </td><td>4                             </td><td>montreal                      </td><td>2019-09-20                    </td></tr>\n",
       "</tbody>\n",
       "</table>\n"
      ],
      "text/latex": [
       "\\begin{tabular}{r|llllllll}\n",
       "  & team\\_name & team\\_size & start\\_time & end\\_time & total\\_time & puzzels\\_solved & city & date\\\\\n",
       "\\hline\n",
       "\t3 & B.R.O.O.K.                     & 4                              & 7:50                           & 8:57                           & 1:07                           & 5                              & montreal                       & 2019-09-20                    \\\\\n",
       "\t4 & Motivated                      & 3                              & 6:46                           & 7:56                           & 1:10                           & 5                              & montreal                       & 2019-09-20                    \\\\\n",
       "\t5 & Tortoise tortes                & 4                              & 6:25                           & 7:52                           & 1:27                           & 5                              & montreal                       & 2019-09-20                    \\\\\n",
       "\t6 & Eat the Puzzle                 & 5                              & 6:12                           & 7:40                           & 1:28                           & 5                              & montreal                       & 2019-09-20                    \\\\\n",
       "\t7 & DEMOTIVATED                    & 3                              & 6:30                           & 8:00                           & 1:30                           & 5                              & montreal                       & 2019-09-20                    \\\\\n",
       "\t8 & PLUSCOOL                       & 4                              & 6:40                           & 8:15                           & 1:35                           & 5                              & montreal                       & 2019-09-20                    \\\\\n",
       "\t9 & Mulholland Drives a Gyrocopter & 4                              & 7:10                           & 8:52                           & 1:42                           & 5                              & montreal                       & 2019-09-20                    \\\\\n",
       "\t10 & Squid Squad                    & 2                              & 7:17                           & 9:47                           & 2:30                           & 5                              & montreal                       & 2019-09-20                    \\\\\n",
       "\t11 & Flying Timers                  & 2                              & 6:10                           & 8:40                           & 2:30                           & 5                              & montreal                       & 2019-09-20                    \\\\\n",
       "\t12 & EARFAN DES NEIGES              & 6                              & 6:35                           & 9:15                           & 2:40                           & 5                              & montreal                       & 2019-09-20                    \\\\\n",
       "\t13 & D+D+L+G                        & 4                              & 6:38                           & 9:33                           & 2:55                           & 5                              & montreal                       & 2019-09-20                    \\\\\n",
       "\t14 & Squirrels Approaching          & 4                              & 7:00                           & 8:07                           & 1:07                           & 4                              & montreal                       & 2019-09-20                    \\\\\n",
       "\t15 & The house elves                & 2                              & 7:30                           & 8:45                           & 1:15                           & 4                              & montreal                       & 2019-09-20                    \\\\\n",
       "\\end{tabular}\n"
      ],
      "text/markdown": [
       "\n",
       "| <!--/--> | team_name | team_size | start_time | end_time | total_time | puzzels_solved | city | date | \n",
       "|---|---|---|---|---|---|---|---|---|---|---|---|---|\n",
       "| 3 | B.R.O.O.K.                     | 4                              | 7:50                           | 8:57                           | 1:07                           | 5                              | montreal                       | 2019-09-20                     | \n",
       "| 4 | Motivated                      | 3                              | 6:46                           | 7:56                           | 1:10                           | 5                              | montreal                       | 2019-09-20                     | \n",
       "| 5 | Tortoise tortes                | 4                              | 6:25                           | 7:52                           | 1:27                           | 5                              | montreal                       | 2019-09-20                     | \n",
       "| 6 | Eat the Puzzle                 | 5                              | 6:12                           | 7:40                           | 1:28                           | 5                              | montreal                       | 2019-09-20                     | \n",
       "| 7 | DEMOTIVATED                    | 3                              | 6:30                           | 8:00                           | 1:30                           | 5                              | montreal                       | 2019-09-20                     | \n",
       "| 8 | PLUSCOOL                       | 4                              | 6:40                           | 8:15                           | 1:35                           | 5                              | montreal                       | 2019-09-20                     | \n",
       "| 9 | Mulholland Drives a Gyrocopter | 4                              | 7:10                           | 8:52                           | 1:42                           | 5                              | montreal                       | 2019-09-20                     | \n",
       "| 10 | Squid Squad                    | 2                              | 7:17                           | 9:47                           | 2:30                           | 5                              | montreal                       | 2019-09-20                     | \n",
       "| 11 | Flying Timers                  | 2                              | 6:10                           | 8:40                           | 2:30                           | 5                              | montreal                       | 2019-09-20                     | \n",
       "| 12 | EARFAN DES NEIGES              | 6                              | 6:35                           | 9:15                           | 2:40                           | 5                              | montreal                       | 2019-09-20                     | \n",
       "| 13 | D+D+L+G                        | 4                              | 6:38                           | 9:33                           | 2:55                           | 5                              | montreal                       | 2019-09-20                     | \n",
       "| 14 | Squirrels Approaching          | 4                              | 7:00                           | 8:07                           | 1:07                           | 4                              | montreal                       | 2019-09-20                     | \n",
       "| 15 | The house elves                | 2                              | 7:30                           | 8:45                           | 1:15                           | 4                              | montreal                       | 2019-09-20                     | \n",
       "\n",
       "\n"
      ],
      "text/plain": [
       "   team_name                      team_size start_time end_time total_time\n",
       "3  B.R.O.O.K.                     4         7:50       8:57     1:07      \n",
       "4  Motivated                      3         6:46       7:56     1:10      \n",
       "5  Tortoise tortes                4         6:25       7:52     1:27      \n",
       "6  Eat the Puzzle                 5         6:12       7:40     1:28      \n",
       "7  DEMOTIVATED                    3         6:30       8:00     1:30      \n",
       "8  PLUSCOOL                       4         6:40       8:15     1:35      \n",
       "9  Mulholland Drives a Gyrocopter 4         7:10       8:52     1:42      \n",
       "10 Squid Squad                    2         7:17       9:47     2:30      \n",
       "11 Flying Timers                  2         6:10       8:40     2:30      \n",
       "12 EARFAN DES NEIGES              6         6:35       9:15     2:40      \n",
       "13 D+D+L+G                        4         6:38       9:33     2:55      \n",
       "14 Squirrels Approaching          4         7:00       8:07     1:07      \n",
       "15 The house elves                2         7:30       8:45     1:15      \n",
       "   puzzels_solved city     date      \n",
       "3  5              montreal 2019-09-20\n",
       "4  5              montreal 2019-09-20\n",
       "5  5              montreal 2019-09-20\n",
       "6  5              montreal 2019-09-20\n",
       "7  5              montreal 2019-09-20\n",
       "8  5              montreal 2019-09-20\n",
       "9  5              montreal 2019-09-20\n",
       "10 5              montreal 2019-09-20\n",
       "11 5              montreal 2019-09-20\n",
       "12 5              montreal 2019-09-20\n",
       "13 5              montreal 2019-09-20\n",
       "14 4              montreal 2019-09-20\n",
       "15 4              montreal 2019-09-20"
      ]
     },
     "metadata": {},
     "output_type": "display_data"
    }
   ],
   "source": [
    "table_tmp"
   ]
  },
  {
   "cell_type": "code",
   "execution_count": 33,
   "metadata": {
    "ExecuteTime": {
     "end_time": "2019-09-25T10:18:08.153130Z",
     "start_time": "2019-09-25T10:18:08.118Z"
    }
   },
   "outputs": [],
   "source": [
    "# switch back to the main/outter frame\n",
    "remDr$switchToFrame(NULL)# find the elements you'll manipulate with Inspector mode in a browser"
   ]
  },
  {
   "cell_type": "code",
   "execution_count": 34,
   "metadata": {
    "ExecuteTime": {
     "end_time": "2019-09-25T10:18:18.865644Z",
     "start_time": "2019-09-25T10:18:18.659Z"
    }
   },
   "outputs": [],
   "source": [
    "webElems <- remDr$findElements(using = \"css\", \".switcherItem\") # Month/Year tabs at the bottom\n",
    "arrowElems <- remDr$findElements(using = \"css\", \".switcherArrows\") # Arrows to scroll left and right at the bottom\n",
    "tableElem <- remDr$findElement(using = \"id\", \"pageswitcher-content\") # The inner table frame"
   ]
  },
  {
   "cell_type": "code",
   "execution_count": 36,
   "metadata": {
    "ExecuteTime": {
     "end_time": "2019-09-25T10:19:00.934613Z",
     "start_time": "2019-09-25T10:19:00.915Z"
    }
   },
   "outputs": [
    {
     "data": {
      "text/html": [
       "58"
      ],
      "text/latex": [
       "58"
      ],
      "text/markdown": [
       "58"
      ],
      "text/plain": [
       "[1] 58"
      ]
     },
     "metadata": {},
     "output_type": "display_data"
    }
   ],
   "source": [
    "length(webElems)"
   ]
  },
  {
   "cell_type": "code",
   "execution_count": null,
   "metadata": {
    "ExecuteTime": {
     "end_time": "2019-09-25T10:23:56.859752Z",
     "start_time": "2019-09-25T10:23:56.852Z"
    }
   },
   "outputs": [],
   "source": [
    "# Create NULL object to be used in forloop\n",
    "big_df <- NULL\n",
    "for (i in seq(length(webElems))){ # for every \n",
    "check <- try(expression, silent = TRUE) # or suppressMessages(try(expression, silent = TRUE))\n",
    "if (any(class(check) == \"try-error\")) {\n",
    "        # choose the i'th Month/Year tab \n",
    "        webElem <- webElems[[i]]\n",
    "        webElem$clickElement()\n",
    "\n",
    "# Find the tableElem again other wise you get a StaleElementReference \n",
    "## TO DO: look into WebDriverWait: https://stackoverflow.com/questions/5709204/random-element-is-no-longer-attached-to-the-dom-staleelementreferenceexception \n",
    "tableElem <- remDr$findElement(using = \"id\", \"pageswitcher-content\") # The inner table frame\n",
    "    \n",
    "# switch to table frame\n",
    "remDr$switchToFrame(tableElem)\n",
    "Sys.sleep(3)\n",
    "# parse html with XML package\n",
    "doc <- htmlParse(remDr$getPageSource()[[1]])\n",
    "Sys.sleep(3)\n",
    "# Extract data from HTML table in HTML doucment\n",
    "table_tmp <- readHTMLTable(doc)\n",
    "Sys.sleep(3)\n",
    "# put this into a format you can use\n",
    "table <- table_tmp[[1]][-2,-1]\n",
    "table <- table[-1,]\n",
    "# rename the columns\n",
    "colnames(table) <- c(\"team_name\", \"team_size\", \"start_time\", \"end_time\", \"total_time\", \"puzzels_solved\")\n",
    "# add city name to a column\n",
    "table$city <- rep(\"Montreal\", nrow(table))\n",
    "    \n",
    "# add the Month/Year this table was extracted from\n",
    "today <- Sys.Date() %m-% months(i + 1)\n",
    "table$date <- today\n",
    "    \n",
    "# concatenate each table together\n",
    "big_df <- dplyr::bind_rows(big_df, table)\n",
    "    \n",
    "# Switch back to the main frame\n",
    "remDr$switchToFrame(NULL)\n",
    "    \n",
    "arrowElem <- arrowElems[[1]]\n",
    "# once you \"click\"\" the element it is \"held down\" as far as I know there is no way to \" unclick\"\n",
    "# to prevent it from scrolling too far I make sure not to take too long by setting the sleep short\n",
    "arrowElem$clickElement()\n",
    "# give it \"just enough time\" to scroll right\n",
    "Sys.sleep(0.3)\n",
    "# switch back to outer frame to re-start the loop\n",
    "remDr$switchToFrame(NULL)\n",
    "        }\n",
    "}\n",
    "temp1 <- dplyr::bind_rows(table_tmp, big_df)"
   ]
  },
  {
   "cell_type": "markdown",
   "metadata": {},
   "source": [
    "when it tries to click the right arrow but it’s as far to the right as it can go"
   ]
  },
  {
   "cell_type": "code",
   "execution_count": null,
   "metadata": {},
   "outputs": [],
   "source": [
    "check <- try(expression, silent = TRUE) # or \n",
    "suppressMessages(try(expression, silent = TRUE))\n",
    "if (any(class(check) == \"try-error\")) {\n",
    "  # do stuff\n",
    "}"
   ]
  },
  {
   "cell_type": "markdown",
   "metadata": {},
   "source": [
    "####  scrapping the tables"
   ]
  },
  {
   "cell_type": "code",
   "execution_count": null,
   "metadata": {},
   "outputs": [],
   "source": [
    "remDr <- RSelenium::remoteDriver(\n",
    "  port = 4445L\n",
    ")\n",
    "remDr$open(silent = TRUE)\n",
    "\n",
    "# navigate to the main page\n",
    "# needs no be done once before looping, else content is not available\n",
    "remDr$navigate(\"https://docs.google.com/spreadsheets/d/1o1PlLIQS8v-XSuEz1eqZB80kcJk9xg5lsbueB7mTg1U/pub?output=html&widget=true#gid=690408156\")\n",
    "\n",
    "# I. Preliminaries:\n",
    "\n",
    "# 1. build the links to all spreadsheets\n",
    "\n",
    "# get page source\n",
    "html <- remDr$getPageSource()[[1]]\n",
    "# split it line by line\n",
    "html <- unlist(strsplit(html, '\\n'))\n",
    "# restrict to script section\n",
    "script <- grep('^\\\\s*var\\\\s+gidMatch', html, value = TRUE)\n",
    "# split the script by semi-colon\n",
    "script <- unlist(strsplit(script, ';'))\n",
    "# retrieve information\n",
    "sheet_months <- gsub('.*name:.{2}(.*?).{1},.*', '\\\\1', \n",
    "                     grep('\\\\{name\\\\s*\\\\:', script, value = TRUE), perl = TRUE)\n",
    "sheet_gid <- gsub('.*gid:.{2}(.*?).{1},.*', '\\\\1', \n",
    "                  grep('\\\\gid\\\\s*\\\\:', script, value = TRUE), perl = TRUE)\n",
    "sheet_url <- paste0('https://docs.google.com/spreadsheets/d/1o1PlLIQS8v-XSuEz1eqZB80kcJk9xg5lsbueB7mTg1U/pubhtml/sheet?headers%5Cx3dfalse&gid=',\n",
    "                    sheet_gid)\n",
    "\n",
    "# 2. define the function create_table\n",
    "\n",
    "# table yielding function\n",
    "# just for readability in the loop\n",
    "create_table <- function (remDr) {\n",
    "  # parse html with XML package\n",
    "  doc <- XML::htmlParse(remDr$getPageSource()[[1]])\n",
    "  Sys.sleep(3)\n",
    "  # Extract data from HTML table in HTML document\n",
    "  table_tmp <- XML::readHTMLTable(doc)\n",
    "  Sys.sleep(3)\n",
    "  # put this into a format you can use\n",
    "  table <- table_tmp[[1]][-2, -1]\n",
    "  # add a check-up for size mismatch\n",
    "  table_fields <- as.character(t(table[1,]))\n",
    "  if (! any(grepl(\"size\", tolower(table_fields)))) {\n",
    "    table <- table[-1, ]\n",
    "    # rename the columns\n",
    "    colnames(table) <- c(\"team_name\", \"start_time\", \"end_time\", \"total_time\", \"puzzels_solved\")\n",
    "    table$team_size <- NA_integer_\n",
    "    table <- table[,c(\"team_name\", \"team_size\", \"start_time\", \"end_time\", \"total_time\", \"puzzels_solved\")]\n",
    "  } else {\n",
    "    table <- table[-1, ]\n",
    "    # rename the columns\n",
    "    colnames(table) <- c(\"team_name\", \"team_size\", \"start_time\", \"end_time\", \"total_time\", \"puzzels_solved\")\n",
    "  }\n",
    "  # add city name to a column\n",
    "  table$city <- rep(\"Montreal\", nrow(table))\n",
    "\n",
    "  # add the Month/Year this table was extracted from\n",
    "  today <- Sys.Date()\n",
    "  lubridate::month(today) <- lubridate::month(today)+1\n",
    "  table$date <- today\n",
    "\n",
    "  # returns the table\n",
    "  table\n",
    "}\n",
    "\n",
    "# II. Scrapping the content\n",
    "# \n",
    "# 1. selenium to generate the pages\n",
    "big_df <- NULL\n",
    "for (k in seq_along(sheet_url)) {\n",
    "  # 1. navigate to the page\n",
    "  remDr$navigate(sheet_url[k])\n",
    "  # remDr$screenshot(display = TRUE) maybe one wants to see progress\n",
    "  table <- create_table(remDr)\n",
    "\n",
    "# 2. use create_table to extract the table\n",
    "  big_df <- dplyr::bind_rows(big_df, table)\n",
    "\n",
    "  # inform progress \n",
    "  cat(paste0('\\nGathered table for: \\t', sheet_months[k]))\n",
    "}\n",
    "\n",
    "# close session\n",
    "remDr$close()"
   ]
  }
 ],
 "metadata": {
  "hide_input": false,
  "kernelspec": {
   "display_name": "R 4.0.2",
   "language": "R",
   "name": "ir"
  },
  "language_info": {
   "codemirror_mode": "r",
   "file_extension": ".r",
   "mimetype": "text/x-r-source",
   "name": "R",
   "pygments_lexer": "r",
   "version": "4.0.4"
  },
  "latex_envs": {
   "LaTeX_envs_menu_present": true,
   "autoclose": true,
   "autocomplete": true,
   "bibliofile": "biblio.bib",
   "cite_by": "apalike",
   "current_citInitial": 1,
   "eqLabelWithNumbers": true,
   "eqNumInitial": 1,
   "hotkeys": {
    "equation": "Ctrl-E",
    "itemize": "Ctrl-I"
   },
   "labels_anchors": false,
   "latex_user_defs": false,
   "report_style_numbering": false,
   "user_envs_cfg": false
  },
  "toc": {
   "base_numbering": 1,
   "nav_menu": {},
   "number_sections": true,
   "sideBar": true,
   "skip_h1_title": false,
   "title_cell": "Table of Contents",
   "title_sidebar": "Contents",
   "toc_cell": false,
   "toc_position": {},
   "toc_section_display": true,
   "toc_window_display": false
  },
  "varInspector": {
   "cols": {
    "lenName": 16,
    "lenType": 16,
    "lenVar": 40
   },
   "kernels_config": {
    "python": {
     "delete_cmd_postfix": "",
     "delete_cmd_prefix": "del ",
     "library": "var_list.py",
     "varRefreshCmd": "print(var_dic_list())"
    },
    "r": {
     "delete_cmd_postfix": ") ",
     "delete_cmd_prefix": "rm(",
     "library": "var_list.r",
     "varRefreshCmd": "cat(var_dic_list()) "
    }
   },
   "types_to_exclude": [
    "module",
    "function",
    "builtin_function_or_method",
    "instance",
    "_Feature"
   ],
   "window_display": false
  }
 },
 "nbformat": 4,
 "nbformat_minor": 2
}
